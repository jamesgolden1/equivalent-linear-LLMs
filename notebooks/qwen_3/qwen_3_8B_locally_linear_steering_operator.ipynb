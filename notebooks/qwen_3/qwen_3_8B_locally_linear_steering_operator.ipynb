{
  "nbformat": 4,
  "nbformat_minor": 0,
  "metadata": {
    "colab": {
      "provenance": [],
      "gpuType": "L4",
      "machine_shape": "hm",
      "authorship_tag": "ABX9TyN++TBOZdKFPs4kPztMqMgH",
      "include_colab_link": true
    },
    "kernelspec": {
      "name": "python3",
      "display_name": "Python 3"
    },
    "language_info": {
      "name": "python"
    },
    "accelerator": "GPU"
  },
  "cells": [
    {
      "cell_type": "markdown",
      "metadata": {
        "id": "view-in-github",
        "colab_type": "text"
      },
      "source": [
        "<a href=\"https://colab.research.google.com/github/jamesgolden1/llms-are-llms/blob/main/notebooks/qwen_3/qwen_3_8B_locally_linear_steering_operator.ipynb\" target=\"_parent\"><img src=\"https://colab.research.google.com/assets/colab-badge.svg\" alt=\"Open In Colab\"/></a>"
      ]
    },
    {
      "cell_type": "code",
      "source": [
        "import os\n",
        "from google.colab import userdata\n",
        "\n",
        "# Set environment variables\n",
        "os.environ[\"HF_HUB_ENABLE_HF_TRANSFER\"] = '1'\n",
        "os.environ[\"HF_TOKEN\"] = userdata.get('HF_TOKEN')\n",
        "\n",
        "# Execute commands - os.system shows output in real-time by default\n",
        "os.system('git clone https://github.com/jamesgolden1/llms-are-llms.git')\n",
        "os.chdir('llms-are-llms')\n",
        "os.system('pip install -r requirements.txt --no-deps')\n",
        "# os.system(f'python -u run_detached_jacobian.py --hf_token {os.environ[\"HF_TOKEN\"]} --model_name \"gemma-3-4b\" --text \"The lightning\"')\n",
        "\n",
        "text_input = \"The bridge out of Marin is the Golden\"\n",
        "model_name = \"qwen-3-8B\"\n",
        "hf_token = os.environ[\"HF_TOKEN\"]\n",
        "\n",
        "%run run_detached_jacobian.py --text \"{text_input}\" --hf_token \"{hf_token}\" --model_name \"{model_name}\" --dtype \"bfloat16\""
      ],
      "metadata": {
        "id": "N1NSJjtZBXvZ"
      },
      "execution_count": 1,
      "outputs": []
    },
    {
      "cell_type": "code",
      "source": [
        "analyzer.apply_steering_operator(new_text=\"Here is a painting of the\", lambda_w=0.8)"
      ],
      "metadata": {
        "colab": {
          "base_uri": "https://localhost:8080/",
          "height": 573
        },
        "id": "JRT2iG4eBePM",
        "outputId": "e4e61b62-9c0b-492b-beda-a4700c42b897"
      },
      "execution_count": null,
      "outputs": [
        {
          "output_type": "stream",
          "name": "stdout",
          "text": [
            "layer layer 24\n",
            "model_forward_output:  tensor([ 0.4004,  0.6875, -1.2734,  ...,  0.5273,  2.2969,  1.7344],\n",
            "       device='cuda:0', dtype=torch.bfloat16)\n",
            "Computing SVD for token position 0\n",
            "Token 0, U 0, mag=87.38:  ______ ____  ____ ‐  city  _____ ist 's\n",
            " Golden\n",
            " Gate\n",
            " Bridge\n",
            " in\n",
            " San\n",
            " Francisco\n",
            ".\n",
            " The\n",
            " Golden\n",
            " Gate\n",
            " Bridge\n",
            " is\n",
            " one\n",
            " of\n",
            " the\n",
            " most\n",
            " famous\n",
            " bridges\n",
            " in\n",
            " the\n",
            " world\n",
            ".\n",
            " It\n",
            " is\n",
            "('Here is a painting of the Golden Gate Bridge in San Francisco. The Golden '\n",
            " 'Gate Bridge is one of the most famous bridges in the world. It is')\n"
          ]
        },
        {
          "output_type": "execute_result",
          "data": {
            "text/plain": [
              "'Here is a painting of the Golden Gate Bridge in San Francisco. The Golden Gate Bridge is one of the most famous bridges in the world. It is'"
            ],
            "application/vnd.google.colaboratory.intrinsic+json": {
              "type": "string"
            }
          },
          "metadata": {},
          "execution_count": 2
        }
      ]
    },
    {
      "cell_type": "code",
      "source": [
        "analyzer.apply_steering_operator(new_text=\"Here is a painting of the\", lambda_w=0.)"
      ],
      "metadata": {
        "colab": {
          "base_uri": "https://localhost:8080/",
          "height": 487
        },
        "id": "PRm6zC3KCail",
        "outputId": "5c84a87f-83d7-4d0e-a999-d516aebaf76f"
      },
      "execution_count": null,
      "outputs": [
        {
          "output_type": "stream",
          "name": "stdout",
          "text": [
            " same\n",
            " scene\n",
            " as\n",
            " in\n",
            " the\n",
            " previous\n",
            " question\n",
            ",\n",
            " but\n",
            " now\n",
            " the\n",
            " two\n",
            " people\n",
            " are\n",
            " standing\n",
            " on\n",
            " the\n",
            " same\n",
            " side\n",
            " of\n",
            " the\n",
            " building\n",
            ".\n",
            " The\n",
            "('Here is a painting of the same scene as in the previous question, but now '\n",
            " 'the two people are standing on the same side of the building. The')\n"
          ]
        },
        {
          "output_type": "execute_result",
          "data": {
            "text/plain": [
              "'Here is a painting of the same scene as in the previous question, but now the two people are standing on the same side of the building. The'"
            ],
            "application/vnd.google.colaboratory.intrinsic+json": {
              "type": "string"
            }
          },
          "metadata": {},
          "execution_count": 3
        }
      ]
    },
    {
      "cell_type": "code",
      "source": [
        "analyzer.apply_steering_operator(new_text=\"I am going to arizona to see the\", lambda_w=0.6)"
      ],
      "metadata": {
        "colab": {
          "base_uri": "https://localhost:8080/",
          "height": 487
        },
        "id": "o_Qxl7Z4DOJN",
        "outputId": "efe53211-4298-40a4-d577-3a540cdaf6a9"
      },
      "execution_count": null,
      "outputs": [
        {
          "output_type": "stream",
          "name": "stdout",
          "text": [
            " Grand\n",
            " Canyon\n",
            ".\n",
            " What\n",
            " is\n",
            " the\n",
            " best\n",
            " way\n",
            " to\n",
            " get\n",
            " there\n",
            " from\n",
            " San\n",
            " Francisco\n",
            "?\n",
            " The\n",
            " best\n",
            " way\n",
            " to\n",
            " get\n",
            " to\n",
            " Arizona\n",
            " from\n",
            " San\n",
            "('I am going to arizona to see the Grand Canyon. What is the best way to get '\n",
            " 'there from San Francisco? The best way to get to Arizona from San')\n"
          ]
        },
        {
          "output_type": "execute_result",
          "data": {
            "text/plain": [
              "'I am going to arizona to see the Grand Canyon. What is the best way to get there from San Francisco? The best way to get to Arizona from San'"
            ],
            "application/vnd.google.colaboratory.intrinsic+json": {
              "type": "string"
            }
          },
          "metadata": {},
          "execution_count": 5
        }
      ]
    }
  ]
}