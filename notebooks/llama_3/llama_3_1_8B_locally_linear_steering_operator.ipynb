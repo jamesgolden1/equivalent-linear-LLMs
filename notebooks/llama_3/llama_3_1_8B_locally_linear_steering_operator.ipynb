{
  "nbformat": 4,
  "nbformat_minor": 0,
  "metadata": {
    "colab": {
      "provenance": [],
      "gpuType": "L4",
      "machine_shape": "hm",
      "authorship_tag": "ABX9TyOrLI5D0Ug1CZWStflBvlzY",
      "include_colab_link": true
    },
    "kernelspec": {
      "name": "python3",
      "display_name": "Python 3"
    },
    "language_info": {
      "name": "python"
    },
    "accelerator": "GPU"
  },
  "cells": [
    {
      "cell_type": "markdown",
      "metadata": {
        "id": "view-in-github",
        "colab_type": "text"
      },
      "source": [
        "<a href=\"https://colab.research.google.com/github/jamesgolden1/llms-are-llms/blob/main/notebooks/llama_3/llama_3_1_8B_locally_linear_steering_operator.ipynb\" target=\"_parent\"><img src=\"https://colab.research.google.com/assets/colab-badge.svg\" alt=\"Open In Colab\"/></a>"
      ]
    },
    {
      "cell_type": "code",
      "source": [
        "import os\n",
        "from google.colab import userdata\n",
        "\n",
        "# Set environment variables\n",
        "os.environ[\"HF_HUB_ENABLE_HF_TRANSFER\"] = '1'\n",
        "os.environ[\"HF_TOKEN\"] = userdata.get('HF_TOKEN')\n",
        "\n",
        "# Execute commands - os.system shows output in real-time by default\n",
        "os.system('git clone https://github.com/jamesgolden1/llms-are-llms.git')\n",
        "os.chdir('llms-are-llms')\n",
        "os.system('pip install -r requirements.txt --no-deps')\n",
        "# os.system(f'python -u run_detached_jacobian.py --hf_token {os.environ[\"HF_TOKEN\"]} --model_name \"gemma-3-4b\" --text \"The lightning\"')\n",
        "\n",
        "text_input = \"The bridge out of Marin is the Golden\"\n",
        "model_name = \"llama-3.1-8B\"\n",
        "hf_token = os.environ[\"HF_TOKEN\"]\n",
        "\n",
        "%run run_detached_jacobian.py --text \"{text_input}\" --hf_token \"{hf_token}\" --model_name \"{model_name}\" --dtype \"bfloat16\""
      ],
      "metadata": {
        "id": "Tcr8JZf8yuUN"
      },
      "execution_count": 24,
      "outputs": []
    },
    {
      "cell_type": "code",
      "source": [
        "analyzer.apply_steering_operator(tlen=34,new_text=\"I'm going to arizona to see the\", lsplit = 22, lambda_w=0.5065)"
      ],
      "metadata": {
        "id": "_nJPKIT4y4jK",
        "outputId": "eb5c9cb1-ef12-47b4-9c92-5e2e0768f554",
        "colab": {
          "base_uri": "https://localhost:8080/",
          "height": 782
        }
      },
      "execution_count": 3,
      "outputs": [
        {
          "output_type": "stream",
          "name": "stdout",
          "text": [
            "layer layer 22\n",
            "model_forward_output:  tensor([-2.4531, -1.2266, -0.1758,  ..., -6.0625,  3.8125,  1.4297],\n",
            "       device='cuda:0', dtype=torch.bfloat16)\n",
            "Computing SVD for token position 0\n",
            "Token 0, U 0, mag=596.26: rod  Bay engo  bridge  Golden aires ­i  Sacramento\n",
            " Grand\n",
            " Canyon\n",
            ",\n",
            " and\n",
            " I\n",
            "'m\n",
            " planning\n",
            " to\n",
            " hike\n",
            " the\n",
            " Bright\n",
            " Golden\n",
            " Gate\n",
            " Bridge\n",
            " (\n",
            "I\n",
            " think\n",
            " that\n",
            "'s\n",
            " the\n",
            " name\n",
            " of\n",
            " the\n",
            " trail\n",
            ")\n",
            " in\n",
            " the\n",
            " Grand\n",
            " Canyon\n",
            ".\n",
            " I\n",
            "'ve\n",
            " been\n",
            " hiking\n",
            "(\"I'm going to arizona to see the Grand Canyon, and I'm planning to hike the \"\n",
            " \"Bright Golden Gate Bridge (I think that's the name of the trail) in the \"\n",
            " \"Grand Canyon. I've been hiking\")\n"
          ]
        },
        {
          "output_type": "execute_result",
          "data": {
            "text/plain": [
              "\"I'm going to arizona to see the Grand Canyon, and I'm planning to hike the Bright Golden Gate Bridge (I think that's the name of the trail) in the Grand Canyon. I've been hiking\""
            ],
            "application/vnd.google.colaboratory.intrinsic+json": {
              "type": "string"
            }
          },
          "metadata": {},
          "execution_count": 3
        }
      ]
    },
    {
      "cell_type": "code",
      "source": [
        "analyzer.apply_steering_operator(tlen=34,new_text=\"I'm going to arizona to see the\", lsplit = 22, lambda_w=0.)"
      ],
      "metadata": {
        "id": "T4bGFOD_8Iot",
        "outputId": "c0dcd23c-0708-45ae-f9f0-7dc511c4ce93",
        "colab": {
          "base_uri": "https://localhost:8080/",
          "height": 695
        }
      },
      "execution_count": 4,
      "outputs": [
        {
          "output_type": "stream",
          "name": "stdout",
          "text": [
            " Grand\n",
            " Canyon\n",
            ".\n",
            " I\n",
            "'ve\n",
            " heard\n",
            " it\n",
            "'s\n",
            " a\n",
            " must\n",
            " see\n",
            ".\n",
            " I\n",
            "'ve\n",
            " also\n",
            " heard\n",
            " it\n",
            "'s\n",
            " a\n",
            " bit\n",
            " of\n",
            " a\n",
            " trek\n",
            " to\n",
            " get\n",
            " there\n",
            ".\n",
            " Is\n",
            " that\n",
            " true\n",
            "?\n",
            "Yes\n",
            ",\n",
            " the\n",
            "(\"I'm going to arizona to see the Grand Canyon. I've heard it's a must see. \"\n",
            " \"I've also heard it's a bit of a trek to get there. Is that true?\\n\"\n",
            " 'Yes, the')\n"
          ]
        },
        {
          "output_type": "execute_result",
          "data": {
            "text/plain": [
              "\"I'm going to arizona to see the Grand Canyon. I've heard it's a must see. I've also heard it's a bit of a trek to get there. Is that true?\\nYes, the\""
            ],
            "application/vnd.google.colaboratory.intrinsic+json": {
              "type": "string"
            }
          },
          "metadata": {},
          "execution_count": 4
        }
      ]
    }
  ]
}