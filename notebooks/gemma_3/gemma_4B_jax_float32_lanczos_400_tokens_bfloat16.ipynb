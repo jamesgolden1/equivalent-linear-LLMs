{
  "nbformat": 4,
  "nbformat_minor": 0,
  "metadata": {
    "colab": {
      "provenance": [],
      "gpuType": "A100",
      "machine_shape": "hm",
      "runtime_attributes": {
        "runtime_version": "2025.07"
      },
      "authorship_tag": "ABX9TyPxuZXy8wyJ1gFDw5Jwc3yC",
      "include_colab_link": true
    },
    "kernelspec": {
      "name": "python3",
      "display_name": "Python 3"
    },
    "language_info": {
      "name": "python"
    },
    "accelerator": "GPU"
  },
  "cells": [
    {
      "cell_type": "markdown",
      "metadata": {
        "id": "view-in-github",
        "colab_type": "text"
      },
      "source": [
        "<a href=\"https://colab.research.google.com/github/jamesgolden1/llms-are-llms/blob/main/notebooks/gemma_3/gemma_4B_jax_float32_lanczos_400_tokens_bfloat16.ipynb\" target=\"_parent\"><img src=\"https://colab.research.google.com/assets/colab-badge.svg\" alt=\"Open In Colab\"/></a>"
      ]
    },
    {
      "cell_type": "code",
      "source": [
        "%load_ext autoreload\n",
        "%autoreload 2"
      ],
      "metadata": {
        "id": "bOpoewV-HsXI"
      },
      "execution_count": null,
      "outputs": []
    },
    {
      "cell_type": "code",
      "source": [
        "# %load"
      ],
      "metadata": {
        "id": "rGdxJjltHmAD"
      },
      "execution_count": null,
      "outputs": []
    },
    {
      "cell_type": "code",
      "execution_count": null,
      "metadata": {
        "id": "aSGZzIJxyp8K",
        "colab": {
          "base_uri": "https://localhost:8080/"
        },
        "outputId": "4704057c-c626-4bed-f47f-924f321c77e9"
      },
      "outputs": [
        {
          "output_type": "stream",
          "name": "stdout",
          "text": [
            "\u001b[?25l     \u001b[90m━━━━━━━━━━━━━━━━━━━━━━━━━━━━━━━━━━━━━━━━\u001b[0m \u001b[32m0.0/5.7 MB\u001b[0m \u001b[31m?\u001b[0m eta \u001b[36m-:--:--\u001b[0m\r\u001b[2K     \u001b[91m━━━━━━━━━━━━━━━━━━━━━━━━━━━━━━━━━━━━\u001b[0m\u001b[90m╺\u001b[0m\u001b[90m━━━\u001b[0m \u001b[32m5.1/5.7 MB\u001b[0m \u001b[31m154.5 MB/s\u001b[0m eta \u001b[36m0:00:01\u001b[0m\r\u001b[2K     \u001b[90m━━━━━━━━━━━━━━━━━━━━━━━━━━━━━━━━━━━━━━━━\u001b[0m \u001b[32m5.7/5.7 MB\u001b[0m \u001b[31m89.8 MB/s\u001b[0m eta \u001b[36m0:00:00\u001b[0m\n",
            "\u001b[?25h  Preparing metadata (setup.py) ... \u001b[?25l\u001b[?25hdone\n",
            "\u001b[2K   \u001b[90m━━━━━━━━━━━━━━━━━━━━━━━━━━━━━━━━━━━━━━━━\u001b[0m \u001b[32m181.0/181.0 kB\u001b[0m \u001b[31m16.9 MB/s\u001b[0m eta \u001b[36m0:00:00\u001b[0m\n",
            "\u001b[2K   \u001b[90m━━━━━━━━━━━━━━━━━━━━━━━━━━━━━━━━━━━━━━━━\u001b[0m \u001b[32m486.6/486.6 kB\u001b[0m \u001b[31m30.1 MB/s\u001b[0m eta \u001b[36m0:00:00\u001b[0m\n",
            "\u001b[2K   \u001b[90m━━━━━━━━━━━━━━━━━━━━━━━━━━━━━━━━━━━━━━━━\u001b[0m \u001b[32m55.4/55.4 kB\u001b[0m \u001b[31m5.5 MB/s\u001b[0m eta \u001b[36m0:00:00\u001b[0m\n",
            "\u001b[2K   \u001b[90m━━━━━━━━━━━━━━━━━━━━━━━━━━━━━━━━━━━━━━━━\u001b[0m \u001b[32m492.3/492.3 kB\u001b[0m \u001b[31m40.1 MB/s\u001b[0m eta \u001b[36m0:00:00\u001b[0m\n",
            "\u001b[2K   \u001b[90m━━━━━━━━━━━━━━━━━━━━━━━━━━━━━━━━━━━━━━━━\u001b[0m \u001b[32m101.8/101.8 kB\u001b[0m \u001b[31m9.2 MB/s\u001b[0m eta \u001b[36m0:00:00\u001b[0m\n",
            "\u001b[2K   \u001b[90m━━━━━━━━━━━━━━━━━━━━━━━━━━━━━━━━━━━━━━━━\u001b[0m \u001b[32m111.0/111.0 kB\u001b[0m \u001b[31m11.5 MB/s\u001b[0m eta \u001b[36m0:00:00\u001b[0m\n",
            "\u001b[2K   \u001b[90m━━━━━━━━━━━━━━━━━━━━━━━━━━━━━━━━━━━━━━━━\u001b[0m \u001b[32m76.7/76.7 kB\u001b[0m \u001b[31m7.6 MB/s\u001b[0m eta \u001b[36m0:00:00\u001b[0m\n",
            "\u001b[2K   \u001b[90m━━━━━━━━━━━━━━━━━━━━━━━━━━━━━━━━━━━━━━━━\u001b[0m \u001b[32m224.9/224.9 kB\u001b[0m \u001b[31m23.9 MB/s\u001b[0m eta \u001b[36m0:00:00\u001b[0m\n",
            "\u001b[2K   \u001b[90m━━━━━━━━━━━━━━━━━━━━━━━━━━━━━━━━━━━━━━━━\u001b[0m \u001b[32m159.9/159.9 kB\u001b[0m \u001b[31m17.0 MB/s\u001b[0m eta \u001b[36m0:00:00\u001b[0m\n",
            "\u001b[2K   \u001b[90m━━━━━━━━━━━━━━━━━━━━━━━━━━━━━━━━━━━━━━━━\u001b[0m \u001b[32m49.3/49.3 kB\u001b[0m \u001b[31m5.0 MB/s\u001b[0m eta \u001b[36m0:00:00\u001b[0m\n",
            "\u001b[2K   \u001b[90m━━━━━━━━━━━━━━━━━━━━━━━━━━━━━━━━━━━━━━━━\u001b[0m \u001b[32m147.8/147.8 kB\u001b[0m \u001b[31m15.9 MB/s\u001b[0m eta \u001b[36m0:00:00\u001b[0m\n",
            "\u001b[2K   \u001b[90m━━━━━━━━━━━━━━━━━━━━━━━━━━━━━━━━━━━━━━━━\u001b[0m \u001b[32m1.9/1.9 MB\u001b[0m \u001b[31m76.8 MB/s\u001b[0m eta \u001b[36m0:00:00\u001b[0m\n",
            "\u001b[2K   \u001b[90m━━━━━━━━━━━━━━━━━━━━━━━━━━━━━━━━━━━━━━━━\u001b[0m \u001b[32m313.6/313.6 kB\u001b[0m \u001b[31m29.4 MB/s\u001b[0m eta \u001b[36m0:00:00\u001b[0m\n",
            "\u001b[2K   \u001b[90m━━━━━━━━━━━━━━━━━━━━━━━━━━━━━━━━━━━━━━━━\u001b[0m \u001b[32m1.6/1.6 MB\u001b[0m \u001b[31m78.1 MB/s\u001b[0m eta \u001b[36m0:00:00\u001b[0m\n",
            "\u001b[?25h  Building wheel for sqlalchemy (setup.py) ... \u001b[?25l\u001b[?25hdone\n",
            "\u001b[31mERROR: pip's dependency resolver does not currently take into account all the packages that are installed. This behaviour is the source of the following dependency conflicts.\n",
            "ipython-sql 0.5.0 requires sqlalchemy>=2.0, but you have sqlalchemy 1.2.19 which is incompatible.\n",
            "langchain 0.3.27 requires SQLAlchemy<3,>=1.4, but you have sqlalchemy 1.2.19 which is incompatible.\u001b[0m\u001b[31m\n",
            "\u001b[0m"
          ]
        }
      ],
      "source": [
        "try:\n",
        "    from gemma import gm\n",
        "except:\n",
        "    !pip install -q gemma"
      ]
    },
    {
      "cell_type": "code",
      "source": [
        "#@title Gemma Layers\n",
        "%%writefile /usr/local/lib/python3.11/dist-packages/gemma/layers.py\n",
        "# Copyright 2024 DeepMind Technologies Limited.\n",
        "#\n",
        "# Licensed under the Apache License, Version 2.0 (the \"License\");\n",
        "# you may not use this file except in compliance with the License.\n",
        "# You may obtain a copy of the License at\n",
        "#\n",
        "#     http://www.apache.org/licenses/LICENSE-2.0\n",
        "#\n",
        "# Unless required by applicable law or agreed to in writing, software\n",
        "# distributed under the License is distributed on an \"AS IS\" BASIS,\n",
        "# WITHOUT WARRANTIES OR CONDITIONS OF ANY KIND, either express or implied.\n",
        "# See the License for the specific language governing permissions and\n",
        "# limitations under the License.\n",
        "\n",
        "\"\"\"Base layers.\"\"\"\n",
        "\n",
        "from flax import linen as nn\n",
        "import jax\n",
        "import jax.numpy as jnp\n",
        "\n",
        "\n",
        "class Einsum(nn.Module):\n",
        "  \"\"\"Einsum is a convenience module for parameterized tensor multiplication.\"\"\"\n",
        "\n",
        "  shape: tuple[int, ...]\n",
        "  weight_name: str = 'w'\n",
        "  initializer: nn.initializers.Initializer = nn.initializers.normal()\n",
        "  dtype: jnp.dtype | None = None\n",
        "\n",
        "  @nn.compact\n",
        "  def __call__(self, eqn: str, x: jax.Array) -> jax.Array:\n",
        "    w = self.param(\n",
        "        self.weight_name,\n",
        "        self.initializer,\n",
        "        self.shape,\n",
        "        self.dtype if self.dtype is not None else None,\n",
        "    )\n",
        "    return jnp.einsum(eqn, x, w)\n",
        "\n",
        "\n",
        "class RMSNorm(nn.Module):\n",
        "  \"\"\"RMSNorm layer.\"\"\"\n",
        "\n",
        "  @nn.compact\n",
        "  def __call__(self, x):\n",
        "    scale = self.param('scale', nn.initializers.zeros_init(), (x.shape[-1]))\n",
        "    var = jnp.mean(jnp.square(x), axis=-1, keepdims=True)\n",
        "\n",
        "    # Jax.lax.rsqrt is used because it returns different floats than\n",
        "    # jnp.reciprocal(jnp.sqrt(var + 1e-06))\n",
        "    normed_inputs = x * jax.lax.stop_gradient(jax.lax.rsqrt(var + 1e-06))\n",
        "\n",
        "    # normed_inputs is a rank-K tensor, K > 1 (K is typically 2 or 3). scale is\n",
        "    # a rank-1 tensor. To avoid implicit rank-promotion, reshape scale to\n",
        "    # a (1, ..., 1, D) tensor, so the rank of scale matches normed_inputs.\n",
        "    scale = jax.lax.stop_gradient(jnp.expand_dims(scale, axis=range(len(x.shape) - 1)))\n",
        "    normed_inputs = normed_inputs * (1 + scale)\n",
        "    return normed_inputs\n"
      ],
      "metadata": {
        "colab": {
          "base_uri": "https://localhost:8080/"
        },
        "cellView": "form",
        "id": "Ksq45w17Jnh7",
        "outputId": "38c3e6aa-2ec2-476e-f8e2-f1da951ff8e6"
      },
      "execution_count": null,
      "outputs": [
        {
          "output_type": "stream",
          "name": "stdout",
          "text": [
            "Writing /usr/local/lib/python3.11/dist-packages/gemma/layers.py\n"
          ]
        }
      ]
    },
    {
      "cell_type": "code",
      "source": [
        "#@title Gemma Modules\n",
        "%%writefile /usr/local/lib/python3.11/dist-packages/gemma/modules.py\n",
        "# Copyright 2024 DeepMind Technologies Limited.\n",
        "#\n",
        "# Licensed under the Apache License, Version 2.0 (the \"License\");\n",
        "# you may not use this file except in compliance with the License.\n",
        "# You may obtain a copy of the License at\n",
        "#\n",
        "#     http://www.apache.org/licenses/LICENSE-2.0\n",
        "#\n",
        "# Unless required by applicable law or agreed to in writing, software\n",
        "# distributed under the License is distributed on an \"AS IS\" BASIS,\n",
        "# WITHOUT WARRANTIES OR CONDITIONS OF ANY KIND, either express or implied.\n",
        "# See the License for the specific language governing permissions and\n",
        "# limitations under the License.\n",
        "\n",
        "\"\"\"Transformer sub-modules.\"\"\"\n",
        "\n",
        "import enum\n",
        "from flax import linen as nn\n",
        "from gemma import layers\n",
        "from gemma import positional_embeddings\n",
        "import jax\n",
        "import jax.numpy as jnp\n",
        "\n",
        "from jax._src.typing import Array, ArrayLike, DType, DTypeLike\n",
        "\n",
        "K_MASK = -2.3819763e38  # Set to a large negative number.\n",
        "DEFAULT_ROPE_BASE_FREQUENCY = 10_000\n",
        "DEFAULT_ROPE_SCALE_FACTOR = 1.0\n",
        "LayerCache = dict[str, jax.Array]\n",
        "\n",
        "\n",
        "def _create_sliding_mask(\n",
        "    segment_pos: jnp.ndarray,\n",
        "    end_index: int,\n",
        "    cache_len: int,\n",
        "    sliding_window_size: int,\n",
        "):\n",
        "  \"\"\"Creates mask for sliding window attention.\"\"\"\n",
        "  total_tokens = end_index + segment_pos.shape[1]  # cached + processing tokens\n",
        "\n",
        "  def _reconstruct_rotated_cache_positions():\n",
        "    cache_positions = jnp.arange(cache_len) + total_tokens - cache_len\n",
        "    cache_positions = (\n",
        "        jnp.zeros_like(cache_positions)\n",
        "        # kv were placed at index (position_id % cache_len) in the cache.\n",
        "        .at[cache_positions % cache_len].set(cache_positions)\n",
        "    )\n",
        "    return cache_positions\n",
        "\n",
        "  # Reconstruct position_ids for cached kv.\n",
        "  cache_positions = jax.lax.cond(\n",
        "      total_tokens <= cache_len,\n",
        "      lambda: jnp.arange(cache_len),\n",
        "      _reconstruct_rotated_cache_positions,\n",
        "  )\n",
        "\n",
        "  cache_positions = cache_positions[None, None, :]  # [1, 1, cache_len]\n",
        "  segment_pos = segment_pos[:, :, None]  # [B, seq_len, 1]\n",
        "  sliding_mask = cache_positions > segment_pos - sliding_window_size\n",
        "  sliding_mask *= cache_positions < segment_pos + sliding_window_size\n",
        "  return sliding_mask\n",
        "\n",
        "\n",
        "class AttentionType(enum.Enum):\n",
        "  GLOBAL = 1\n",
        "  LOCAL_SLIDING = 2\n",
        "\n",
        "\n",
        "class Embedder(nn.Module):\n",
        "  \"\"\"Embedder module.\"\"\"\n",
        "\n",
        "  vocab_size: int\n",
        "  embed_dim: int\n",
        "\n",
        "  vision_proj_dim: int | None = None\n",
        "\n",
        "  def setup(self):\n",
        "    self.input_embedding_table = self.param(\n",
        "        'input_embedding',\n",
        "        nn.initializers.normal(),\n",
        "        (self.vocab_size, self.embed_dim),\n",
        "    )\n",
        "\n",
        "    # For the multi-modal models, the encoder has additional parameters:\n",
        "    # * `mm_soft_embedding_norm` and `mm_input_projection`: Those weights\n",
        "    #   serve to project the soft tokens from the image encoder into the\n",
        "    #   embedding space of the text encoder. Those tokens are then merged with\n",
        "    #   the text tokens inside `Transformer._include_vision_embeddings`.\n",
        "    if self.vision_proj_dim:\n",
        "      self.mm_soft_embedding_norm = layers.RMSNorm()\n",
        "      self.mm_input_projection = layers.Einsum(\n",
        "          (self.vision_proj_dim, self.embed_dim)\n",
        "      )\n",
        "\n",
        "  def encode(self, x: jax.Array) -> jax.Array:\n",
        "    x = self.input_embedding_table[(x,)]\n",
        "    x *= jnp.sqrt(self.embed_dim).astype(x.dtype)\n",
        "    return x\n",
        "\n",
        "  def decode(self, x: jax.Array) -> jax.Array:\n",
        "    return jnp.dot(x, self.input_embedding_table.T)\n",
        "\n",
        "  def encode_vision(self, x: jax.Array) -> jax.Array:\n",
        "    \"\"\"Projects siglip embeddings to the embedding space of the text encoder.\"\"\"\n",
        "    x = self.mm_soft_embedding_norm(x)\n",
        "    x = self.mm_input_projection('...tm,md->...td', x)\n",
        "    return x\n",
        "\n",
        "\n",
        "class Attention(nn.Module):\n",
        "  \"\"\"Attention module.\"\"\"\n",
        "\n",
        "  num_heads: int\n",
        "  num_kv_heads: int\n",
        "  features: int\n",
        "  head_dim: int\n",
        "  attn_type: AttentionType\n",
        "  query_pre_attn_scalar: float\n",
        "  rope_base_frequency: int = DEFAULT_ROPE_BASE_FREQUENCY\n",
        "  rope_scale_factor: float = DEFAULT_ROPE_SCALE_FACTOR\n",
        "  attn_logits_soft_cap: float | None = None\n",
        "  sliding_window_size: int | None = None\n",
        "  use_qk_norm: bool = False\n",
        "\n",
        "  @property\n",
        "  def use_qkv_einsum(self):\n",
        "    return self.num_kv_heads == self.num_heads\n",
        "\n",
        "  @property\n",
        "  def use_gqa(self):\n",
        "    return self.num_kv_heads != self.num_heads and self.num_kv_heads > 1\n",
        "\n",
        "  def setup(self):\n",
        "    self.attn_vec_einsum = layers.Einsum(\n",
        "        shape=(self.num_heads, self.head_dim, self.features),\n",
        "    )\n",
        "\n",
        "    if self.use_qkv_einsum:\n",
        "      self.qkv_einsum = layers.Einsum(\n",
        "          shape=(3, self.num_heads, self.features, self.head_dim),\n",
        "      )\n",
        "    else:\n",
        "      self.q_einsum = layers.Einsum(\n",
        "          shape=(self.num_heads, self.features, self.head_dim),\n",
        "      )\n",
        "      self.kv_einsum = layers.Einsum(\n",
        "          shape=(2, self.num_kv_heads, self.features, self.head_dim),\n",
        "      )\n",
        "    if self.use_qk_norm:\n",
        "      self._query_norm = layers.RMSNorm()\n",
        "      self._key_norm = layers.RMSNorm()\n",
        "\n",
        "  def __call__(\n",
        "      self,\n",
        "      x: jax.Array,\n",
        "      segment_pos: jax.Array,\n",
        "      cache: LayerCache | None,\n",
        "      attn_mask: jax.Array,\n",
        "  ) -> tuple[LayerCache | None, jax.Array]:\n",
        "    seq_len = x.shape[1]\n",
        "\n",
        "    if self.use_qkv_einsum:\n",
        "      query_proj, key_proj, value_proj = self.qkv_einsum('BTD,SNDH->SBTNH', x)\n",
        "    else:\n",
        "      query_proj = self.q_einsum('BTD,NDH->BTNH', x)\n",
        "      key_proj, value_proj = self.kv_einsum('BSD,CKDH->CBSKH', x)\n",
        "\n",
        "    query_proj = jax.lax.stop_gradient(query_proj)\n",
        "    key_proj = jax.lax.stop_gradient(key_proj)\n",
        "\n",
        "    if self.use_qk_norm:\n",
        "      query_proj = self._query_norm(query_proj)\n",
        "      key_proj = self._key_norm(key_proj)\n",
        "\n",
        "    query_proj = positional_embeddings.apply_rope(\n",
        "        query_proj,\n",
        "        segment_pos,\n",
        "        base_frequency=self.rope_base_frequency,\n",
        "        scale_factor=self.rope_scale_factor,\n",
        "    )\n",
        "    query_scaled = query_proj * self.query_pre_attn_scalar\n",
        "    key_proj = positional_embeddings.apply_rope(\n",
        "        key_proj,\n",
        "        segment_pos,\n",
        "        base_frequency=self.rope_base_frequency,\n",
        "        scale_factor=self.rope_scale_factor,\n",
        "    )\n",
        "\n",
        "    query_proj = jax.lax.stop_gradient(query_proj)\n",
        "    key_proj = jax.lax.stop_gradient(key_proj)\n",
        "\n",
        "    # Cache is left aligned.\n",
        "    # Save the KV values to the cache.\n",
        "    if cache is not None:\n",
        "      end_index = cache['end_index'][0]\n",
        "      slice_indices = (0, end_index % cache['v'].shape[1], 0, 0)\n",
        "      value_proj = jax.lax.dynamic_update_slice(\n",
        "          cache['v'],\n",
        "          value_proj,\n",
        "          slice_indices,\n",
        "      )\n",
        "      key_proj = jax.lax.dynamic_update_slice(\n",
        "          cache['k'], key_proj, slice_indices\n",
        "      )\n",
        "\n",
        "    if self.use_gqa:\n",
        "      # Reshape matrices to enable einsums over groups.\n",
        "      b, t, kg, h = query_scaled.shape\n",
        "      query_scaled = query_scaled.reshape(\n",
        "          (b, t, self.num_kv_heads, int(kg / self.num_kv_heads), h)\n",
        "      )\n",
        "      logits = jnp.einsum('BTKGH,BSKH->BTKGS', query_scaled, key_proj)\n",
        "      b, t, k, g, s = logits.shape\n",
        "      logits = logits.reshape((b, t, k * g, s))\n",
        "    else:\n",
        "      logits = jnp.einsum('BTNH,BSNH->BTNS', query_scaled, key_proj)\n",
        "\n",
        "    if self.attn_logits_soft_cap is not None:\n",
        "      logits = jnp.tanh(logits / self.attn_logits_soft_cap)\n",
        "      logits = logits * self.attn_logits_soft_cap\n",
        "\n",
        "    if self.attn_type == AttentionType.LOCAL_SLIDING:\n",
        "      if self.sliding_window_size is None:\n",
        "        raise ValueError(\n",
        "            'Sliding_window_size must be set if Local Sliding attention type'\n",
        "        )\n",
        "      sliding_mask = _create_sliding_mask(\n",
        "          segment_pos,\n",
        "          end_index=cache['end_index'][0] if cache is not None else 0,\n",
        "          # Derive cache length from attn_mask shape in case cache is None\n",
        "          cache_len=attn_mask.shape[-1],\n",
        "          sliding_window_size=self.sliding_window_size,\n",
        "      )\n",
        "      attn_mask *= sliding_mask\n",
        "\n",
        "    padded_logits = jnp.where((jnp.expand_dims(attn_mask, -2)), logits, K_MASK)\n",
        "    probs = jax.nn.softmax(padded_logits, axis=-1).astype(key_proj.dtype)\n",
        "    if self.use_gqa:\n",
        "      # Reshape matrices to enable einsums over groups.\n",
        "      b, t, kg, h = probs.shape\n",
        "      probs = probs.reshape(\n",
        "          (b, t, self.num_kv_heads, int(kg / self.num_kv_heads), h)\n",
        "      )\n",
        "      encoded = jnp.einsum('BTKGS,BSKH->BTKGH', jax.lax.stop_gradient(probs), value_proj)\n",
        "      b, t, k, g, h = encoded.shape\n",
        "      encoded = encoded.reshape((b, t, k * g, h))\n",
        "    else:\n",
        "      encoded = jnp.einsum('BTNS,BSNH->BTNH', jax.lax.stop_gradient(probs), value_proj)\n",
        "    attn_output = self.attn_vec_einsum('BTNH,NHD->BTD', encoded)\n",
        "\n",
        "    if cache is not None:\n",
        "      new_cache = {\n",
        "          'v': value_proj,\n",
        "          'k': key_proj,\n",
        "          'end_index': cache['end_index'] + seq_len,\n",
        "      }\n",
        "    else:\n",
        "      new_cache = None\n",
        "\n",
        "    return new_cache, attn_output\n",
        "\n",
        "  @classmethod\n",
        "  def init_cache(\n",
        "      cls,\n",
        "      cache_size: int,\n",
        "      num_heads: int,\n",
        "      head_dim: int,\n",
        "      batch_size: int,\n",
        "      dtype: jnp.dtype = jnp.bfloat16,\n",
        "  ) -> LayerCache:\n",
        "    del cls  # not used\n",
        "    return {\n",
        "        'v': jnp.zeros(\n",
        "            (batch_size, cache_size, num_heads, head_dim), dtype=dtype\n",
        "        ),\n",
        "        'k': jnp.zeros(\n",
        "            (batch_size, cache_size, num_heads, head_dim), dtype=dtype\n",
        "        ),\n",
        "        'end_index': jnp.zeros((batch_size,), dtype=jnp.int32),\n",
        "    }\n",
        "\n",
        "def gelu_detached(x_arr: ArrayLike, approximate: bool = True) -> Array:\n",
        "  r\"\"\"Gaussian error linear unit activation function.\n",
        "\n",
        "  If ``approximate=False``, computes the element-wise function:\n",
        "\n",
        "  .. math::\n",
        "    \\mathrm{gelu}(x) = \\frac{x}{2} \\left(\\mathrm{erfc} \\left(\n",
        "      \\frac{-x}{\\sqrt{2}} \\right) \\right)\n",
        "\n",
        "  If ``approximate=True``, uses the approximate formulation of GELU:\n",
        "\n",
        "  .. math::\n",
        "    \\mathrm{gelu}(x) = \\frac{x}{2} \\left(1 + \\mathrm{tanh} \\left(\n",
        "      \\sqrt{\\frac{2}{\\pi}} \\left(x + 0.044715 x^3 \\right) \\right) \\right)\n",
        "\n",
        "  For more information, see `Gaussian Error Linear Units (GELUs)\n",
        "  <https://arxiv.org/abs/1606.08415>`_, section 2.\n",
        "\n",
        "  Args:\n",
        "    x: input array\n",
        "    approximate: whether to use the approximate or exact formulation.\n",
        "  \"\"\"\n",
        "#   [x_arr] = numpy_util.promote_args_inexact(\"gelu\", x)\n",
        "  import numpy as np\n",
        "  if approximate:\n",
        "    sqrt_2_over_pi = np.sqrt(2 / np.pi).astype(x_arr.dtype)\n",
        "    cdf = 0.5 * (1.0 + jnp.tanh(sqrt_2_over_pi * (x_arr + 0.044715 * (x_arr ** 3))))\n",
        "    cdf = jax.lax.stop_gradient(cdf)\n",
        "    return x_arr * cdf\n",
        "  else:\n",
        "    sqrt_half = np.sqrt(0.5).astype(x_arr.dtype)\n",
        "    return jnp.array(\n",
        "        0.5 * x_arr * jax.lax.stop_gradient(lax.erfc(-x_arr * sqrt_half)), dtype=x_arr.dtype\n",
        "    )\n",
        "\n",
        "class FeedForward(nn.Module):\n",
        "  \"\"\"Feed forward module.\"\"\"\n",
        "\n",
        "  features: int\n",
        "  hidden_dim: int\n",
        "  transpose_gating_einsum: bool\n",
        "\n",
        "  @nn.compact\n",
        "  def __call__(self, x):\n",
        "    # Some versions use an alternate parameter ordering that\n",
        "    # transposes hidden_dim and features.\n",
        "    if self.transpose_gating_einsum:\n",
        "      eq = '...F,NHF->...NH'\n",
        "      gating = layers.Einsum(\n",
        "          shape=(2, self.hidden_dim, self.features),\n",
        "          weight_name='gating_einsum',\n",
        "      )\n",
        "    else:\n",
        "      eq = '...F,NFH->...NH'\n",
        "      gating = layers.Einsum(\n",
        "          shape=(2, self.features, self.hidden_dim),\n",
        "          weight_name='gating_einsum',\n",
        "      )\n",
        "\n",
        "    # Use the same scope for backwards compatibility with existing checkpoints\n",
        "    # created before using `layers.Einsum` here.\n",
        "    nn.share_scope(self, gating)\n",
        "    gate = gating(eq, x)\n",
        "    activations =  jax.lax.stop_gradient(gelu_detached(gate[..., 0, :])) * gate[..., 1, :]\n",
        "\n",
        "    # Down projection\n",
        "    linear = layers.Einsum(\n",
        "        shape=(self.hidden_dim, self.features),\n",
        "        weight_name='linear',\n",
        "    )\n",
        "    nn.share_scope(self, linear)\n",
        "    outputs = linear('...H,HF->...F', activations)\n",
        "\n",
        "    return outputs\n",
        "\n",
        "\n",
        "class Block(nn.Module):\n",
        "  \"\"\"Transformer block.\"\"\"\n",
        "\n",
        "  num_heads: int\n",
        "  num_kv_heads: int\n",
        "  embed_dim: int\n",
        "  head_dim: int\n",
        "  hidden_dim: int\n",
        "  use_post_attn_norm: bool\n",
        "  use_post_ffw_norm: bool\n",
        "  attn_type: AttentionType\n",
        "  query_pre_attn_scalar: float\n",
        "  transpose_gating_einsum: bool\n",
        "  rope_base_frequency: int = DEFAULT_ROPE_BASE_FREQUENCY\n",
        "  rope_scale_factor: float = DEFAULT_ROPE_SCALE_FACTOR\n",
        "  attn_logits_soft_cap: float | None = None\n",
        "  sliding_window_size: int | None = None\n",
        "  use_qk_norm: bool = False\n",
        "\n",
        "  def setup(self):\n",
        "    self.pre_attention_norm = layers.RMSNorm()\n",
        "    self.attn = Attention(\n",
        "        num_heads=self.num_heads,\n",
        "        features=self.embed_dim,\n",
        "        head_dim=self.head_dim,\n",
        "        num_kv_heads=self.num_kv_heads,\n",
        "        attn_type=self.attn_type,\n",
        "        query_pre_attn_scalar=self.query_pre_attn_scalar,\n",
        "        rope_base_frequency=self.rope_base_frequency,\n",
        "        rope_scale_factor=self.rope_scale_factor,\n",
        "        attn_logits_soft_cap=self.attn_logits_soft_cap,\n",
        "        sliding_window_size=self.sliding_window_size,\n",
        "        use_qk_norm=self.use_qk_norm,\n",
        "    )\n",
        "    self.post_attention_norm = None\n",
        "    if self.use_post_attn_norm:\n",
        "      self.post_attention_norm = layers.RMSNorm()\n",
        "\n",
        "    self.pre_ffw_norm = layers.RMSNorm()\n",
        "    self.mlp = FeedForward(\n",
        "        features=self.embed_dim,\n",
        "        hidden_dim=self.hidden_dim,\n",
        "        transpose_gating_einsum=self.transpose_gating_einsum,\n",
        "    )\n",
        "    self.post_ffw_norm = None\n",
        "    if self.use_post_ffw_norm:\n",
        "      self.post_ffw_norm = layers.RMSNorm()\n",
        "\n",
        "  def __call__(\n",
        "      self,\n",
        "      x: jax.Array,\n",
        "      segment_pos: jax.Array,\n",
        "      cache: LayerCache | None,\n",
        "      attn_mask: jax.Array,\n",
        "  ) -> tuple[LayerCache | None, jax.Array]:\n",
        "    inputs_normalized = self.pre_attention_norm(x)\n",
        "    cache, attn_output = self.attn(\n",
        "        inputs_normalized,\n",
        "        segment_pos,\n",
        "        cache,\n",
        "        attn_mask,\n",
        "    )\n",
        "    if self.post_attention_norm is not None:\n",
        "      attn_output = self.post_attention_norm(attn_output)\n",
        "    attn_output += x\n",
        "    outputs = self.pre_ffw_norm(attn_output)\n",
        "    outputs = self.mlp(outputs)\n",
        "    if self.post_ffw_norm is not None:\n",
        "      outputs = self.post_ffw_norm(outputs)\n",
        "    outputs += attn_output\n",
        "    return cache, outputs\n"
      ],
      "metadata": {
        "colab": {
          "base_uri": "https://localhost:8080/"
        },
        "cellView": "form",
        "id": "XFMCs7GPJigy",
        "outputId": "b0ba7264-dec1-467d-d08c-06053b9b76a5"
      },
      "execution_count": null,
      "outputs": [
        {
          "output_type": "stream",
          "name": "stdout",
          "text": [
            "Writing /usr/local/lib/python3.11/dist-packages/gemma/modules.py\n"
          ]
        }
      ]
    },
    {
      "cell_type": "code",
      "source": [
        "# Common imports\n",
        "import os\n",
        "import jax\n",
        "import jax.numpy as jnp\n",
        "\n",
        "# Gemma imports\n",
        "from gemma import gm"
      ],
      "metadata": {
        "id": "ybxouMkhyuRs"
      },
      "execution_count": null,
      "outputs": []
    },
    {
      "cell_type": "code",
      "source": [
        "# Try these JAX memory management approaches\n",
        "import os\n",
        "\n",
        "# Method 1: Limit JAX memory pre-allocation\n",
        "os.environ['XLA_PYTHON_CLIENT_PREALLOCATE'] = 'false'\n",
        "# os.environ['XLA_PYTHON_CLIENT_MEM_FRACTION'] = '0.5'"
      ],
      "metadata": {
        "id": "HGRXKhzPUftE"
      },
      "execution_count": null,
      "outputs": []
    },
    {
      "cell_type": "code",
      "source": [
        "# gm.ckpts.CheckpointPath.GEMMA3_1B_IT\n",
        "# model = gm.nn.Gemma3_1B()\n",
        "\n",
        "# params = gm.ckpts.load_params(gm.ckpts.CheckpointPath.GEMMA3_1B_IT, text_only=True)#, dtype=jnp.float32)"
      ],
      "metadata": {
        "id": "abx6eEuK0GYf"
      },
      "execution_count": null,
      "outputs": []
    },
    {
      "cell_type": "code",
      "source": [
        "model = gm.nn.Gemma3_4B()\n",
        "\n",
        "params = gm.ckpts.load_params(gm.ckpts.CheckpointPath.GEMMA3_4B_IT, text_only=True)#, dtype=jnp.float32)"
      ],
      "metadata": {
        "id": "00UhDv-kUl0o"
      },
      "execution_count": null,
      "outputs": []
    },
    {
      "cell_type": "code",
      "source": [],
      "metadata": {
        "id": "nK00noOMyv7W"
      },
      "execution_count": null,
      "outputs": []
    },
    {
      "cell_type": "code",
      "source": [
        "# # Convert all parameters to float32\n",
        "# def convert_to_float32(params):\n",
        "#     \"\"\"Convert all parameters from bfloat16 to float32\"\"\"\n",
        "#     def convert_param(x):\n",
        "#         if hasattr(x, 'dtype') and x.dtype == jnp.bfloat16:\n",
        "#             return x.astype(jnp.float32)\n",
        "#         return x\n",
        "\n",
        "#     return jax.tree_map(convert_param, params)\n",
        "\n",
        "# params = convert_to_float32(params)"
      ],
      "metadata": {
        "id": "aRuJUttXU96n"
      },
      "execution_count": null,
      "outputs": []
    },
    {
      "cell_type": "code",
      "source": [
        "# Convert params to match model dtype\n",
        "# params_f32 = convert_to_float32(params)"
      ],
      "metadata": {
        "id": "hMpSU3TZUpsh"
      },
      "execution_count": null,
      "outputs": []
    },
    {
      "cell_type": "code",
      "source": [
        "model"
      ],
      "metadata": {
        "colab": {
          "base_uri": "https://localhost:8080/"
        },
        "id": "h9x8_OsGyyFp",
        "outputId": "b540217b-2fbe-46cd-fe1f-6c237f8d1c3b"
      },
      "execution_count": null,
      "outputs": [
        {
          "output_type": "execute_result",
          "data": {
            "text/plain": [
              "Gemma3_4B(\n",
              "    # attributes\n",
              "    return_last_only = None\n",
              "    dtype = bfloat16\n",
              "    tokens = '__KEY_REQUIRED__'\n",
              "    images = None\n",
              "    config = TransformerConfig(num_embed=262144, embed_dim=2560, hidden_dim=10240, num_heads=8, head_dim=256, num_kv_heads=4, final_logit_softcap=None, use_post_attn_norm=True, use_post_ffw_norm=True, attention_types=(<AttentionType.LOCAL_SLIDING: 2>, <AttentionType.LOCAL_SLIDING: 2>, <AttentionType.LOCAL_SLIDING: 2>, <AttentionType.LOCAL_SLIDING: 2>, <AttentionType.LOCAL_SLIDING: 2>, <AttentionType.GLOBAL: 1>, <AttentionType.LOCAL_SLIDING: 2>, <AttentionType.LOCAL_SLIDING: 2>, <AttentionType.LOCAL_SLIDING: 2>, <AttentionType.LOCAL_SLIDING: 2>, <AttentionType.LOCAL_SLIDING: 2>, <AttentionType.GLOBAL: 1>, <AttentionType.LOCAL_SLIDING: 2>, <AttentionType.LOCAL_SLIDING: 2>, <AttentionType.LOCAL_SLIDING: 2>, <AttentionType.LOCAL_SLIDING: 2>, <AttentionType.LOCAL_SLIDING: 2>, <AttentionType.GLOBAL: 1>, <AttentionType.LOCAL_SLIDING: 2>, <AttentionType.LOCAL_SLIDING: 2>, <AttentionType.LOCAL_SLIDING: 2>, <AttentionType.LOCAL_SLIDING: 2>, <AttentionType.LOCAL_SLIDING: 2>, <AttentionType.GLOBAL: 1>, <AttentionType.LOCAL_SLIDING: 2>, <AttentionType.LOCAL_SLIDING: 2>, <AttentionType.LOCAL_SLIDING: 2>, <AttentionType.LOCAL_SLIDING: 2>, <AttentionType.LOCAL_SLIDING: 2>, <AttentionType.GLOBAL: 1>, <AttentionType.LOCAL_SLIDING: 2>, <AttentionType.LOCAL_SLIDING: 2>, <AttentionType.LOCAL_SLIDING: 2>, <AttentionType.LOCAL_SLIDING: 2>), query_pre_attn_norm=<QueryPreAttentionNormalisation.BY_ONE_OVER_SQRT_HEAD_DIM: 1>, attn_logits_soft_cap=None, sliding_window_size=1024, transpose_gating_einsum=True, use_qk_norm=True, local_base_frequency=10000, global_base_frequency=1000000, local_scale_factor=1.0, global_scale_factor=8.0, vision_encoder=SigLiPFromPatches(\n",
              "        # attributes\n",
              "        siglip_encoder = ViTModel(\n",
              "            # attributes\n",
              "            patch_size = (14, 14)\n",
              "            width = 1152\n",
              "            depth = 27\n",
              "            mlp_dim = 4304\n",
              "            num_heads = 16\n",
              "            posemb = 'learn'\n",
              "            dropout = 0.0\n",
              "            scan = False\n",
              "            remat_policy = 'nothing_saveable'\n",
              "            dtype_mm = 'float32'\n",
              "        )\n",
              "        siglip_exit = VisionExit(\n",
              "            # attributes\n",
              "            output_length = 256\n",
              "        )\n",
              "        num_mm_tokens_per_image_prepool = 4096\n",
              "        num_mm_tokens_per_image = 256\n",
              "        image_height = 896\n",
              "        image_width = 896\n",
              "        image_channels = 3\n",
              "        apply_stop_gradient = True\n",
              "    ))\n",
              "    text_only = False\n",
              ")"
            ]
          },
          "metadata": {},
          "execution_count": 12
        }
      ]
    },
    {
      "cell_type": "code",
      "source": [
        "    # Check if vision components are present\n",
        "    print(\"\\nmodel components:\")\n",
        "    print(f\"Has vision_encoder: {hasattr(model, 'vision_encoder') and model.vision_encoder is not None}\")\n",
        "    # print(f\"Param keys: {list(model.keys())}\")"
      ],
      "metadata": {
        "colab": {
          "base_uri": "https://localhost:8080/"
        },
        "id": "GqhI2hyYT1_S",
        "outputId": "cfd3805d-e9cb-4f4b-98e0-02f2aa8fbc2e"
      },
      "execution_count": null,
      "outputs": [
        {
          "output_type": "stream",
          "name": "stdout",
          "text": [
            "\n",
            "model components:\n",
            "Has vision_encoder: True\n"
          ]
        }
      ]
    },
    {
      "cell_type": "code",
      "source": [],
      "metadata": {
        "id": "SfQags1aUe2g"
      },
      "execution_count": null,
      "outputs": []
    },
    {
      "cell_type": "code",
      "source": [
        "# # Method 2: Use JAX memory management\n",
        "# import jax\n",
        "# jax.config.update('jax_platform_name', 'gpu')\n",
        "\n",
        "# # Method 3: Clear any existing JAX memory\n",
        "# def clear_jax_cache():\n",
        "#     # Clear compilation cache\n",
        "#     jax.clear_caches()\n",
        "\n",
        "#     # Force garbage collection\n",
        "#     import gc\n",
        "#     gc.collect()\n",
        "\n",
        "# clear_jax_cache()"
      ],
      "metadata": {
        "id": "WfJ5p_8oUIJJ"
      },
      "execution_count": null,
      "outputs": []
    },
    {
      "cell_type": "code",
      "source": [
        "# !nvidia-smi"
      ],
      "metadata": {
        "id": "7spvXYVTTZ__"
      },
      "execution_count": null,
      "outputs": []
    },
    {
      "cell_type": "code",
      "source": [
        "gm.__file__"
      ],
      "metadata": {
        "colab": {
          "base_uri": "https://localhost:8080/",
          "height": 36
        },
        "id": "G-2qL26LzEcE",
        "outputId": "7eebb304-6206-44d4-b5dc-d51814beec32"
      },
      "execution_count": null,
      "outputs": [
        {
          "output_type": "execute_result",
          "data": {
            "text/plain": [
              "'/usr/local/lib/python3.11/dist-packages/gemma/gm/__init__.py'"
            ],
            "application/vnd.google.colaboratory.intrinsic+json": {
              "type": "string"
            }
          },
          "metadata": {},
          "execution_count": 16
        }
      ]
    },
    {
      "cell_type": "code",
      "source": [
        "tokenizer = gm.text.Gemma3Tokenizer()"
      ],
      "metadata": {
        "id": "k-DVmVlRzIhz"
      },
      "execution_count": null,
      "outputs": []
    },
    {
      "cell_type": "code",
      "source": [
        "!nvidia-smi"
      ],
      "metadata": {
        "colab": {
          "base_uri": "https://localhost:8080/"
        },
        "id": "btO5vvYsEr_O",
        "outputId": "b1d307b4-e414-4668-ec73-06631c9d15cc"
      },
      "execution_count": null,
      "outputs": [
        {
          "output_type": "stream",
          "name": "stdout",
          "text": [
            "Fri Aug 15 18:21:51 2025       \n",
            "+-----------------------------------------------------------------------------------------+\n",
            "| NVIDIA-SMI 550.54.15              Driver Version: 550.54.15      CUDA Version: 12.4     |\n",
            "|-----------------------------------------+------------------------+----------------------+\n",
            "| GPU  Name                 Persistence-M | Bus-Id          Disp.A | Volatile Uncorr. ECC |\n",
            "| Fan  Temp   Perf          Pwr:Usage/Cap |           Memory-Usage | GPU-Util  Compute M. |\n",
            "|                                         |                        |               MIG M. |\n",
            "|=========================================+========================+======================|\n",
            "|   0  NVIDIA A100-SXM4-40GB          Off |   00000000:00:04.0 Off |                    0 |\n",
            "| N/A   33C    P0             48W /  400W |   16831MiB /  40960MiB |      0%      Default |\n",
            "|                                         |                        |             Disabled |\n",
            "+-----------------------------------------+------------------------+----------------------+\n",
            "                                                                                         \n",
            "+-----------------------------------------------------------------------------------------+\n",
            "| Processes:                                                                              |\n",
            "|  GPU   GI   CI        PID   Type   Process name                              GPU Memory |\n",
            "|        ID   ID                                                               Usage      |\n",
            "|=========================================================================================|\n",
            "+-----------------------------------------------------------------------------------------+\n"
          ]
        }
      ]
    },
    {
      "cell_type": "code",
      "source": [
        "# prompt = tokenizer.encode('One word to describe Paris: \\n\\n', add_bos=True)\n",
        "prompt = tokenizer.encode('Paris is where you want it to be, always twirling and swirling to the golden moonlight, no matter what happens, and if you wanted to do that anyway, personally i think that would be a fine case to make, always twirling and swirling to the golden moonlight, no matter what happens, even for the final matchup which you will not even realize, always twirling and swirling to the golden moonlight, no matter what happens, and if you wanted to do that anyway, personally i think that would be a fine case to make, always twirling and swirling to the golden moonlight, no matter what happens, even for the final matchup which you will not even realize.\\\n",
        "Paris is where you want it to be, always twirling and swirling to the golden moonlight, no matter what happens, and if you wanted to do that anyway, personally i think that would be a fine case to make, always twirling and swirling to the golden moonlight, no matter what happens, even for the final matchup which you will not even realize, always twirling and swirling to the golden moonlight, no matter what happens, and if you wanted to do that anyway, personally i think that would be a fine case to make, always twirling and swirling to the golden moonlight, no matter what happens, even for the final matchup which you will not even realize.\\\n",
        "Paris is where you want it to be, always twirling and swirling to the golden moonlight, no matter what happens, and if you wanted to do that anyway, personally i think that would be a fine case to make, always twirling and swirling to the golden moonlight, no matter what happens, even for the final matchup which you will not even realize, always twirling and swirling to the golden moonlight, no matter what happens, and if you wanted to do that anyway, personally i think that would be a fine case to make, always twirling and swirling to the golden moonlight, no matter what happens, even for the final matchup which you will not even realize.', add_bos=True)\n",
        "# Paris is where you want it to be, always twirling and swirling to the golden moonlight, no matter what happens, and if you wanted to do that anyway, personally i think that would be a fine case to make, always twirling and swirling to the golden moonlight, no matter what happens, even for the final matchup which you will not even realize, always twirling and swirling to the golden moonlight, no matter what happens, and if you wanted to do that anyway, personally i think that would be a fine case to make, always twirling and swirling to the golden moonlight, no matter what happens, even for the final matchup which you will not even realize.', add_bos=True)\n",
        "# Paris is where you want it to be, always twirling and swirling to the golden moonlight, no matter what happens, and if you wanted to do that anyway, personally i think that would be a fine case to make, always twirling and swirling to the golden moonlight, no matter what happens, even for the final matchup which you will not even realize, always twirling and swirling to the golden moonlight, no matter what happens, and if you wanted to do that anyway, personally i think that would be a fine case to make, always twirling and swirling to the golden moonlight, no matter what happens, even for the final matchup which you will not even realize.', add_bos=True)\n",
        "prompt = jnp.asarray(prompt)\n",
        "\n",
        "embeddings = jnp.asarray([params['embedder']['input_embedding'][i] for i in prompt])\n",
        "embeddings = jax.numpy.expand_dims(embeddings,0)#.shape"
      ],
      "metadata": {
        "id": "yqNP8kkVzYA7"
      },
      "execution_count": null,
      "outputs": []
    },
    {
      "cell_type": "code",
      "source": [
        "prompt"
      ],
      "metadata": {
        "colab": {
          "base_uri": "https://localhost:8080/"
        },
        "id": "XQ92Qg9hzzkV",
        "outputId": "ea67a025-b5ed-4a5d-9cc3-8026d0f16653"
      },
      "execution_count": null,
      "outputs": [
        {
          "output_type": "execute_result",
          "data": {
            "text/plain": [
              "Array([     2,  50429,    563,   1298,    611,   1461,    625,    531,\n",
              "          577, 236764,   2462,   3615,  50224,    532, 116575,    531,\n",
              "          506,  13935, 134351, 236764,    951,   4217,   1144,   9439,\n",
              "       236764,    532,    768,    611,   5048,    531,    776,    600,\n",
              "        17498, 236764,  16909,    858,   1751,    600,   1093,    577,\n",
              "          496,   5851,   1624,    531,   1386, 236764,   2462,   3615,\n",
              "        50224,    532, 116575,    531,    506,  13935, 134351, 236764,\n",
              "          951,   4217,   1144,   9439, 236764,   1581,    573,    506,\n",
              "         1626,  76892,    837,    611,    795,    711,   1581,  13808,\n",
              "       236764,   2462,   3615,  50224,    532, 116575,    531,    506,\n",
              "        13935, 134351, 236764,    951,   4217,   1144,   9439, 236764,\n",
              "          532,    768,    611,   5048,    531,    776,    600,  17498,\n",
              "       236764,  16909,    858,   1751,    600,   1093,    577,    496,\n",
              "         5851,   1624,    531,   1386, 236764,   2462,   3615,  50224,\n",
              "          532, 116575,    531,    506,  13935, 134351, 236764,    951,\n",
              "         4217,   1144,   9439, 236764,   1581,    573,    506,   1626,\n",
              "        76892,    837,    611,    795,    711,   1581,  13808, 236761,\n",
              "        50429,    563,   1298,    611,   1461,    625,    531,    577,\n",
              "       236764,   2462,   3615,  50224,    532, 116575,    531,    506,\n",
              "        13935, 134351, 236764,    951,   4217,   1144,   9439, 236764,\n",
              "          532,    768,    611,   5048,    531,    776,    600,  17498,\n",
              "       236764,  16909,    858,   1751,    600,   1093,    577,    496,\n",
              "         5851,   1624,    531,   1386, 236764,   2462,   3615,  50224,\n",
              "          532, 116575,    531,    506,  13935, 134351, 236764,    951,\n",
              "         4217,   1144,   9439, 236764,   1581,    573,    506,   1626,\n",
              "        76892,    837,    611,    795,    711,   1581,  13808, 236764,\n",
              "         2462,   3615,  50224,    532, 116575,    531,    506,  13935,\n",
              "       134351, 236764,    951,   4217,   1144,   9439, 236764,    532,\n",
              "          768,    611,   5048,    531,    776,    600,  17498, 236764,\n",
              "        16909,    858,   1751,    600,   1093,    577,    496,   5851,\n",
              "         1624,    531,   1386, 236764,   2462,   3615,  50224,    532,\n",
              "       116575,    531,    506,  13935, 134351, 236764,    951,   4217,\n",
              "         1144,   9439, 236764,   1581,    573,    506,   1626,  76892,\n",
              "          837,    611,    795,    711,   1581,  13808, 236761,  50429,\n",
              "          563,   1298,    611,   1461,    625,    531,    577, 236764,\n",
              "         2462,   3615,  50224,    532, 116575,    531,    506,  13935,\n",
              "       134351, 236764,    951,   4217,   1144,   9439, 236764,    532,\n",
              "          768,    611,   5048,    531,    776,    600,  17498, 236764,\n",
              "        16909,    858,   1751,    600,   1093,    577,    496,   5851,\n",
              "         1624,    531,   1386, 236764,   2462,   3615,  50224,    532,\n",
              "       116575,    531,    506,  13935, 134351, 236764,    951,   4217,\n",
              "         1144,   9439, 236764,   1581,    573,    506,   1626,  76892,\n",
              "          837,    611,    795,    711,   1581,  13808, 236764,   2462,\n",
              "         3615,  50224,    532, 116575,    531,    506,  13935, 134351,\n",
              "       236764,    951,   4217,   1144,   9439, 236764,    532,    768,\n",
              "          611,   5048,    531,    776,    600,  17498, 236764,  16909,\n",
              "          858,   1751,    600,   1093,    577,    496,   5851,   1624,\n",
              "          531,   1386, 236764,   2462,   3615,  50224,    532, 116575,\n",
              "          531,    506,  13935, 134351, 236764,    951,   4217,   1144,\n",
              "         9439, 236764,   1581,    573,    506,   1626,  76892,    837,\n",
              "          611,    795,    711,   1581,  13808, 236761], dtype=int32)"
            ]
          },
          "metadata": {},
          "execution_count": 18
        }
      ]
    },
    {
      "cell_type": "code",
      "source": [
        "embeddings.shape"
      ],
      "metadata": {
        "colab": {
          "base_uri": "https://localhost:8080/"
        },
        "id": "gK7T4O_hIBDg",
        "outputId": "90023729-ed6e-4102-aa9c-1404304dfee7"
      },
      "execution_count": null,
      "outputs": [
        {
          "output_type": "execute_result",
          "data": {
            "text/plain": [
              "(1, 406, 2560)"
            ]
          },
          "metadata": {},
          "execution_count": 19
        }
      ]
    },
    {
      "cell_type": "code",
      "source": [
        "# Run the model\n",
        "out = model.apply(\n",
        "    {'params': params},\n",
        "    tokens=prompt,\n",
        "    return_last_only=True,  # Only predict the last token\n",
        ")\n",
        "\n",
        "\n",
        "# Sample a token from the predicted logits\n",
        "next_token = jax.random.categorical(\n",
        "    jax.random.key(1),\n",
        "    out.logits\n",
        ")\n",
        "tokenizer.decode(next_token)\n",
        "# tokenizer.plot_logits(out.logits)"
      ],
      "metadata": {
        "id": "JO5jiiG0zcge"
      },
      "execution_count": null,
      "outputs": []
    },
    {
      "cell_type": "code",
      "source": [
        "# tokenizer.plot_logits(out.logits)"
      ],
      "metadata": {
        "id": "WxVSp5ptzeQU"
      },
      "execution_count": null,
      "outputs": []
    },
    {
      "cell_type": "code",
      "source": [],
      "metadata": {
        "id": "GH0WklL41oCn"
      },
      "execution_count": null,
      "outputs": []
    },
    {
      "cell_type": "code",
      "source": [],
      "metadata": {
        "id": "W5LKUm-g1vnI"
      },
      "execution_count": null,
      "outputs": []
    },
    {
      "cell_type": "code",
      "source": [
        "#@title Forward from embeddings\n",
        "def forward_from_embeddings(model, params, embeddings, return_last_only=True):\n",
        "    \"\"\"\n",
        "    Forward pass through Gemma model starting from embeddings.\n",
        "    This approach creates dummy tokens and replaces the embeddings after encoding.\n",
        "    \"\"\"\n",
        "    batch_size, seq_len, embed_dim = embeddings.shape\n",
        "\n",
        "    # Create dummy tokens (we'll replace their embeddings)\n",
        "    dummy_tokens = jnp.ones((batch_size, seq_len), dtype=jnp.int32)\n",
        "\n",
        "    def custom_forward(model_instance, tokens, embeddings_to_inject):\n",
        "        \"\"\"Custom forward that replaces token embeddings with our custom ones\"\"\"\n",
        "\n",
        "        # Create inputs mask and positions\n",
        "        inputs_mask = jnp.ones_like(tokens, dtype=bool)\n",
        "        positions = jnp.arange(seq_len)[None, :].repeat(batch_size, axis=0)\n",
        "\n",
        "        # Create attention mask\n",
        "        from gemma.gm.utils import _attention_mask\n",
        "        attention_mask = _attention_mask.make_causal_bidirectional_attention_mask(inputs_mask)\n",
        "\n",
        "        # Use our custom embeddings instead of encoding tokens\n",
        "        x = embeddings_to_inject\n",
        "\n",
        "        # Forward through transformer blocks\n",
        "        old_cache = {}\n",
        "        new_cache = {}\n",
        "        for i, block in enumerate(model_instance.blocks):\n",
        "            layer_name = f'layer_{i}'\n",
        "            layer_cache, x = block(\n",
        "                x,\n",
        "                positions,\n",
        "                old_cache.get(layer_name),\n",
        "                attention_mask,\n",
        "            )\n",
        "            new_cache[layer_name] = layer_cache\n",
        "\n",
        "        # Final layer norm\n",
        "        x = model_instance.final_norm(x)\n",
        "\n",
        "        # Get last token if requested\n",
        "        if return_last_only:\n",
        "            last_input_token_idx = jnp.sum(inputs_mask, axis=-1) - 1\n",
        "            x = x[jnp.arange(len(x)), last_input_token_idx, ...]\n",
        "        last_hidden=x\n",
        "\n",
        "        # Decode to logits\n",
        "        logits = model_instance.embedder.decode(x)\n",
        "\n",
        "        # Apply softcap if configured\n",
        "        if model_instance.config.final_logit_softcap is not None:\n",
        "            logits /= model_instance.config.final_logit_softcap\n",
        "            logits = jnp.tanh(logits) * model_instance.config.final_logit_softcap\n",
        "\n",
        "        return logits, new_cache, last_hidden\n",
        "\n",
        "    # Apply the custom forward function\n",
        "    output = model.apply(\n",
        "        {'params': params},\n",
        "        dummy_tokens,\n",
        "        embeddings,\n",
        "        method=custom_forward\n",
        "    )\n",
        "\n",
        "    return output # model.Output(logits=logits, cache=cache)"
      ],
      "metadata": {
        "cellView": "form",
        "id": "9RYzVhfi9TxA"
      },
      "execution_count": null,
      "outputs": []
    },
    {
      "cell_type": "code",
      "source": [
        "output = forward_from_embeddings(model, params, embeddings)\n",
        "#"
      ],
      "metadata": {
        "id": "fO2W_Pmk8qXV"
      },
      "execution_count": null,
      "outputs": []
    },
    {
      "cell_type": "code",
      "source": [
        "output[2]"
      ],
      "metadata": {
        "colab": {
          "base_uri": "https://localhost:8080/"
        },
        "id": "sX3zpcQ7FGY5",
        "outputId": "0aa9b93d-2c6f-4df6-af2c-8993f8b6dbd2"
      },
      "execution_count": null,
      "outputs": [
        {
          "output_type": "execute_result",
          "data": {
            "text/plain": [
              "Array([[1.79688, -0.109375, 0.306641, ..., -0.996094, 6.03125, 4.84375]],      dtype=bfloat16)"
            ]
          },
          "metadata": {},
          "execution_count": 24
        }
      ]
    },
    {
      "cell_type": "code",
      "source": [
        "# # Sample a token from the predicted logits\n",
        "# next_token = jax.random.categorical(\n",
        "#     jax.random.key(1),\n",
        "#     out.logits\n",
        "# )\n",
        "# print(tokenizer.decode(next_token))\n"
      ],
      "metadata": {
        "id": "oEckypPk8iH1"
      },
      "execution_count": null,
      "outputs": []
    },
    {
      "cell_type": "code",
      "source": [
        "# tokenizer.plot_logits(out.logits)"
      ],
      "metadata": {
        "id": "eGzCNcRdV_eN"
      },
      "execution_count": null,
      "outputs": []
    },
    {
      "cell_type": "code",
      "source": [
        "#@title Compute jacobian wrt embedding\n",
        "import jax\n",
        "import jax.numpy as jnp\n",
        "\n",
        "def compute_embedding_jacobian(model, params, embeddings, method='jacfwd'):\n",
        "    \"\"\"\n",
        "    Compute the Jacobian of the model output (hidden states before logits)\n",
        "    with respect to input embeddings.\n",
        "\n",
        "    Args:\n",
        "        model: Gemma model instance\n",
        "        params: Model parameters\n",
        "        embeddings: Input embeddings (batch_size, seq_len, embed_dim)\n",
        "        method: 'jacfwd' or 'jacrev' for forward-mode or reverse-mode AD\n",
        "\n",
        "    Returns:\n",
        "        jacobian: Shape (batch_size, embed_dim, batch_size, seq_len, embed_dim)\n",
        "                 jacobian[b, d_out, b_in, t_in, d_in] = ∂output[b,d_out]/∂input[b_in,t_in,d_in]\n",
        "        output_hidden: The output hidden states that were differentiated\n",
        "    \"\"\"\n",
        "\n",
        "    def get_hidden_states(embeddings):\n",
        "        \"\"\"Extract hidden states before the final linear layer\"\"\"\n",
        "        # Forward pass but capture hidden states before decode\n",
        "        batch_size, seq_len, embed_dim = embeddings.shape\n",
        "        dummy_tokens = jnp.ones((batch_size, seq_len), dtype=jnp.int32)\n",
        "\n",
        "        def custom_forward_hidden(model_instance, tokens, embeddings_to_inject):\n",
        "            # Same as before but return hidden states instead of logits\n",
        "            inputs_mask = jnp.ones_like(tokens, dtype=bool)\n",
        "            positions = jnp.arange(seq_len)[None, :].repeat(batch_size, axis=0)\n",
        "\n",
        "            from gemma.gm.utils import _attention_mask\n",
        "            attention_mask = _attention_mask.make_causal_bidirectional_attention_mask(inputs_mask)\n",
        "\n",
        "            x = embeddings_to_inject\n",
        "\n",
        "            # Forward through transformer blocks\n",
        "            old_cache = {}\n",
        "            for i, block in enumerate(model_instance.blocks):\n",
        "                layer_name = f'layer_{i}'\n",
        "                layer_cache, x = block(\n",
        "                    x,\n",
        "                    positions,\n",
        "                    old_cache.get(layer_name),\n",
        "                    attention_mask,\n",
        "                )\n",
        "                old_cache[layer_name] = layer_cache\n",
        "\n",
        "            # Final layer norm\n",
        "            x = model_instance.final_norm(x)\n",
        "\n",
        "            # Return hidden states (before decode to logits)\n",
        "            # Get last token only\n",
        "            last_input_token_idx = jnp.sum(inputs_mask, axis=-1) - 1\n",
        "            x = x[jnp.arange(len(x)), last_input_token_idx, ...]\n",
        "\n",
        "            return x\n",
        "\n",
        "        hidden_states = model.apply(\n",
        "            {'params': params},\n",
        "            dummy_tokens,\n",
        "            embeddings,\n",
        "            method=custom_forward_hidden\n",
        "        )\n",
        "\n",
        "        return hidden_states\n",
        "\n",
        "    # Compute Jacobian\n",
        "    if method == 'jacfwd':\n",
        "        jacobian_fn = jax.jacfwd(get_hidden_states)\n",
        "    elif method == 'jacrev':\n",
        "        jacobian_fn = jax.jacrev(get_hidden_states)\n",
        "    else:\n",
        "        raise ValueError(\"method must be 'jacfwd' or 'jacrev'\")\n",
        "\n",
        "    jacobian = jacobian_fn(embeddings)\n",
        "    output_hidden = get_hidden_states(embeddings)\n",
        "\n",
        "    return jacobian, output_hidden\n",
        "\n",
        "# Alternative: Compute Jacobian for specific output dimensions\n",
        "def compute_selective_jacobian(model, params, embeddings, output_indices=None):\n",
        "    \"\"\"\n",
        "    Compute Jacobian for specific output dimensions to save memory.\n",
        "\n",
        "    Args:\n",
        "        output_indices: Array of output dimension indices to compute gradients for\n",
        "                       If None, computes for all dimensions\n",
        "    \"\"\"\n",
        "\n",
        "    def get_hidden_states(embeddings):\n",
        "        batch_size, seq_len, embed_dim = embeddings.shape\n",
        "        dummy_tokens = jnp.ones((batch_size, seq_len), dtype=jnp.int32)\n",
        "\n",
        "        def custom_forward_hidden(model_instance, tokens, embeddings_to_inject):\n",
        "            inputs_mask = jnp.ones_like(tokens, dtype=bool)\n",
        "            positions = jnp.arange(seq_len)[None, :].repeat(batch_size, axis=0)\n",
        "\n",
        "            from gemma.gm.utils import _attention_mask\n",
        "            attention_mask = _attention_mask.make_causal_bidirectional_attention_mask(inputs_mask)\n",
        "\n",
        "            x = embeddings_to_inject\n",
        "\n",
        "            old_cache = {}\n",
        "            for i, block in enumerate(model_instance.blocks):\n",
        "                layer_name = f'layer_{i}'\n",
        "                layer_cache, x = block(x, positions, old_cache.get(layer_name), attention_mask)\n",
        "                old_cache[layer_name] = layer_cache\n",
        "\n",
        "            x = model_instance.final_norm(x)\n",
        "\n",
        "            last_input_token_idx = jnp.sum(inputs_mask, axis=-1) - 1\n",
        "            x = x[jnp.arange(len(x)), last_input_token_idx, ...]\n",
        "\n",
        "            # Select specific output dimensions if specified\n",
        "            if output_indices is not None:\n",
        "                x = x[:, output_indices]\n",
        "\n",
        "            return x\n",
        "\n",
        "        return model.apply(\n",
        "            {'params': params},\n",
        "            dummy_tokens,\n",
        "            embeddings,\n",
        "            method=custom_forward_hidden\n",
        "        )\n",
        "\n",
        "    jacobian_fn = jax.jacfwd(get_hidden_states)\n",
        "    jacobian = jacobian_fn(embeddings)\n",
        "    output_hidden = get_hidden_states(embeddings)\n",
        "\n",
        "    return jacobian, output_hidden\n",
        "\n",
        "# Memory-efficient version: compute gradients one output dimension at a time\n",
        "def compute_jacobian_chunked(model, params, embeddings, chunk_size=10):\n",
        "    \"\"\"\n",
        "    Compute Jacobian in chunks to handle large models with limited memory.\n",
        "    \"\"\"\n",
        "\n",
        "    def get_single_output_dim(embeddings, dim_idx):\n",
        "        \"\"\"Get a single dimension of the output\"\"\"\n",
        "        batch_size, seq_len, embed_dim = embeddings.shape\n",
        "        dummy_tokens = jnp.ones((batch_size, seq_len), dtype=jnp.int32)\n",
        "\n",
        "        def custom_forward_single_dim(model_instance, tokens, embeddings_to_inject):\n",
        "            inputs_mask = jnp.ones_like(tokens, dtype=bool)\n",
        "            positions = jnp.arange(seq_len)[None, :].repeat(batch_size, axis=0)\n",
        "\n",
        "            from gemma.gm.utils import _attention_mask\n",
        "            attention_mask = _attention_mask.make_causal_bidirectional_attention_mask(inputs_mask)\n",
        "\n",
        "            x = embeddings_to_inject\n",
        "\n",
        "            old_cache = {}\n",
        "            for i, block in enumerate(model_instance.blocks):\n",
        "                layer_name = f'layer_{i}'\n",
        "                layer_cache, x = block(x, positions, old_cache.get(layer_name), attention_mask)\n",
        "                old_cache[layer_name] = layer_cache\n",
        "\n",
        "            x = model_instance.final_norm(x)\n",
        "\n",
        "            last_input_token_idx = jnp.sum(inputs_mask, axis=-1) - 1\n",
        "            x = x[jnp.arange(len(x)), last_input_token_idx, ...]\n",
        "\n",
        "            # Return only the specified dimension\n",
        "            return x[:, dim_idx]\n",
        "\n",
        "        return model.apply(\n",
        "            {'params': params},\n",
        "            dummy_tokens,\n",
        "            embeddings,\n",
        "            method=custom_forward_single_dim\n",
        "        )\n",
        "\n",
        "    # Get full output to know dimensions\n",
        "    full_output = get_single_output_dim(embeddings, slice(None))\n",
        "    embed_dim = full_output.shape[-1]\n",
        "\n",
        "    # Compute gradients chunk by chunk\n",
        "    jacobian_chunks = []\n",
        "\n",
        "    for start_idx in range(0, embed_dim, chunk_size):\n",
        "        end_idx = min(start_idx + chunk_size, embed_dim)\n",
        "\n",
        "        # Compute gradients for this chunk\n",
        "        chunk_gradients = []\n",
        "        for dim_idx in range(start_idx, end_idx):\n",
        "            grad_fn = jax.grad(lambda x: jnp.sum(get_single_output_dim(x, dim_idx)))\n",
        "            grad = grad_fn(embeddings)\n",
        "            chunk_gradients.append(grad)\n",
        "\n",
        "        jacobian_chunks.append(jnp.stack(chunk_gradients, axis=0))\n",
        "\n",
        "    # Concatenate all chunks\n",
        "    jacobian = jnp.concatenate(jacobian_chunks, axis=0)\n",
        "\n",
        "    return jacobian, full_output\n",
        "\n",
        "# Usage examples:\n",
        "def example_usage():\n",
        "    # Basic usage\n",
        "    jacobian, output_hidden = compute_embedding_jacobian(model, params, embeddings)\n",
        "    print(f\"Jacobian shape: {jacobian.shape}\")\n",
        "    print(f\"Output hidden shape: {output_hidden.shape}\")\n",
        "\n",
        "    # For specific output dimensions (e.g., first 50 dimensions)\n",
        "    selective_jacobian, _ = compute_selective_jacobian(\n",
        "        model, params, embeddings,\n",
        "        output_indices=jnp.arange(50)\n",
        "    )\n",
        "    print(f\"Selective Jacobian shape: {selective_jacobian.shape}\")\n",
        "\n",
        "    # Memory-efficient chunked computation\n",
        "    chunked_jacobian, _ = compute_jacobian_chunked(\n",
        "        model, params, embeddings,\n",
        "        chunk_size=10\n",
        "    )\n",
        "    print(f\"Chunked Jacobian shape: {chunked_jacobian.shape}\")\n",
        "\n",
        "# Example usage:\n",
        "# jacobian, hidden_states = compute_embedding_jacobian(model, params, embeddings)\n",
        "# print(f\"Jacobian shape: {jacobian.shape}\")  # (batch, embed_dim, batch, seq_len, embed_dim)"
      ],
      "metadata": {
        "id": "RlmhuH6u1GlQ",
        "cellView": "form"
      },
      "execution_count": null,
      "outputs": []
    },
    {
      "cell_type": "code",
      "source": [
        "%%time\n",
        "jacobian, hidden_states = compute_embedding_jacobian(model, params, embeddings)\n",
        "print(f\"Jacobian shape: {jacobian.shape}\")  # (batch, embed_dim, batch, seq_len, embed_dim)"
      ],
      "metadata": {
        "colab": {
          "base_uri": "https://localhost:8080/"
        },
        "id": "sLlAK4pS-xhs",
        "outputId": "0b14cdd9-1acc-48dc-d580-d6c1d6d0f722"
      },
      "execution_count": null,
      "outputs": [
        {
          "output_type": "stream",
          "name": "stdout",
          "text": [
            "Jacobian shape: (1, 2560, 1, 3, 2560)\n",
            "CPU times: user 28.6 s, sys: 865 ms, total: 29.4 s\n",
            "Wall time: 16.3 s\n"
          ]
        }
      ]
    },
    {
      "cell_type": "code",
      "source": [
        "import matplotlib.pyplot as plt"
      ],
      "metadata": {
        "id": "ITiAac7wEzY5"
      },
      "execution_count": null,
      "outputs": []
    },
    {
      "cell_type": "code",
      "source": [
        "plt.scatter(\n",
        "    output[2],\n",
        "    jax.numpy.einsum('ijk,jk->i',jacobian[0,:,:,:,:].squeeze(),embeddings.squeeze()),\n",
        "    marker='x'\n",
        ")\n",
        "plt.grid()\n"
      ],
      "metadata": {
        "colab": {
          "base_uri": "https://localhost:8080/",
          "height": 430
        },
        "id": "iPRcbDIXE2AI",
        "outputId": "0f250a7b-9ef4-4534-a402-292f1df87e43"
      },
      "execution_count": null,
      "outputs": [
        {
          "output_type": "display_data",
          "data": {
            "text/plain": [
              "<Figure size 640x480 with 1 Axes>"
            ],
            "image/png": "[encoded data removed]"
          },
          "metadata": {}
        }
      ]
    },
    {
      "cell_type": "code",
      "source": [
        "import numpy as np"
      ],
      "metadata": {
        "id": "x_3f5KdCSM6b"
      },
      "execution_count": null,
      "outputs": []
    },
    {
      "cell_type": "code",
      "source": [
        "np.asarray(output[2]-jax.numpy.einsum('ijk,jk->i',jacobian[0,:,:,:,:].squeeze(),embeddings.squeeze()))[0]"
      ],
      "metadata": {
        "id": "nicTtpZGSews",
        "colab": {
          "base_uri": "https://localhost:8080/"
        },
        "outputId": "76cb4f57-297c-4542-f21d-3834f6f83261"
      },
      "execution_count": null,
      "outputs": [
        {
          "output_type": "execute_result",
          "data": {
            "text/plain": [
              "array([-2.0695925e-03, -7.1370602e-03,  1.4033318e-03, ...,\n",
              "       -6.4609051e-03,  4.9829483e-05, -7.8916550e-04], dtype=float32)"
            ]
          },
          "metadata": {},
          "execution_count": 33
        }
      ]
    },
    {
      "cell_type": "code",
      "source": [
        "plt.hist(np.asarray(output[2]-jax.numpy.einsum('ijk,jk->i',jacobian[0,:,:,:,:].squeeze(),embeddings.squeeze()))[0],bins=40);"
      ],
      "metadata": {
        "id": "QDgdoHM6SBFK",
        "colab": {
          "base_uri": "https://localhost:8080/",
          "height": 430
        },
        "outputId": "dd4454f7-d317-4197-c868-a55837b3dd79"
      },
      "execution_count": null,
      "outputs": [
        {
          "output_type": "display_data",
          "data": {
            "text/plain": [
              "<Figure size 640x480 with 1 Axes>"
            ],
            "image/png": "[encoded data removed]"
          },
          "metadata": {}
        }
      ]
    },
    {
      "cell_type": "code",
      "source": [
        "import time\n",
        "\n",
        "# Time full SVD\n",
        "start = time.time()\n",
        "U, S, Vt = jnp.linalg.svd(jacobian[0,:,:,0,:].squeeze().astype('float32'))#, full_matrices=False, subset_by_index=(0,2))\n",
        "jax.block_until_ready([U, S, Vt])  # Ensure computation completes\n",
        "full_svd_time = time.time() - start\n",
        "\n",
        "print(f\"Full SVD time: {full_svd_time:.3f}s\")\n",
        "plt.plot(S[:512],'-o')"
      ],
      "metadata": {
        "id": "lgde-P4oWCzB",
        "colab": {
          "base_uri": "https://localhost:8080/",
          "height": 467
        },
        "outputId": "40f0c9e1-130d-4c13-ac32-696e48e95085"
      },
      "execution_count": null,
      "outputs": [
        {
          "output_type": "stream",
          "name": "stdout",
          "text": [
            "Full SVD time: 1.036s\n"
          ]
        },
        {
          "output_type": "execute_result",
          "data": {
            "text/plain": [
              "[<matplotlib.lines.Line2D at 0x7c178c445c10>]"
            ]
          },
          "metadata": {},
          "execution_count": 35
        },
        {
          "output_type": "display_data",
          "data": {
            "text/plain": [
              "<Figure size 640x480 with 1 Axes>"
            ],
            "image/png": "[encoded data removed]"
          },
          "metadata": {}
        }
      ]
    },
    {
      "cell_type": "code",
      "source": [
        "np.std(output[2]-jax.numpy.einsum('ijk,jk->i',jacobian.squeeze(),embeddings.squeeze()))/np.std(output[2])"
      ],
      "metadata": {
        "id": "2lUTMFGFVEb1",
        "colab": {
          "base_uri": "https://localhost:8080/"
        },
        "outputId": "001fc068-7fa5-49d2-c2bf-c5141a5b068c"
      },
      "execution_count": null,
      "outputs": [
        {
          "output_type": "execute_result",
          "data": {
            "text/plain": [
              "Array(0.00137194, dtype=float32)"
            ]
          },
          "metadata": {},
          "execution_count": 36
        }
      ]
    },
    {
      "cell_type": "code",
      "source": [
        "  def get_hidden_states(embeddings):\n",
        "      \"\"\"Extract hidden states before the final linear layer\"\"\"\n",
        "      batch_size, seq_len, embed_dim = embeddings.shape\n",
        "      dummy_tokens = jnp.ones((batch_size, seq_len), dtype=jnp.int32)\n",
        "\n",
        "      def custom_forward_hidden(model_instance, tokens, embeddings_to_inject):\n",
        "          inputs_mask = jnp.ones_like(tokens, dtype=bool)\n",
        "          positions = jnp.arange(seq_len)[None, :].repeat(batch_size, axis=0)\n",
        "\n",
        "          from gemma.gm.utils import _attention_mask\n",
        "          attention_mask = _attention_mask.make_causal_bidirectional_attention_mask(inputs_mask)\n",
        "\n",
        "          x = embeddings_to_inject\n",
        "\n",
        "          old_cache = {}\n",
        "          for i, block in enumerate(model_instance.blocks):\n",
        "              layer_name = f'layer_{i}'\n",
        "              layer_cache, x = block(\n",
        "                  x,\n",
        "                  positions,\n",
        "                  old_cache.get(layer_name),\n",
        "                  attention_mask,\n",
        "              )\n",
        "              old_cache[layer_name] = layer_cache\n",
        "\n",
        "          x = model_instance.final_norm(x)\n",
        "\n",
        "          last_input_token_idx = jnp.sum(inputs_mask, axis=-1) - 1\n",
        "          x = x[jnp.arange(len(x)), last_input_token_idx, ...]\n",
        "\n",
        "          return x\n",
        "\n",
        "      hidden_states = model.apply(\n",
        "          {'params': params},\n",
        "          dummy_tokens,\n",
        "          embeddings,\n",
        "          method=custom_forward_hidden\n",
        "      )\n",
        "\n",
        "      return hidden_states"
      ],
      "metadata": {
        "id": "960ATHqOmLga"
      },
      "execution_count": null,
      "outputs": []
    },
    {
      "cell_type": "code",
      "source": [],
      "metadata": {
        "id": "BkkshqEkVF4R"
      },
      "execution_count": null,
      "outputs": []
    },
    {
      "cell_type": "code",
      "source": [
        "# test_reconstruction_accuracy(jacobian_approx, model, params, embeddings, get_hidden_states)"
      ],
      "metadata": {
        "id": "JMPNg4PFmMUa"
      },
      "execution_count": null,
      "outputs": []
    },
    {
      "cell_type": "code",
      "source": [
        "!pip install matfree"
      ],
      "metadata": {
        "id": "pqE9RKTqmOd3",
        "colab": {
          "base_uri": "https://localhost:8080/"
        },
        "outputId": "f1039758-0965-44ee-b04f-8e7516d33ada"
      },
      "execution_count": null,
      "outputs": [
        {
          "output_type": "stream",
          "name": "stdout",
          "text": [
            "Collecting matfree\n",
            "  Downloading matfree-0.4.1-py3-none-any.whl.metadata (10 kB)\n",
            "Downloading matfree-0.4.1-py3-none-any.whl (32 kB)\n",
            "Installing collected packages: matfree\n",
            "Successfully installed matfree-0.4.1\n"
          ]
        }
      ]
    },
    {
      "cell_type": "code",
      "source": [
        "#@title Lanczos Matfree\n",
        "import jax\n",
        "import jax.numpy as jnp\n",
        "import matfree\n",
        "from matfree import decomp, stochtrace, funm\n",
        "from typing import Tuple, Callable\n",
        "import functools\n",
        "\n",
        "def setup_matfree_jacobian_analysis(\n",
        "    model,\n",
        "    params,\n",
        "    embeddings,\n",
        "    use_detached_gradients: bool = True\n",
        "):\n",
        "    \"\"\"\n",
        "    Set up matrix-free Jacobian analysis using Matfree library.\n",
        "    This avoids storing the full Jacobian while still enabling comprehensive analysis.\n",
        "    \"\"\"\n",
        "\n",
        "    @functools.partial(jax.jit, static_argnums=0)\n",
        "    def get_detached_hidden_states(model_apply_fn, params, embeddings):\n",
        "        \"\"\"Detached gradient version for local linearity\"\"\"\n",
        "        batch_size, seq_len, embed_dim = embeddings.shape\n",
        "        dummy_tokens = jnp.ones((batch_size, seq_len), dtype=jnp.int32)\n",
        "\n",
        "        def detached_forward(model_instance, tokens, embeddings_to_inject):\n",
        "            inputs_mask = jnp.ones_like(tokens, dtype=bool)\n",
        "            positions = jnp.arange(seq_len)[None, :].repeat(batch_size, axis=0)\n",
        "\n",
        "            from gemma.gm.utils import _attention_mask\n",
        "            attention_mask = _attention_mask.make_causal_bidirectional_attention_mask(inputs_mask)\n",
        "\n",
        "            x = embeddings_to_inject\n",
        "            old_cache = {}\n",
        "\n",
        "            for i, block in enumerate(model_instance.blocks):\n",
        "                layer_name = f'layer_{i}'\n",
        "\n",
        "                layer_cache, x_out = block(x, positions, old_cache.get(layer_name), attention_mask)\n",
        "                old_cache[layer_name] = layer_cache\n",
        "\n",
        "                if use_detached_gradients:\n",
        "                    # Detach nonlinear components for local linearity\n",
        "                    x_detached = jax.lax.stop_gradient(x_out)\n",
        "                    x = x_detached + (x_out - jax.lax.stop_gradient(x_out))\n",
        "                else:\n",
        "                    x = x_out\n",
        "\n",
        "            x = model_instance.final_norm(x)\n",
        "            if use_detached_gradients:\n",
        "                x_norm_detached = jax.lax.stop_gradient(x)\n",
        "                x = x_norm_detached + (x - jax.lax.stop_gradient(x))\n",
        "\n",
        "            last_input_token_idx = jnp.sum(inputs_mask, axis=-1) - 1\n",
        "            return x[jnp.arange(len(x)), last_input_token_idx, ...]\n",
        "\n",
        "        return model_apply_fn({'params': params}, dummy_tokens, embeddings, method=detached_forward)\n",
        "\n",
        "    # Set up the output function\n",
        "    def output_function(emb):\n",
        "        return get_detached_hidden_states(model.apply, params, emb).flatten()\n",
        "\n",
        "    # Get dimensions\n",
        "    output_hidden = get_detached_hidden_states(model.apply, params, embeddings)\n",
        "    input_size = embeddings.size\n",
        "    output_size = output_hidden.size\n",
        "\n",
        "    print(f\"Matrix-free Jacobian setup:\")\n",
        "    print(f\"  Input size: {input_size:,}\")\n",
        "    print(f\"  Output size: {output_size:,}\")\n",
        "    print(f\"  Jacobian size: {output_size:,} x {input_size:,}\")\n",
        "    print(f\"  Memory saved vs full: {(output_size * input_size * 4) / (1024**3):.1f} GB\")\n",
        "\n",
        "    return output_function, embeddings, output_hidden, (input_size, output_size)\n",
        "\n",
        "\n",
        "def compute_jacobian_trace_estimate(output_function, embeddings, num_samples=1000):\n",
        "    \"\"\"\n",
        "    Estimate the trace of J^T J using Hutchinson's method via Matfree.\n",
        "    This gives insight into the \"energy\" of the Jacobian without computing it fully.\n",
        "    \"\"\"\n",
        "    print(f\"\\nEstimating trace of J^T J using {num_samples} samples...\")\n",
        "\n",
        "    def jtj_matvec(v):\n",
        "        \"\"\"Compute (J^T J) * v\"\"\"\n",
        "        v_reshaped = v.reshape(embeddings.shape)\n",
        "        # J * v using JVP\n",
        "        _, jv = jax.jvp(output_function, (embeddings,), (v_reshaped,))\n",
        "        # J^T * (J * v) using VJP\n",
        "        _, vjp_func = jax.vjp(output_function, embeddings)\n",
        "        jtjv = vjp_func(jv)[0]\n",
        "        return jtjv.flatten()\n",
        "\n",
        "    # Set up Hutchinson trace estimator using correct Matfree API\n",
        "    flat_shape = (embeddings.size,)\n",
        "    template_vector = jnp.zeros(flat_shape)\n",
        "\n",
        "    # Create sampler for Rademacher random variables\n",
        "    sampler = stochtrace.sampler_rademacher(\n",
        "        template_vector,\n",
        "        num=num_samples\n",
        "    )\n",
        "\n",
        "    # Set up trace integrand\n",
        "    integrand = stochtrace.integrand_trace()\n",
        "\n",
        "    # Create the estimator\n",
        "    estimator = stochtrace.estimator(integrand, sampler)\n",
        "\n",
        "    # Estimate the trace\n",
        "    key = jax.random.PRNGKey(42)\n",
        "    trace_estimate = estimator(jtj_matvec.astype(jnp.float32), key)\n",
        "    trace_estimate = trace_estimate.astype(jnp.bfloat16)\n",
        "    print(f\"  Estimated trace(J^T J): {trace_estimate:.2f}\")\n",
        "    return trace_estimate\n",
        "\n",
        "\n",
        "def compute_top_singular_vectors_matfree(output_function, embeddings, k=50, max_iter=100):\n",
        "    \"\"\"\n",
        "    Compute top-k singular vectors using Matfree's Lanczos implementation.\n",
        "    Much more efficient and robust than our manual implementation.\n",
        "    \"\"\"\n",
        "    print(f\"\\nComputing top-{k} singular vectors using Matfree Lanczos...\")\n",
        "\n",
        "    input_size = embeddings.size\n",
        "    output_hidden = output_function(embeddings)\n",
        "    output_size = output_hidden.size\n",
        "\n",
        "    # JIT compile the matrix-vector operations\n",
        "    # @jax.jit\n",
        "    # def jacobian_matvec(v):\n",
        "\n",
        "    #     v_reshaped = v.reshape(embeddings.shape)\n",
        "    #     _, jv = jax.jvp(output_function, (embeddings,), (v_reshaped,))\n",
        "    #     return jv.flatten()\n",
        "\n",
        "    # @jax.jit\n",
        "    # def jacobian_rmatvec(v):\n",
        "    #     v_reshaped = v.reshape(output_hidden.shape)\n",
        "    #     _, vjp_func = jax.vjp(output_function, embeddings)\n",
        "    #     return vjp_func(v_reshaped)[0].flatten()\n",
        "\n",
        "    def jacobian_matvec(v):\n",
        "        \"\"\"J * v\"\"\"\n",
        "        v_reshaped = v.reshape(embeddings.shape)\n",
        "        _, jv = jax.jvp(output_function, (embeddings,), (v_reshaped,))\n",
        "        return jv.flatten()\n",
        "\n",
        "    def jacobian_rmatvec(v):\n",
        "        \"\"\"J^T * v\"\"\"\n",
        "        v_reshaped = v.reshape(output_hidden.shape)\n",
        "        _, vjp_func = jax.vjp(output_function, embeddings)\n",
        "        return vjp_func(v_reshaped)[0].flatten()\n",
        "\n",
        "    # Choose smaller matrix for efficiency\n",
        "    if output_size < input_size:\n",
        "        # Use J J^T\n",
        "        def jjt_matvec(v):\n",
        "            return jacobian_matvec(jacobian_rmatvec(v))\n",
        "\n",
        "        print(f\"  Using J J^T ({output_size} x {output_size})\")\n",
        "        matrix_size = output_size\n",
        "        matvec_fn = jjt_matvec\n",
        "\n",
        "    else:\n",
        "        # Use J^T J\n",
        "        def jtj_matvec(v):\n",
        "            return jacobian_rmatvec(jacobian_matvec(v))\n",
        "\n",
        "        print(f\"  Using J^T J ({input_size} x {input_size})\")\n",
        "        matrix_size = input_size\n",
        "        matvec_fn = jtj_matvec\n",
        "\n",
        "    # Use the correct Matfree API for tridiagonalization\n",
        "    max_iter_actual = min(max_iter, matrix_size - 1)\n",
        "\n",
        "    # The correct way: tridiag_sym returns a function that we can call directly\n",
        "    tridiag_fn = decomp.tridiag_sym(max_iter_actual, reortho=\"full\")\n",
        "\n",
        "    # Call the tridiagonalization function directly\n",
        "    key = jax.random.PRNGKey(42)\n",
        "    template_vector = jax.random.normal(key, shape=(matrix_size,))\n",
        "\n",
        "    # This should return the tridiagonal decomposition result\n",
        "    result = tridiag_fn(matvec_fn, template_vector)\n",
        "\n",
        "    # Extract the components from the Matfree result\n",
        "    # Based on the attributes you showed: ['J_small', 'Q_tall', ...]\n",
        "    if hasattr(result, 'J_small') and hasattr(result, 'Q_tall'):\n",
        "        print(\"  Using Matfree tridiagonal result\")\n",
        "        # J_small should be the tridiagonal matrix\n",
        "        # Q_tall should be the orthogonal basis vectors\n",
        "\n",
        "        tridiag_matrix = result.J_small  # This should be the T matrix\n",
        "        basis_vectors = result.Q_tall    # This should be the Q matrix\n",
        "\n",
        "        # Extract eigenvalues and eigenvectors from the tridiagonal matrix\n",
        "        eigenvals, eigenvecs = jnp.linalg.eigh(tridiag_matrix)\n",
        "\n",
        "        # Get top-k eigenvalues and vectors\n",
        "        k_actual = min(k, len(eigenvals))\n",
        "        idx = jnp.argsort(eigenvals)[-k_actual:]\n",
        "        top_eigenvals = eigenvals[idx]\n",
        "        top_eigenvecs_tridiag = eigenvecs[:, idx]\n",
        "\n",
        "        # Reconstruct eigenvectors in original space\n",
        "        # Q_tall @ eigenvectors gives us the actual eigenvectors\n",
        "        top_eigenvecs = basis_vectors @ top_eigenvecs_tridiag\n",
        "\n",
        "        # Convert to singular values\n",
        "        singular_values = jnp.sqrt(jnp.maximum(top_eigenvals, 0))\n",
        "\n",
        "        print(f\"  Matfree completed with {tridiag_matrix.shape[0]} iterations\")\n",
        "        print(f\"  Tridiagonal matrix shape: {tridiag_matrix.shape}\")\n",
        "        print(f\"  Basis vectors shape: {basis_vectors.shape}\")\n",
        "\n",
        "    else:\n",
        "        print(\"  Warning: Unexpected Matfree result structure\")\n",
        "        print(f\"  Result type: {type(result)}\")\n",
        "        print(f\"  Result attributes: {dir(result)}\")\n",
        "        # Fallback to manual implementation\n",
        "        return compute_top_singular_vectors_manual(\n",
        "            jacobian_matvec, jacobian_rmatvec,\n",
        "            input_size, output_size, k, max_iter\n",
        "        )\n",
        "\n",
        "    # Compute complementary singular vectors\n",
        "    if output_size < input_size:\n",
        "        # We computed J J^T, so top_eigenvecs are left singular vectors\n",
        "        U = top_eigenvecs\n",
        "\n",
        "        # Compute right singular vectors: V = J^T U / sigma\n",
        "        V_list = []\n",
        "        for i in range(k_actual):\n",
        "            if singular_values[i] > 1e-12:\n",
        "                v_i = jacobian_rmatvec(U[:, i]) / singular_values[i]\n",
        "            else:\n",
        "                v_i = jnp.zeros(input_size)\n",
        "            V_list.append(v_i)\n",
        "        V = jnp.column_stack(V_list) if V_list else jnp.zeros((input_size, 0))\n",
        "\n",
        "    else:\n",
        "        # We computed J^T J, so top_eigenvecs are right singular vectors\n",
        "        V = top_eigenvecs\n",
        "\n",
        "        # Compute left singular vectors: U = J V / sigma\n",
        "        U_list = []\n",
        "        for i in range(k_actual):\n",
        "            if singular_values[i] > 1e-12:\n",
        "                u_i = jacobian_matvec(V[:, i]) / singular_values[i]\n",
        "            else:\n",
        "                u_i = jnp.zeros(output_size)\n",
        "            U_list.append(u_i)\n",
        "        U = jnp.column_stack(U_list) if U_list else jnp.zeros((output_size, 0))\n",
        "\n",
        "    print(f\"  Top-{k_actual} singular values: {singular_values}\")\n",
        "\n",
        "    return U, singular_values, V, result\n",
        "\n",
        "\n",
        "def compute_top_singular_vectors_manual(jacobian_matvec, jacobian_rmatvec,\n",
        "                                       input_size, output_size, k, max_iter):\n",
        "    \"\"\"\n",
        "    Fallback manual implementation if Matfree API doesn't work as expected.\n",
        "    \"\"\"\n",
        "    print(\"  Falling back to manual Lanczos implementation...\")\n",
        "\n",
        "    # Use the smaller matrix\n",
        "    if output_size < input_size:\n",
        "        def matvec(v):\n",
        "            return jacobian_matvec(jacobian_rmatvec(v))\n",
        "        matrix_size = output_size\n",
        "        is_jjt = True\n",
        "    else:\n",
        "        def matvec(v):\n",
        "            return jacobian_rmatvec(jacobian_matvec(v))\n",
        "        matrix_size = input_size\n",
        "        is_jjt = False\n",
        "\n",
        "    # Simple Lanczos iteration\n",
        "    max_iter = min(max_iter, matrix_size - 1, k + 10)\n",
        "\n",
        "    # Initialize\n",
        "    key = jax.random.PRNGKey(42)\n",
        "    q = jax.random.normal(key, (matrix_size,))\n",
        "    q = q / jnp.linalg.norm(q)\n",
        "\n",
        "    Q = jnp.zeros((matrix_size, max_iter + 1))\n",
        "    alpha = jnp.zeros(max_iter)\n",
        "    beta = jnp.zeros(max_iter + 1)\n",
        "\n",
        "    Q = Q.at[:, 0].set(q)\n",
        "\n",
        "    for j in range(max_iter):\n",
        "        v = matvec(Q[:, j])\n",
        "\n",
        "        alpha = alpha.at[j].set(jnp.dot(Q[:, j], v))\n",
        "        v = v - alpha[j] * Q[:, j]\n",
        "\n",
        "        if j > 0:\n",
        "            v = v - beta[j] * Q[:, j-1]\n",
        "\n",
        "        beta_val = jnp.linalg.norm(v)\n",
        "        beta = beta.at[j+1].set(beta_val)\n",
        "\n",
        "        if beta_val < 1e-12:\n",
        "            actual_iter = j + 1\n",
        "            break\n",
        "\n",
        "        Q = Q.at[:, j+1].set(v / beta_val)\n",
        "        actual_iter = j + 1\n",
        "    else:\n",
        "        actual_iter = max_iter\n",
        "\n",
        "    # Build tridiagonal matrix and solve\n",
        "    T = jnp.diag(alpha[:actual_iter])\n",
        "    if actual_iter > 1:\n",
        "        off_diag = beta[1:actual_iter]\n",
        "        T = T + jnp.diag(off_diag, 1) + jnp.diag(off_diag, -1)\n",
        "\n",
        "    eigenvals, eigenvecs = jnp.linalg.eigh(T)\n",
        "\n",
        "    # Top k\n",
        "    k_actual = min(k, len(eigenvals))\n",
        "    idx = jnp.argsort(eigenvals)[-k_actual:]\n",
        "    top_eigenvals = eigenvals[idx]\n",
        "\n",
        "    # Reconstruct vectors\n",
        "    top_vecs = Q[:, :actual_iter] @ eigenvecs[:, idx]\n",
        "    singular_values = jnp.sqrt(jnp.maximum(top_eigenvals, 0))\n",
        "\n",
        "    if is_jjt:\n",
        "        U = top_vecs\n",
        "        V_list = []\n",
        "        for i in range(k_actual):\n",
        "            if singular_values[i] > 1e-12:\n",
        "                v_i = jacobian_rmatvec(U[:, i]) / singular_values[i]\n",
        "            else:\n",
        "                v_i = jnp.zeros(input_size)\n",
        "            V_list.append(v_i)\n",
        "        V = jnp.column_stack(V_list)\n",
        "    else:\n",
        "        V = top_vecs\n",
        "        U_list = []\n",
        "        for i in range(k_actual):\n",
        "            if singular_values[i] > 1e-12:\n",
        "                u_i = jacobian_matvec(V[:, i]) / singular_values[i]\n",
        "            else:\n",
        "                u_i = jnp.zeros(output_size)\n",
        "            U_list.append(u_i)\n",
        "        U = jnp.column_stack(U_list)\n",
        "\n",
        "    print(f\"  Manual implementation completed with {actual_iter} iterations\")\n",
        "    print(f\"  Top-{k_actual} singular values: {singular_values}\")\n",
        "\n",
        "    return U, singular_values, V, None\n",
        "\n",
        "\n",
        "def compute_jacobian_log_determinant(output_function, embeddings, num_samples=100):\n",
        "    \"\"\"\n",
        "    Estimate log|det(J^T J)| using stochastic Lanczos quadrature.\n",
        "    This is useful for understanding the \"volume\" of the transformation.\n",
        "    \"\"\"\n",
        "    print(f\"\\nEstimating log-determinant of J^T J...\")\n",
        "\n",
        "    def jtj_matvec(v):\n",
        "        v_reshaped = v.reshape(embeddings.shape)\n",
        "        _, jv = jax.jvp(output_function, (embeddings,), (v_reshaped,))\n",
        "        _, vjp_func = jax.vjp(output_function, embeddings)\n",
        "        jtjv = vjp_func(jv)[0]\n",
        "        return jtjv.flatten()\n",
        "\n",
        "    # Use stochastic Lanczos quadrature for log-determinant\n",
        "    input_like = jnp.zeros(embeddings.shape).flatten()\n",
        "    input_size = embeddings.size\n",
        "\n",
        "    # Set up the log function\n",
        "    def log_fn(x):\n",
        "        return jnp.log(x + 1e-12)  # Add small regularization\n",
        "\n",
        "    # Use Matfree's function evaluation tools\n",
        "    sampler = stochtrace.sampler_rademacher(input_like, num=num_samples)\n",
        "\n",
        "    # This is a simplified version - you'd want to use matfree.funm for the full implementation\n",
        "    # For now, we'll estimate it via trace estimation of log eigenvalues\n",
        "    print(\"  (Simplified log-det estimation - see Matfree docs for full implementation)\")\n",
        "\n",
        "    return None  # Placeholder\n",
        "\n",
        "\n",
        "def analyze_jacobian_spectrum_matfree(output_function, embeddings, k=100, max_iter=100):\n",
        "    \"\"\"\n",
        "    Comprehensive spectral analysis using Matfree tools.\n",
        "    \"\"\"\n",
        "    print(\"\\n\" + \"=\"*60)\n",
        "    print(\"MATRIX-FREE JACOBIAN SPECTRAL ANALYSIS\")\n",
        "    print(\"=\"*60)\n",
        "\n",
        "    # 1. Trace estimation\n",
        "    trace_jtj = compute_jacobian_trace_estimate(output_function, embeddings, num_samples=100)\n",
        "\n",
        "    # 2. Top singular vectors\n",
        "    U, singular_values, V, lanczos_state = compute_top_singular_vectors_matfree(\n",
        "        output_function, embeddings, k=k, max_iter=max_iter\n",
        "    )\n",
        "\n",
        "    # 3. Spectral properties\n",
        "    print(f\"\\nSPECTRAL PROPERTIES:\")\n",
        "    print(f\"  Largest singular value: {singular_values[0]:.6f}\")\n",
        "    print(f\"  Smallest computed singular value: {singular_values[-1]:.6f}\")\n",
        "    print(f\"  Condition number estimate: {singular_values[0] / singular_values[-1]:.2e}\")\n",
        "    print(f\"  Spectral norm estimate: {singular_values[0]:.6f}\")\n",
        "    print(f\"  Trace(J^T J) estimate: {trace_jtj:.2f}\")\n",
        "    print(f\"  Sum of top-{k} eigenvalues: {jnp.sum(singular_values**2):.2f}\")\n",
        "\n",
        "    # 4. Low-rank approximation analysis\n",
        "    print(f\"\\nLOW-RANK STRUCTURE:\")\n",
        "    total_energy = jnp.sum(singular_values**2)\n",
        "    cumulative_energy = jnp.cumsum(singular_values**2)\n",
        "\n",
        "    for pct in [50, 90, 95, 99]:\n",
        "        idx = jnp.argmax(cumulative_energy >= (pct/100) * total_energy)\n",
        "        if idx < len(singular_values):\n",
        "            print(f\"  {pct}% energy in top {idx+1} components\")\n",
        "\n",
        "    return {\n",
        "        'singular_values': singular_values,\n",
        "        'left_singular_vectors': U,\n",
        "        'right_singular_vectors': V,\n",
        "        'trace_estimate': trace_jtj,\n",
        "        'lanczos_state': lanczos_state\n",
        "    }\n",
        "\n",
        "\n",
        "def test_reconstruction_matfree(output_function, embeddings, results, num_tests=3):\n",
        "    \"\"\"\n",
        "    Test reconstruction quality using the matrix-free singular vectors.\n",
        "    \"\"\"\n",
        "    print(f\"\\nTesting reconstruction with top-{len(results['singular_values'])} components...\")\n",
        "\n",
        "    U = results['left_singular_vectors']\n",
        "    s = results['singular_values']\n",
        "    V = results['right_singular_vectors']\n",
        "\n",
        "    original_output = output_function(embeddings)\n",
        "\n",
        "    for i in range(num_tests):\n",
        "        # Random perturbation\n",
        "        scale = 10**(-3-i)\n",
        "        key = jax.random.PRNGKey(42 + i)\n",
        "        delta = jax.random.normal(key, embeddings.shape) * scale\n",
        "\n",
        "        # True perturbed output\n",
        "        perturbed_output = output_function(embeddings + delta)\n",
        "        true_change = perturbed_output - original_output\n",
        "\n",
        "        # Low-rank approximation of change\n",
        "        delta_flat = delta.flatten()\n",
        "\n",
        "        # Approximate: (U @ diag(s) @ V.T) @ delta_flat\n",
        "        predicted_change = U @ (s[:, None] * (V.T @ delta_flat)[:, None]).flatten()\n",
        "\n",
        "        error = jnp.linalg.norm(true_change - predicted_change) / jnp.linalg.norm(true_change)\n",
        "        print(f\"  Test {i+1}: scale={scale:.0e}, relative_error={error:.2e}\")\n",
        "\n",
        "\n",
        "def reconstruct_jacobian_from_svd(U, singular_values, V, return_full=True):\n",
        "    \"\"\"\n",
        "    Reconstruct the Jacobian matrix from its SVD components.\n",
        "\n",
        "    Args:\n",
        "        U: Left singular vectors (output_size, k)\n",
        "        singular_values: Singular values (k,)\n",
        "        V: Right singular vectors (input_size, k)\n",
        "        return_full: If True, return full matrix. If False, return function for matvec operations.\n",
        "\n",
        "    Returns:\n",
        "        If return_full=True: Jacobian matrix (output_size, input_size)\n",
        "        If return_full=False: Dictionary with 'matvec' and 'rmatvec' functions\n",
        "    \"\"\"\n",
        "    print(f\"Reconstructing Jacobian from SVD components:\")\n",
        "    print(f\"  U shape: {U.shape} (left singular vectors)\")\n",
        "    print(f\"  σ shape: {singular_values.shape} (singular values)\")\n",
        "    print(f\"  V shape: {V.shape} (right singular vectors)\")\n",
        "\n",
        "    output_size, k = U.shape\n",
        "    input_size, k_check = V.shape\n",
        "\n",
        "    assert k == k_check == len(singular_values), \"Inconsistent dimensions in SVD components\"\n",
        "\n",
        "    if return_full:\n",
        "        # Full reconstruction: J ≈ U @ diag(σ) @ V^T\n",
        "        jacobian_approx = U @ jnp.diag(singular_values) @ V.T\n",
        "\n",
        "        print(f\"  Reconstructed Jacobian shape: {jacobian_approx.shape}\")\n",
        "\n",
        "        # Compute reconstruction properties\n",
        "        frobenius_norm = jnp.linalg.norm(jacobian_approx, 'fro')\n",
        "        spectral_norm = singular_values[0]  # Largest singular value\n",
        "        rank_estimate = jnp.sum(singular_values > 1e-12)\n",
        "\n",
        "        print(f\"  Frobenius norm: {frobenius_norm:.4f}\")\n",
        "        print(f\"  Spectral norm: {spectral_norm:.4f}\")\n",
        "        print(f\"  Effective rank: {rank_estimate}/{k}\")\n",
        "\n",
        "        return jacobian_approx\n",
        "\n",
        "    else:\n",
        "        # Memory-efficient version: return functions for matrix-vector products\n",
        "        def jacobian_matvec(v):\n",
        "            \"\"\"Compute J @ v using low-rank representation\"\"\"\n",
        "            # J @ v = U @ diag(σ) @ V^T @ v = U @ (σ * (V^T @ v))\n",
        "            v_flat = v.flatten() if v.ndim > 1 else v\n",
        "            return U @ (singular_values * (V.T @ v_flat))\n",
        "\n",
        "        def jacobian_rmatvec(u):\n",
        "            \"\"\"Compute J^T @ u using low-rank representation\"\"\"\n",
        "            # J^T @ u = V @ diag(σ) @ U^T @ u = V @ (σ * (U^T @ u))\n",
        "            u_flat = u.flatten() if u.ndim > 1 else u\n",
        "            return V @ (singular_values * (U.T @ u_flat))\n",
        "\n",
        "        def jacobian_quadratic_form(v):\n",
        "            \"\"\"Compute v^T @ J^T @ J @ v efficiently\"\"\"\n",
        "            # v^T @ J^T @ J @ v = ||J @ v||^2 = ||U @ (σ * (V^T @ v))||^2\n",
        "            v_flat = v.flatten() if v.ndim > 1 else v\n",
        "            Vt_v = V.T @ v_flat\n",
        "            weighted = singular_values * Vt_v\n",
        "            return jnp.sum(weighted**2)\n",
        "\n",
        "        print(f\"  Returning matrix-free operators\")\n",
        "\n",
        "        return {\n",
        "            'matvec': jacobian_matvec,\n",
        "            'rmatvec': jacobian_rmatvec,\n",
        "            'quadratic_form': jacobian_quadratic_form,\n",
        "            'frobenius_norm_squared': jnp.sum(singular_values**2),\n",
        "            'spectral_norm': singular_values[0],\n",
        "            'rank': k\n",
        "        }\n",
        "\n",
        "\n",
        "def test_jacobian_reconstruction(jacobian_approx, output_function, embeddings, num_tests=3):\n",
        "    \"\"\"\n",
        "    Test how well the reconstructed Jacobian approximates the true model behavior.\n",
        "    \"\"\"\n",
        "    print(f\"\\nTesting Jacobian reconstruction quality:\")\n",
        "    print(\"=\"*50)\n",
        "\n",
        "    original_output = output_function(embeddings).flatten()\n",
        "\n",
        "    reconstruction_errors = []\n",
        "\n",
        "    for i in range(num_tests):\n",
        "        # Generate test perturbation with decreasing magnitude\n",
        "        perturbation_scale = 10**(-2-i)\n",
        "        key = jax.random.PRNGKey(42 + i)\n",
        "        delta = jax.random.normal(key, embeddings.shape) * perturbation_scale\n",
        "\n",
        "        # True model response\n",
        "        perturbed_output = output_function(embeddings + delta).flatten()\n",
        "        true_change = perturbed_output - original_output\n",
        "\n",
        "        # Linear approximation using reconstructed Jacobian\n",
        "        delta_flat = delta.flatten()\n",
        "        predicted_change = jacobian_approx @ delta_flat\n",
        "\n",
        "        # Compute errors\n",
        "        absolute_error = jnp.linalg.norm(true_change - predicted_change)\n",
        "        relative_error = absolute_error / jnp.linalg.norm(true_change)\n",
        "\n",
        "        reconstruction_errors.append(relative_error)\n",
        "\n",
        "        print(f\"Test {i+1}:\")\n",
        "        print(f\"  Perturbation scale: {perturbation_scale:.0e}\")\n",
        "        print(f\"  True change norm: {jnp.linalg.norm(true_change):.6f}\")\n",
        "        print(f\"  Predicted change norm: {jnp.linalg.norm(predicted_change):.6f}\")\n",
        "        print(f\"  Absolute error: {absolute_error:.6f}\")\n",
        "        print(f\"  Relative error: {relative_error:.6f}\")\n",
        "        print()\n",
        "\n",
        "    avg_error = jnp.mean(jnp.array(reconstruction_errors))\n",
        "    print(f\"Average relative error: {avg_error:.6f}\")\n",
        "\n",
        "    # Quality assessment\n",
        "    if avg_error < 1e-4:\n",
        "        quality = \"Excellent\"\n",
        "    elif avg_error < 1e-3:\n",
        "        quality = \"Very good\"\n",
        "    elif avg_error < 1e-2:\n",
        "        quality = \"Good\"\n",
        "    elif avg_error < 1e-1:\n",
        "        quality = \"Fair\"\n",
        "    else:\n",
        "        quality = \"Poor\"\n",
        "\n",
        "    print(f\"Reconstruction quality: {quality}\")\n",
        "\n",
        "    return reconstruction_errors\n",
        "\n",
        "\n",
        "def analyze_svd_truncation_error(U, singular_values, V, max_components=None):\n",
        "    \"\"\"\n",
        "    Analyze how reconstruction error changes with number of SVD components.\n",
        "    \"\"\"\n",
        "    if max_components is None:\n",
        "        max_components = len(singular_values)\n",
        "\n",
        "    print(f\"\\nSVD Truncation Analysis:\")\n",
        "    print(\"=\"*50)\n",
        "\n",
        "    # Full reconstruction for reference\n",
        "    jacobian_full = U @ jnp.diag(singular_values) @ V.T\n",
        "    full_frobenius_norm = jnp.linalg.norm(jacobian_full, 'fro')\n",
        "\n",
        "    print(f\"Full reconstruction (k={len(singular_values)}):\")\n",
        "    print(f\"  Frobenius norm: {full_frobenius_norm:.4f}\")\n",
        "    print()\n",
        "\n",
        "    # Test different truncation levels\n",
        "    test_components = [1, 2, 5, 10, 20, min(50, len(singular_values)), len(singular_values)]\n",
        "    test_components = sorted(list(set([k for k in test_components if k <= len(singular_values)])))\n",
        "\n",
        "    print(\"Truncation analysis:\")\n",
        "    for k in test_components:\n",
        "        if k > len(singular_values):\n",
        "            continue\n",
        "\n",
        "        # Truncated reconstruction\n",
        "        jacobian_k = U[:, :k] @ jnp.diag(singular_values[:k]) @ V[:, :k].T\n",
        "\n",
        "        # Compute error\n",
        "        error_matrix = jacobian_full - jacobian_k\n",
        "        frobenius_error = jnp.linalg.norm(error_matrix, 'fro')\n",
        "        relative_error = frobenius_error / full_frobenius_norm\n",
        "\n",
        "        # Energy captured\n",
        "        energy_k = jnp.sum(singular_values[:k]**2)\n",
        "        total_energy = jnp.sum(singular_values**2)\n",
        "        energy_fraction = energy_k / total_energy\n",
        "\n",
        "        print(f\"  k={k:2d}: relative_error={relative_error:.6f}, \"\n",
        "              f\"energy_captured={energy_fraction:.4f} ({energy_fraction*100:.1f}%)\")\n",
        "\n",
        "    return test_components\n",
        "\n",
        "\n",
        "# Example usage functions\n",
        "def quick_jacobian_analysis(results):\n",
        "    \"\"\"\n",
        "    Quick analysis of the SVD results.\n",
        "    \"\"\"\n",
        "    U = results['left_singular_vectors']\n",
        "    s = results['singular_values']\n",
        "    V = results['right_singular_vectors']\n",
        "\n",
        "    print(f\"\\nQuick Jacobian Analysis:\")\n",
        "    print(\"=\"*50)\n",
        "\n",
        "    # Basic properties\n",
        "    print(f\"Matrix dimensions: {U.shape[0]} × {V.shape[0]}\")\n",
        "    print(f\"Rank approximation: {len(s)}\")\n",
        "    print(f\"Condition number estimate: {s[0] / s[-1]:.2e}\")\n",
        "\n",
        "    # Energy distribution\n",
        "    energy = s**2\n",
        "    total_energy = jnp.sum(energy)\n",
        "    cumulative_energy = jnp.cumsum(energy) / total_energy\n",
        "\n",
        "    print(f\"\\nEnergy distribution:\")\n",
        "    for i, pct in enumerate([0.5, 0.9, 0.95, 0.99]):\n",
        "        idx = jnp.argmax(cumulative_energy >= pct)\n",
        "        if idx < len(s):\n",
        "            print(f\"  {pct*100:4.1f}% energy in top {idx+1:2d} components\")\n",
        "\n",
        "    # Reconstruct Jacobian\n",
        "    jacobian = reconstruct_jacobian_from_svd(U, s, V, return_full=True)\n",
        "\n",
        "    return jacobian\n",
        "\n",
        "\n",
        "# Add this to the example usage section\n",
        "# print(\"\"\"\n",
        "# USAGE EXAMPLES:\n",
        "\n",
        "# # Reconstruct full Jacobian matrix\n",
        "# jacobian_matrix = reconstruct_jacobian_from_svd(\n",
        "#     results['left_singular_vectors'],\n",
        "#     results['singular_values'],\n",
        "#     results['right_singular_vectors']\n",
        "# )\n",
        "\n",
        "# # Or get memory-efficient operators\n",
        "# jacobian_ops = reconstruct_jacobian_from_svd(\n",
        "#     results['left_singular_vectors'],\n",
        "#     results['singular_values'],\n",
        "#     results['right_singular_vectors'],\n",
        "#     return_full=False\n",
        "# )\n",
        "\n",
        "# # Then use: jacobian_ops['matvec'](vector)\n",
        "\n",
        "# # Test reconstruction quality\n",
        "# test_jacobian_reconstruction(jacobian_matrix, output_function, embeddings)\n",
        "\n",
        "# # Analyze truncation effects\n",
        "# analyze_svd_truncation_error(\n",
        "#     results['left_singular_vectors'],\n",
        "#     results['singular_values'],\n",
        "#     results['right_singular_vectors']\n",
        "# )\n",
        "# \"\"\")\n",
        "# \"\"\"\n",
        "# Complete analysis pipeline using Matfree.\n",
        "# \"\"\"\n",
        "# # # Setup\n",
        "# # output_fn, emb, output, dims = setup_matfree_jacobian_analysis(\n",
        "# #     model, params, embeddings, use_detached_gradients=True\n",
        "# # )\n",
        "\n",
        "# # # Run comprehensive analysis\n",
        "# # results = analyze_jacobian_spectrum_matfree(output_fn, emb, k=50)\n",
        "\n",
        "# # # Test reconstruction\n",
        "# # test_reconstruction_matfree(output_fn, emb, results)\n",
        "\n",
        "# # return results\n",
        "\n",
        "# # Memory comparison\n",
        "# print(\"\"\"\n",
        "# MEMORY COMPARISON:\n",
        "\n",
        "# Full Jacobian approach:\n",
        "# - Stores entire O(output_size × input_size) matrix\n",
        "# - Memory: ~GB to TB depending on model size\n",
        "# - Perfect accuracy but massive memory requirements\n",
        "\n",
        "# Matfree approach:\n",
        "# - Only stores k singular vectors\n",
        "# - Memory: O(k × (input_size + output_size))\n",
        "# - Excellent accuracy with minimal memory\n",
        "# - Can scale to much larger models!\n",
        "\n",
        "# For a typical LLM layer:\n",
        "# - Full: ~69 GB for (4096 × 4096) Jacobian\n",
        "# - Matfree: ~0.1 GB for top-50 singular vectors\n",
        "# - Memory reduction: ~700x while maintaining high accuracy!\n",
        "# \"\"\")"
      ],
      "metadata": {
        "id": "bClTVlqArrcs"
      },
      "execution_count": null,
      "outputs": []
    },
    {
      "cell_type": "code",
      "source": [
        "embeddings.shape"
      ],
      "metadata": {
        "colab": {
          "base_uri": "https://localhost:8080/"
        },
        "id": "ODjEYRinFvmo",
        "outputId": "04b303f9-772e-4963-84e1-f3b1caf6c7b3"
      },
      "execution_count": null,
      "outputs": [
        {
          "output_type": "execute_result",
          "data": {
            "text/plain": [
              "(1, 406, 2560)"
            ]
          },
          "metadata": {},
          "execution_count": 48
        }
      ]
    },
    {
      "cell_type": "code",
      "source": [
        "# 10 gb = 400 tokens\n",
        "# 50 gb = 2000 tokens"
      ],
      "metadata": {
        "id": "H89khEJEJRK0"
      },
      "execution_count": null,
      "outputs": []
    },
    {
      "cell_type": "code",
      "source": [
        "%%time\n",
        "output_fn, emb, output, dims = setup_matfree_jacobian_analysis(\n",
        "    model, params, embeddings, use_detached_gradients=True\n",
        ")\n",
        "\n",
        "# Run comprehensive analysis\n",
        "results = analyze_jacobian_spectrum_matfree(output_fn, emb, k=16, max_iter=16)\n"
      ],
      "metadata": {
        "colab": {
          "base_uri": "https://localhost:8080/",
          "height": 588
        },
        "id": "_x29qYNV9l8B",
        "outputId": "bc17ea0b-d8c2-4053-9731-ae816dada4f8"
      },
      "execution_count": null,
      "outputs": [
        {
          "output_type": "stream",
          "name": "stdout",
          "text": [
            "Matrix-free Jacobian setup:\n",
            "  Input size: 1,039,360\n",
            "  Output size: 2,560\n",
            "  Jacobian size: 2,560 x 1,039,360\n",
            "  Memory saved vs full: 9.9 GB\n",
            "\n",
            "============================================================\n",
            "MATRIX-FREE JACOBIAN SPECTRAL ANALYSIS\n",
            "============================================================\n",
            "\n",
            "Estimating trace of J^T J using 100 samples...\n"
          ]
        },
        {
          "output_type": "error",
          "ename": "AttributeError",
          "evalue": "'function' object has no attribute 'astype'",
          "traceback": [
            "\u001b[0;31m---------------------------------------------------------------------------\u001b[0m",
            "\u001b[0;31mAttributeError\u001b[0m                            Traceback (most recent call last)",
            "\u001b[0;32m<timed exec>\u001b[0m in \u001b[0;36m<module>\u001b[0;34m\u001b[0m\n",
            "\u001b[0;32m/tmp/ipython-input-2028899658.py\u001b[0m in \u001b[0;36manalyze_jacobian_spectrum_matfree\u001b[0;34m(output_function, embeddings, k, max_iter)\u001b[0m\n\u001b[1;32m    398\u001b[0m \u001b[0;34m\u001b[0m\u001b[0m\n\u001b[1;32m    399\u001b[0m     \u001b[0;31m# 1. Trace estimation\u001b[0m\u001b[0;34m\u001b[0m\u001b[0;34m\u001b[0m\u001b[0m\n\u001b[0;32m--> 400\u001b[0;31m     \u001b[0mtrace_jtj\u001b[0m \u001b[0;34m=\u001b[0m \u001b[0mcompute_jacobian_trace_estimate\u001b[0m\u001b[0;34m(\u001b[0m\u001b[0moutput_function\u001b[0m\u001b[0;34m,\u001b[0m \u001b[0membeddings\u001b[0m\u001b[0;34m,\u001b[0m \u001b[0mnum_samples\u001b[0m\u001b[0;34m=\u001b[0m\u001b[0;36m100\u001b[0m\u001b[0;34m)\u001b[0m\u001b[0;34m\u001b[0m\u001b[0;34m\u001b[0m\u001b[0m\n\u001b[0m\u001b[1;32m    401\u001b[0m \u001b[0;34m\u001b[0m\u001b[0m\n\u001b[1;32m    402\u001b[0m     \u001b[0;31m# 2. Top singular vectors\u001b[0m\u001b[0;34m\u001b[0m\u001b[0;34m\u001b[0m\u001b[0m\n",
            "\u001b[0;32m/tmp/ipython-input-2028899658.py\u001b[0m in \u001b[0;36mcompute_jacobian_trace_estimate\u001b[0;34m(output_function, embeddings, num_samples)\u001b[0m\n\u001b[1;32m    110\u001b[0m     \u001b[0;31m# Estimate the trace\u001b[0m\u001b[0;34m\u001b[0m\u001b[0;34m\u001b[0m\u001b[0m\n\u001b[1;32m    111\u001b[0m     \u001b[0mkey\u001b[0m \u001b[0;34m=\u001b[0m \u001b[0mjax\u001b[0m\u001b[0;34m.\u001b[0m\u001b[0mrandom\u001b[0m\u001b[0;34m.\u001b[0m\u001b[0mPRNGKey\u001b[0m\u001b[0;34m(\u001b[0m\u001b[0;36m42\u001b[0m\u001b[0;34m)\u001b[0m\u001b[0;34m\u001b[0m\u001b[0;34m\u001b[0m\u001b[0m\n\u001b[0;32m--> 112\u001b[0;31m     \u001b[0mtrace_estimate\u001b[0m \u001b[0;34m=\u001b[0m \u001b[0mestimator\u001b[0m\u001b[0;34m(\u001b[0m\u001b[0mjtj_matvec\u001b[0m\u001b[0;34m.\u001b[0m\u001b[0mastype\u001b[0m\u001b[0;34m(\u001b[0m\u001b[0mjnp\u001b[0m\u001b[0;34m.\u001b[0m\u001b[0mfloat32\u001b[0m\u001b[0;34m)\u001b[0m\u001b[0;34m,\u001b[0m \u001b[0mkey\u001b[0m\u001b[0;34m)\u001b[0m\u001b[0;34m\u001b[0m\u001b[0;34m\u001b[0m\u001b[0m\n\u001b[0m\u001b[1;32m    113\u001b[0m     \u001b[0mtrace_estimate\u001b[0m \u001b[0;34m=\u001b[0m \u001b[0mtrace_estimate\u001b[0m\u001b[0;34m.\u001b[0m\u001b[0mastype\u001b[0m\u001b[0;34m(\u001b[0m\u001b[0mjnp\u001b[0m\u001b[0;34m.\u001b[0m\u001b[0mbfloat16\u001b[0m\u001b[0;34m)\u001b[0m\u001b[0;34m\u001b[0m\u001b[0;34m\u001b[0m\u001b[0m\n\u001b[1;32m    114\u001b[0m     \u001b[0mprint\u001b[0m\u001b[0;34m(\u001b[0m\u001b[0;34mf\"  Estimated trace(J^T J): {trace_estimate:.2f}\"\u001b[0m\u001b[0;34m)\u001b[0m\u001b[0;34m\u001b[0m\u001b[0;34m\u001b[0m\u001b[0m\n",
            "\u001b[0;31mAttributeError\u001b[0m: 'function' object has no attribute 'astype'"
          ]
        }
      ]
    },
    {
      "cell_type": "code",
      "source": [
        "!nvidia-smi"
      ],
      "metadata": {
        "colab": {
          "base_uri": "https://localhost:8080/"
        },
        "id": "RsfOrZkP9mio",
        "outputId": "2b0dc571-785b-4b3e-fc80-f8d070e394df"
      },
      "execution_count": null,
      "outputs": [
        {
          "output_type": "stream",
          "name": "stdout",
          "text": [
            "Fri Aug 15 18:23:15 2025       \n",
            "+-----------------------------------------------------------------------------------------+\n",
            "| NVIDIA-SMI 550.54.15              Driver Version: 550.54.15      CUDA Version: 12.4     |\n",
            "|-----------------------------------------+------------------------+----------------------+\n",
            "| GPU  Name                 Persistence-M | Bus-Id          Disp.A | Volatile Uncorr. ECC |\n",
            "| Fan  Temp   Perf          Pwr:Usage/Cap |           Memory-Usage | GPU-Util  Compute M. |\n",
            "|                                         |                        |               MIG M. |\n",
            "|=========================================+========================+======================|\n",
            "|   0  NVIDIA A100-SXM4-40GB          Off |   00000000:00:04.0 Off |                    0 |\n",
            "| N/A   33C    P0             48W /  400W |   16859MiB /  40960MiB |      0%      Default |\n",
            "|                                         |                        |             Disabled |\n",
            "+-----------------------------------------+------------------------+----------------------+\n",
            "                                                                                         \n",
            "+-----------------------------------------------------------------------------------------+\n",
            "| Processes:                                                                              |\n",
            "|  GPU   GI   CI        PID   Type   Process name                              GPU Memory |\n",
            "|        ID   ID                                                               Usage      |\n",
            "|=========================================================================================|\n",
            "+-----------------------------------------------------------------------------------------+\n"
          ]
        }
      ]
    },
    {
      "cell_type": "code",
      "source": [
        "%%time\n",
        "output_fn, emb, output, dims = setup_matfree_jacobian_analysis(\n",
        "    model, params, embeddings, use_detached_gradients=True\n",
        ")\n",
        "\n",
        "# Run comprehensive analysis\n",
        "results = analyze_jacobian_spectrum_matfree(output_fn, emb, k=128, max_iter=128)\n"
      ],
      "metadata": {
        "colab": {
          "base_uri": "https://localhost:8080/"
        },
        "id": "p5RmKzQoAs3L",
        "outputId": "d04b6831-d7df-48f8-d2d1-b25775a8aea2"
      },
      "execution_count": null,
      "outputs": [
        {
          "output_type": "stream",
          "name": "stdout",
          "text": [
            "Matrix-free Jacobian setup:\n",
            "  Input size: 1,039,360\n",
            "  Output size: 2,560\n",
            "  Jacobian size: 2,560 x 1,039,360\n",
            "  Memory saved vs full: 9.9 GB\n",
            "\n",
            "============================================================\n",
            "MATRIX-FREE JACOBIAN SPECTRAL ANALYSIS\n",
            "============================================================\n",
            "\n",
            "Estimating trace of J^T J using 100 samples...\n",
            "  Estimated trace(J^T J): 1303694.88\n",
            "\n",
            "Computing top-128 singular vectors using Matfree Lanczos...\n",
            "  Using J J^T (2560 x 2560)\n",
            "  Using Matfree tridiagonal result\n",
            "  Matfree completed with 128 iterations\n",
            "  Tridiagonal matrix shape: (128, 128)\n",
            "  Basis vectors shape: (2560, 128)\n",
            "  Top-128 singular values: [  0.          1.1880032   2.3166156   3.3295746   4.405803    5.526873\n",
            "   6.6226573   7.747236    8.88564     9.966021   10.970426   12.103738\n",
            "  13.074529   14.401378   15.408037   16.418118   17.433867   18.673948\n",
            "  19.687366   20.717993   21.54668    22.83601    23.861626   25.004562\n",
            "  25.749521   26.878632   27.923483   28.926483   29.897106   30.953842\n",
            "  31.877205   32.532715   34.085274   35.136414   35.54962    37.020714\n",
            "  37.93015    38.496735   39.687145   40.65782    41.47123    42.448215\n",
            "  43.296936   44.24774    44.923447   46.28504    47.263878   47.897327\n",
            "  48.64669    49.24026    50.211475   50.8932     51.53829    52.18906\n",
            "  52.83793    53.506866   54.28438    54.980164   55.57203    56.149025\n",
            "  57.148773   57.810352   58.070133   58.499252   59.277145   59.68212\n",
            "  60.10558    61.20137    61.68876    62.14788    62.619576   64.23272\n",
            "  64.88258    65.17575    65.73771    66.64578    66.74145    68.18947\n",
            "  69.04759    69.44974    70.92379    71.2506     72.18892    73.00322\n",
            "  74.70295    75.03065    76.719444   78.23257    78.54671    81.249985\n",
            "  81.57171    82.4729     82.96235    84.14704    86.71423    87.34959\n",
            "  88.279945   91.32943    93.149315   94.07289    95.21934    97.111755\n",
            "  97.88159    99.966934  101.38496   102.81829   107.44667   110.25983\n",
            " 111.80049   113.55615   114.935646  116.72729   122.10688   122.66259\n",
            " 127.374344  130.80101   132.49146   132.98325   137.0866    139.49675\n",
            " 148.99197   159.20958   166.77357   175.6667    181.31996   190.84457\n",
            " 243.43613   492.6616   ]\n",
            "\n",
            "SPECTRAL PROPERTIES:\n",
            "  Largest singular value: 0.000000\n",
            "  Smallest computed singular value: 492.661591\n",
            "  Condition number estimate: 0.00e+00\n",
            "  Spectral norm estimate: 0.000000\n",
            "  Trace(J^T J) estimate: 1303694.88\n",
            "  Sum of top-128 eigenvalues: 1033909.31\n",
            "\n",
            "LOW-RANK STRUCTURE:\n",
            "  50% energy in top 118 components\n",
            "  90% energy in top 128 components\n",
            "  95% energy in top 128 components\n",
            "  99% energy in top 128 components\n",
            "CPU times: user 3min 46s, sys: 8.33 s, total: 3min 54s\n",
            "Wall time: 2min 8s\n"
          ]
        }
      ]
    },
    {
      "cell_type": "code",
      "source": [
        "# %%time\n",
        "# results = analyze_jacobian_spectrum_matfree(output_fn, emb, k=128, max_iter=128)"
      ],
      "metadata": {
        "id": "bBUc_zTDSXNQ"
      },
      "execution_count": null,
      "outputs": []
    },
    {
      "cell_type": "code",
      "source": [
        "# %%time\n",
        "# output_fn, emb, output, dims = setup_matfree_jacobian_analysis(\n",
        "#     model, params, embeddings, use_detached_gradients=True\n",
        "# )\n",
        "\n",
        "# # Run comprehensive analysis\n",
        "# results = analyze_jacobian_spectrum_matfree(output_fn, emb, k=128, max_iter=128)\n"
      ],
      "metadata": {
        "id": "a6yW6YOE_TBl"
      },
      "execution_count": null,
      "outputs": []
    },
    {
      "cell_type": "code",
      "source": [
        "import matplotlib.pyplot as plt"
      ],
      "metadata": {
        "id": "0KdV03rxH9SP"
      },
      "execution_count": null,
      "outputs": []
    },
    {
      "cell_type": "code",
      "source": [
        "plt.plot(results['singular_values'][::-1],'x')"
      ],
      "metadata": {
        "colab": {
          "base_uri": "https://localhost:8080/",
          "height": 448
        },
        "id": "ILArfilMApLa",
        "outputId": "0f63ad6d-0d6c-4eb0-d268-562eafdb4975"
      },
      "execution_count": null,
      "outputs": [
        {
          "output_type": "execute_result",
          "data": {
            "text/plain": [
              "[<matplotlib.lines.Line2D at 0x7a3312368d90>]"
            ]
          },
          "metadata": {},
          "execution_count": 45
        },
        {
          "output_type": "display_data",
          "data": {
            "text/plain": [
              "<Figure size 640x480 with 1 Axes>"
            ],
            "image/png": "[encoded data removed]"
          },
          "metadata": {}
        }
      ]
    },
    {
      "cell_type": "code",
      "source": [
        "# lanczos_approx_jacobian.shape"
      ],
      "metadata": {
        "id": "Bj06nU1hBNAU"
      },
      "execution_count": null,
      "outputs": []
    },
    {
      "cell_type": "code",
      "source": [
        "# V.T @ embeddings.squeeze().flatten()"
      ],
      "metadata": {
        "id": "SGN24olIG3Uk"
      },
      "execution_count": null,
      "outputs": []
    },
    {
      "cell_type": "code",
      "source": [
        "# lanczos_approx_jacobian = (results['left_singular_vectors'] @ jnp.diag(results['singular_values']) @ results['right_singular_vectors'][:,:2560].T).reshape([2560,11,2560])\n",
        "\n",
        "U = results['left_singular_vectors']\n",
        "sigma = results['singular_values']\n",
        "V = results['right_singular_vectors']\n",
        "# U @ (σ * (V.T @ v))\n",
        "# U @ (sigma * (V.T @ embeddings.squeeze()))\n",
        "\n",
        "plt.scatter(\n",
        "    output[2],\n",
        "    # jax.numpy.einsum('ijk,jk->i',lanczos_approx_jacobian,embeddings.squeeze()),\n",
        "    U @ (sigma * (V.T @ embeddings.squeeze().flatten())),\n",
        "    marker='x'\n",
        ")\n",
        "plt.grid()\n"
      ],
      "metadata": {
        "colab": {
          "base_uri": "https://localhost:8080/",
          "height": 430
        },
        "id": "b0dQKgo3A6xZ",
        "outputId": "c2c6aa61-78af-46de-b04a-c77930a6fbb1"
      },
      "execution_count": null,
      "outputs": [
        {
          "output_type": "display_data",
          "data": {
            "text/plain": [
              "<Figure size 640x480 with 1 Axes>"
            ],
            "image/png": "[encoded data removed]"
          },
          "metadata": {}
        }
      ]
    },
    {
      "cell_type": "code",
      "source": [
        "# lanczos_approx_jacobian = (results['left_singular_vectors'] @ jnp.diag(results['singular_values']) @ results['right_singular_vectors'][:,:2560].T).reshape([2560,11,2560])\n",
        "\n",
        "# np.std(output[2]-jax.numpy.einsum('ijk,jk->i',lanczos_approx_jacobian,embeddings.squeeze()))/np.std(output[2])\n",
        "import numpy as np\n",
        "np.std(output[2]- U @ (sigma * (V.T @ embeddings.squeeze().flatten())))/np.std(output[2])"
      ],
      "metadata": {
        "colab": {
          "base_uri": "https://localhost:8080/"
        },
        "id": "qJV1FaI6_WPB",
        "outputId": "b5dbf211-d436-4d79-9665-cdc5d3459d83"
      },
      "execution_count": null,
      "outputs": [
        {
          "output_type": "execute_result",
          "data": {
            "text/plain": [
              "Array(0.13531448, dtype=float32)"
            ]
          },
          "metadata": {},
          "execution_count": 50
        }
      ]
    },
    {
      "cell_type": "code",
      "source": [
        "plt.hist(\n",
        "    (output[2]-U @ (sigma * (V.T @ embeddings.squeeze().flatten()))),bins=40\n",
        "    # marker='x'\n",
        ")"
      ],
      "metadata": {
        "colab": {
          "base_uri": "https://localhost:8080/",
          "height": 687
        },
        "id": "zPcOI5URA2BH",
        "outputId": "ae138ce0-db8c-47ab-cdac-3fe2887aa88f"
      },
      "execution_count": null,
      "outputs": [
        {
          "output_type": "execute_result",
          "data": {
            "text/plain": [
              "(array([  1.,   1.,   1.,   0.,   2.,   3.,   1.,   7.,  16.,  21.,  20.,\n",
              "         39.,  60.,  68.,  85., 116., 121., 201., 170., 232., 220., 219.,\n",
              "        202., 181., 140., 123.,  92.,  73.,  45.,  30.,  23.,   9.,  17.,\n",
              "         10.,   4.,   2.,   1.,   2.,   1.,   1.]),\n",
              " array([-3.13574219, -2.98258424, -2.82942653, -2.67626858, -2.52311087,\n",
              "        -2.36995292, -2.21679497, -2.06363726, -1.91047943, -1.7573216 ,\n",
              "        -1.60416377, -1.45100594, -1.29784799, -1.14469016, -0.99153233,\n",
              "        -0.83837461, -0.68521667, -0.53205872, -0.378901  , -0.22574306,\n",
              "        -0.07258534,  0.08057261,  0.23373032,  0.38688827,  0.54004622,\n",
              "         0.69320393,  0.84636188,  0.99951982,  1.15267754,  1.30583525,\n",
              "         1.45899296,  1.61215115,  1.76530886,  1.91846657,  2.07162476,\n",
              "         2.22478247,  2.37794018,  2.53109789,  2.68425608,  2.83741379,\n",
              "         2.9905715 ]),\n",
              " <BarContainer object of 40 artists>)"
            ]
          },
          "metadata": {},
          "execution_count": 54
        },
        {
          "output_type": "display_data",
          "data": {
            "text/plain": [
              "<Figure size 640x480 with 1 Axes>"
            ],
            "image/png": "[encoded data removed]"
          },
          "metadata": {}
        }
      ]
    },
    {
      "cell_type": "code",
      "source": [
        "%%time\n",
        "output_fn, emb, output, dims = setup_matfree_jacobian_analysis(\n",
        "    model, params, embeddings, use_detached_gradients=True\n",
        ")\n",
        "\n",
        "# Run comprehensive analysis\n",
        "results = analyze_jacobian_spectrum_matfree(output_fn, emb, k=256, max_iter=256)\n"
      ],
      "metadata": {
        "colab": {
          "base_uri": "https://localhost:8080/"
        },
        "id": "bc66NN_f9VnK",
        "outputId": "45e4150c-7716-44a0-e800-0d6318a01ff7"
      },
      "execution_count": null,
      "outputs": [
        {
          "output_type": "stream",
          "name": "stdout",
          "text": [
            "Matrix-free Jacobian setup:\n",
            "  Input size: 7,680\n",
            "  Output size: 2,560\n",
            "  Jacobian size: 2,560 x 7,680\n",
            "  Memory saved vs full: 0.1 GB\n",
            "\n",
            "============================================================\n",
            "MATRIX-FREE JACOBIAN SPECTRAL ANALYSIS\n",
            "============================================================\n",
            "\n",
            "Estimating trace of J^T J using 100 samples...\n",
            "  Estimated trace(J^T J): 1384848.00\n",
            "\n",
            "Computing top-256 singular vectors using Matfree Lanczos...\n",
            "  Using J J^T (2560 x 2560)\n",
            "  Using Matfree tridiagonal result\n",
            "  Matfree completed with 256 iterations\n",
            "  Tridiagonal matrix shape: (256, 256)\n",
            "  Basis vectors shape: (2560, 256)\n",
            "  Top-256 singular values: [0.00000000e+00 0.00000000e+00 0.00000000e+00 0.00000000e+00\n",
            " 4.20928478e-01 1.09591496e+00 1.43319917e+00 1.84272397e+00\n",
            " 2.20540380e+00 2.55356407e+00 2.83300877e+00 3.15110540e+00\n",
            " 3.40495491e+00 3.71686387e+00 3.99258208e+00 4.35935307e+00\n",
            " 4.61485720e+00 4.99261284e+00 5.26877832e+00 5.63309050e+00\n",
            " 5.95967913e+00 6.29251909e+00 6.52187204e+00 6.83287716e+00\n",
            " 7.22092819e+00 7.53502274e+00 7.83533716e+00 8.03179646e+00\n",
            " 8.45173454e+00 8.72782516e+00 9.06676483e+00 9.33238888e+00\n",
            " 9.57962894e+00 9.90904045e+00 1.01788349e+01 1.04718084e+01\n",
            " 1.07969818e+01 1.11279650e+01 1.15001373e+01 1.16508074e+01\n",
            " 1.19834166e+01 1.22893524e+01 1.25442963e+01 1.27644234e+01\n",
            " 1.30958471e+01 1.33593903e+01 1.37073812e+01 1.39908590e+01\n",
            " 1.41839886e+01 1.44209633e+01 1.48341875e+01 1.50060053e+01\n",
            " 1.52552223e+01 1.56082001e+01 1.58540468e+01 1.61141853e+01\n",
            " 1.63619900e+01 1.65268898e+01 1.68753529e+01 1.72146950e+01\n",
            " 1.75674095e+01 1.76306438e+01 1.80885048e+01 1.81706047e+01\n",
            " 1.85280838e+01 1.86796169e+01 1.89939137e+01 1.92492714e+01\n",
            " 1.95309181e+01 1.97426929e+01 1.99672127e+01 2.01244774e+01\n",
            " 2.04959583e+01 2.06890488e+01 2.08136768e+01 2.09521713e+01\n",
            " 2.12191582e+01 2.14737225e+01 2.16851978e+01 2.18409119e+01\n",
            " 2.21162167e+01 2.22290745e+01 2.24389114e+01 2.25460567e+01\n",
            " 2.27308712e+01 2.29813766e+01 2.32220001e+01 2.33825111e+01\n",
            " 2.36657944e+01 2.38300209e+01 2.40246239e+01 2.44179649e+01\n",
            " 2.44551449e+01 2.46579151e+01 2.48182316e+01 2.49262047e+01\n",
            " 2.50158997e+01 2.52688541e+01 2.57499371e+01 2.59334412e+01\n",
            " 2.62557030e+01 2.64400330e+01 2.67501812e+01 2.69487629e+01\n",
            " 2.70667515e+01 2.75812416e+01 2.76639881e+01 2.79030590e+01\n",
            " 2.80692081e+01 2.82984810e+01 2.84384937e+01 2.88668461e+01\n",
            " 2.90379238e+01 2.95209618e+01 2.98963528e+01 3.01289577e+01\n",
            " 3.05598049e+01 3.08384018e+01 3.09345894e+01 3.11684303e+01\n",
            " 3.15922031e+01 3.19032192e+01 3.21388283e+01 3.26520538e+01\n",
            " 3.26935997e+01 3.31491280e+01 3.32999802e+01 3.41681824e+01\n",
            " 3.44894295e+01 3.45449448e+01 3.48809586e+01 3.53327522e+01\n",
            " 3.53510170e+01 3.56690941e+01 3.58056297e+01 3.61609497e+01\n",
            " 3.69192467e+01 3.70857506e+01 3.76135445e+01 3.79950600e+01\n",
            " 3.82025032e+01 3.88307381e+01 3.90650787e+01 3.93270454e+01\n",
            " 3.95160637e+01 4.02298088e+01 4.05113792e+01 4.09170265e+01\n",
            " 4.16112709e+01 4.16595268e+01 4.21999779e+01 4.24680176e+01\n",
            " 4.27551689e+01 4.30745430e+01 4.33769150e+01 4.39608459e+01\n",
            " 4.43446846e+01 4.50550613e+01 4.57502098e+01 4.62404518e+01\n",
            " 4.64026566e+01 4.72385788e+01 4.73205910e+01 4.77974167e+01\n",
            " 4.82568550e+01 4.84946327e+01 4.90644646e+01 4.95594139e+01\n",
            " 5.05690727e+01 5.06040764e+01 5.14319000e+01 5.20196495e+01\n",
            " 5.25817451e+01 5.31406479e+01 5.33496094e+01 5.37403641e+01\n",
            " 5.39317207e+01 5.57559586e+01 5.61107674e+01 5.66626053e+01\n",
            " 5.75575409e+01 5.80502319e+01 5.91754608e+01 5.94027367e+01\n",
            " 5.99490509e+01 6.00395317e+01 6.01703529e+01 6.10014076e+01\n",
            " 6.19171333e+01 6.26260376e+01 6.28002663e+01 6.32624245e+01\n",
            " 6.45809097e+01 6.55992737e+01 6.63189392e+01 6.67763977e+01\n",
            " 6.78324814e+01 6.87073288e+01 7.01922302e+01 7.09877853e+01\n",
            " 7.15390701e+01 7.23081207e+01 7.33367004e+01 7.38496170e+01\n",
            " 7.62041016e+01 7.74132156e+01 7.80949936e+01 7.89338684e+01\n",
            " 7.97484970e+01 8.01878891e+01 8.09726562e+01 8.25199890e+01\n",
            " 8.27065430e+01 8.34070282e+01 8.43277130e+01 8.64042892e+01\n",
            " 8.78318329e+01 8.91318512e+01 9.07514877e+01 9.09010086e+01\n",
            " 9.20545349e+01 9.35298691e+01 9.43474960e+01 9.49883957e+01\n",
            " 9.55074081e+01 9.82292480e+01 9.93608932e+01 1.01841827e+02\n",
            " 1.04091568e+02 1.05835533e+02 1.07770821e+02 1.09254494e+02\n",
            " 1.10554787e+02 1.13098457e+02 1.16671089e+02 1.18480865e+02\n",
            " 1.21112953e+02 1.22282173e+02 1.22746284e+02 1.23450821e+02\n",
            " 1.26811226e+02 1.31490280e+02 1.32678619e+02 1.35545715e+02\n",
            " 1.38826279e+02 1.43539871e+02 1.49047287e+02 1.50515289e+02\n",
            " 1.55452438e+02 1.56922592e+02 1.66484940e+02 1.70352768e+02\n",
            " 1.82172241e+02 1.92626556e+02 2.56893921e+02 6.89336426e+02]\n",
            "\n",
            "SPECTRAL PROPERTIES:\n",
            "  Largest singular value: 0.000000\n",
            "  Smallest computed singular value: 689.336426\n",
            "  Condition number estimate: 0.00e+00\n",
            "  Spectral norm estimate: 0.000000\n",
            "  Trace(J^T J) estimate: 1384848.00\n",
            "  Sum of top-256 eigenvalues: 1469944.75\n",
            "\n",
            "LOW-RANK STRUCTURE:\n",
            "  50% energy in top 248 components\n",
            "  90% energy in top 256 components\n",
            "  95% energy in top 256 components\n",
            "  99% energy in top 256 components\n",
            "CPU times: user 1min 23s, sys: 6.69 s, total: 1min 30s\n",
            "Wall time: 1min 31s\n"
          ]
        }
      ]
    },
    {
      "cell_type": "code",
      "source": [
        "plt.plot(results['singular_values'][::-1],'x')"
      ],
      "metadata": {
        "colab": {
          "base_uri": "https://localhost:8080/",
          "height": 448
        },
        "id": "_2t2693q9sdA",
        "outputId": "2a1d33d5-891e-4ddf-e999-bccc481822fc"
      },
      "execution_count": null,
      "outputs": [
        {
          "output_type": "execute_result",
          "data": {
            "text/plain": [
              "[<matplotlib.lines.Line2D at 0x7c1668764210>]"
            ]
          },
          "metadata": {},
          "execution_count": 50
        },
        {
          "output_type": "display_data",
          "data": {
            "text/plain": [
              "<Figure size 640x480 with 1 Axes>"
            ],
            "image/png": "[encoded data removed]"
          },
          "metadata": {}
        }
      ]
    },
    {
      "cell_type": "code",
      "source": [
        "lanczos_approx_jacobian = (results['left_singular_vectors'] @ jnp.diag(results['singular_values']) @ results['right_singular_vectors'][:,:2560].T).reshape([2560,4,2560])\n",
        "\n",
        "plt.scatter(\n",
        "    output[2],\n",
        "    jax.numpy.einsum('ijk,jk->i',lanczos_approx_jacobian,embeddings.squeeze()),\n",
        "    marker='x'\n",
        ")\n",
        "# plt.grid()\n"
      ],
      "metadata": {
        "colab": {
          "base_uri": "https://localhost:8080/",
          "height": 515
        },
        "id": "XhjBWA5V9nhU",
        "outputId": "708d4440-2923-4fb8-9578-9ed9154b65db"
      },
      "execution_count": null,
      "outputs": [
        {
          "output_type": "error",
          "ename": "TypeError",
          "evalue": "cannot reshape array of shape (2560, 7680) (size 19660800) into shape [2560, 4, 2560] (size 26214400)",
          "traceback": [
            "\u001b[0;31m---------------------------------------------------------------------------\u001b[0m",
            "\u001b[0;31mTypeError\u001b[0m                                 Traceback (most recent call last)",
            "\u001b[0;32m/tmp/ipython-input-51-1506235136.py\u001b[0m in \u001b[0;36m<cell line: 0>\u001b[0;34m()\u001b[0m\n\u001b[0;32m----> 1\u001b[0;31m \u001b[0mlanczos_approx_jacobian\u001b[0m \u001b[0;34m=\u001b[0m \u001b[0;34m(\u001b[0m\u001b[0mresults\u001b[0m\u001b[0;34m[\u001b[0m\u001b[0;34m'left_singular_vectors'\u001b[0m\u001b[0;34m]\u001b[0m \u001b[0;34m@\u001b[0m \u001b[0mjnp\u001b[0m\u001b[0;34m.\u001b[0m\u001b[0mdiag\u001b[0m\u001b[0;34m(\u001b[0m\u001b[0mresults\u001b[0m\u001b[0;34m[\u001b[0m\u001b[0;34m'singular_values'\u001b[0m\u001b[0;34m]\u001b[0m\u001b[0;34m)\u001b[0m \u001b[0;34m@\u001b[0m \u001b[0mresults\u001b[0m\u001b[0;34m[\u001b[0m\u001b[0;34m'right_singular_vectors'\u001b[0m\u001b[0;34m]\u001b[0m\u001b[0;34m[\u001b[0m\u001b[0;34m:\u001b[0m\u001b[0;34m,\u001b[0m\u001b[0;34m:\u001b[0m\u001b[0;36m2560\u001b[0m\u001b[0;34m]\u001b[0m\u001b[0;34m.\u001b[0m\u001b[0mT\u001b[0m\u001b[0;34m)\u001b[0m\u001b[0;34m.\u001b[0m\u001b[0mreshape\u001b[0m\u001b[0;34m(\u001b[0m\u001b[0;34m[\u001b[0m\u001b[0;36m2560\u001b[0m\u001b[0;34m,\u001b[0m\u001b[0;36m4\u001b[0m\u001b[0;34m,\u001b[0m\u001b[0;36m2560\u001b[0m\u001b[0;34m]\u001b[0m\u001b[0;34m)\u001b[0m\u001b[0;34m\u001b[0m\u001b[0;34m\u001b[0m\u001b[0m\n\u001b[0m\u001b[1;32m      2\u001b[0m \u001b[0;34m\u001b[0m\u001b[0m\n\u001b[1;32m      3\u001b[0m plt.scatter(\n\u001b[1;32m      4\u001b[0m     \u001b[0moutput\u001b[0m\u001b[0;34m[\u001b[0m\u001b[0;36m2\u001b[0m\u001b[0;34m]\u001b[0m\u001b[0;34m,\u001b[0m\u001b[0;34m\u001b[0m\u001b[0;34m\u001b[0m\u001b[0m\n\u001b[1;32m      5\u001b[0m     \u001b[0mjax\u001b[0m\u001b[0;34m.\u001b[0m\u001b[0mnumpy\u001b[0m\u001b[0;34m.\u001b[0m\u001b[0meinsum\u001b[0m\u001b[0;34m(\u001b[0m\u001b[0;34m'ijk,jk->i'\u001b[0m\u001b[0;34m,\u001b[0m\u001b[0mlanczos_approx_jacobian\u001b[0m\u001b[0;34m,\u001b[0m\u001b[0membeddings\u001b[0m\u001b[0;34m.\u001b[0m\u001b[0msqueeze\u001b[0m\u001b[0;34m(\u001b[0m\u001b[0;34m)\u001b[0m\u001b[0;34m)\u001b[0m\u001b[0;34m,\u001b[0m\u001b[0;34m\u001b[0m\u001b[0;34m\u001b[0m\u001b[0m\n",
            "    \u001b[0;31m[... skipping hidden 1 frame]\u001b[0m\n",
            "\u001b[0;32m/usr/local/lib/python3.11/dist-packages/jax/_src/numpy/array_methods.py\u001b[0m in \u001b[0;36m_compute_newshape\u001b[0;34m(arr, newshape)\u001b[0m\n\u001b[1;32m    468\u001b[0m     if (all(isinstance(d, int) for d in (*arr.shape, *newshape)) and\n\u001b[1;32m    469\u001b[0m         arr.size != math.prod(newshape)):\n\u001b[0;32m--> 470\u001b[0;31m       raise TypeError(f\"cannot reshape array of shape {arr.shape} (size {arr.size}) \"\n\u001b[0m\u001b[1;32m    471\u001b[0m                       f\"into shape {orig_newshape} (size {math.prod(newshape)})\")\n\u001b[1;32m    472\u001b[0m   return tuple(-core.divide_shape_sizes(arr.shape, newshape)\n",
            "\u001b[0;31mTypeError\u001b[0m: cannot reshape array of shape (2560, 7680) (size 19660800) into shape [2560, 4, 2560] (size 26214400)"
          ]
        }
      ]
    },
    {
      "cell_type": "code",
      "source": [
        "np.std(output[2]-jax.numpy.einsum('ijk,jk->i',lanczos_approx_jacobian,embeddings.squeeze()))/np.std(output[2])"
      ],
      "metadata": {
        "id": "rPHhIWco9kxb"
      },
      "execution_count": null,
      "outputs": []
    },
    {
      "cell_type": "code",
      "source": [
        "\n",
        "np.std(output[2]- U @ (sigma * (V.T @ embeddings.squeeze().flatten())))/np.std(output[2])"
      ],
      "metadata": {
        "id": "hOGmQ03m8Sh0"
      },
      "execution_count": null,
      "outputs": []
    },
    {
      "cell_type": "code",
      "source": [],
      "metadata": {
        "id": "rxCLICUo8nAO"
      },
      "execution_count": null,
      "outputs": []
    },
    {
      "cell_type": "code",
      "source": [
        "lanczos_approx_jacobian = (results['left_singular_vectors'] @ jnp.diag(results['singular_values']) @ results['right_singular_vectors'][:,:2560].T).reshape([2560,3,2560])\n",
        "\n",
        "plt.scatter(\n",
        "    output[2],\n",
        "    jax.numpy.einsum('ijk,jk->i',lanczos_approx_jacobian,embeddings.squeeze()),\n",
        "    marker='x'\n",
        ")\n",
        "# plt.grid()\n"
      ],
      "metadata": {
        "id": "DwVn67h10BoB"
      },
      "execution_count": null,
      "outputs": []
    },
    {
      "cell_type": "code",
      "source": [
        "np.std(output[2]-jax.numpy.einsum('ijk,jk->i',lanczos_approx_jacobian,embeddings.squeeze()))/np.std(output[2])"
      ],
      "metadata": {
        "id": "s512wcMk9K2n"
      },
      "execution_count": null,
      "outputs": []
    },
    {
      "cell_type": "code",
      "source": [
        "plt.hist(output[2]-jax.numpy.einsum('ijk,jk->i',lanczos_approx_jacobian,embeddings.squeeze()),bins=40)"
      ],
      "metadata": {
        "id": "5xdA47Dt9GBq"
      },
      "execution_count": null,
      "outputs": []
    },
    {
      "cell_type": "code",
      "source": [
        "lanczos_approx_jacobian = (results['left_singular_vectors'] @ jnp.diag(results['singular_values']) @ results['right_singular_vectors'][:,:2560].T).reshape([2560,3,2560])\n",
        "\n",
        "plt.scatter(\n",
        "    output[2],\n",
        "    jax.numpy.einsum('ijk,jk->i',lanczos_approx_jacobian,embeddings.squeeze()),\n",
        "    marker='x'\n",
        ")\n",
        "# plt.grid()\n"
      ],
      "metadata": {
        "id": "bTW1npGA0Ivs"
      },
      "execution_count": null,
      "outputs": []
    },
    {
      "cell_type": "code",
      "source": [
        "%%time\n",
        "results = run_matfree_analysis(model, params, embeddings)"
      ],
      "metadata": {
        "id": "gouDaMg3sHt6"
      },
      "execution_count": null,
      "outputs": []
    },
    {
      "cell_type": "code",
      "source": [
        "results.keys()"
      ],
      "metadata": {
        "id": "uxiW48wJsJAI"
      },
      "execution_count": null,
      "outputs": []
    },
    {
      "cell_type": "code",
      "source": [
        "results['singular_values']"
      ],
      "metadata": {
        "id": "0J79wYIwxNHb"
      },
      "execution_count": null,
      "outputs": []
    },
    {
      "cell_type": "code",
      "source": [],
      "metadata": {
        "id": "sLHupkCmydCa"
      },
      "execution_count": null,
      "outputs": []
    },
    {
      "cell_type": "code",
      "source": [
        "\n",
        "    # Reconstruct approximate Jacobian: J ≈ U @ diag(s) @ V^T\n",
        "    jacobian_approx = U @ jnp.diag(singular_values) @ V.T"
      ],
      "metadata": {
        "id": "Ynd6RRIsxa7Y"
      },
      "execution_count": null,
      "outputs": []
    },
    {
      "cell_type": "code",
      "source": [
        "results['left_singular_vectors'].shape, results['singular_values'].shape,results['right_singular_vectors'].shape\n",
        "# shape: ((2560, 5), (5,), (7680, 5))"
      ],
      "metadata": {
        "id": "SdMPU5jSyePH"
      },
      "execution_count": null,
      "outputs": []
    },
    {
      "cell_type": "code",
      "source": [
        "results['right_singular_vectors'].T[:,:2560].shape"
      ],
      "metadata": {
        "id": "DNBOOTM_zIhr"
      },
      "execution_count": null,
      "outputs": []
    },
    {
      "cell_type": "code",
      "source": [
        "(results['left_singular_vectors'] @ results['singular_values']) .shape"
      ],
      "metadata": {
        "id": "DAna2gjYzTFZ"
      },
      "execution_count": null,
      "outputs": []
    },
    {
      "cell_type": "code",
      "source": [
        "(results['left_singular_vectors'] @ jnp.diag(results['singular_values']) @ results['right_singular_vectors'][:,:2560].T).shape"
      ],
      "metadata": {
        "id": "L2hTLpVnxbjw"
      },
      "execution_count": null,
      "outputs": []
    },
    {
      "cell_type": "code",
      "source": [
        "\n",
        "        # Truncated reconstruction\n",
        "        jacobian_k = U[:, :k] @ jnp.diag(singular_values[:k]) @ V[:, :k].T"
      ],
      "metadata": {
        "id": "lYpt3n62zBNm"
      },
      "execution_count": null,
      "outputs": []
    },
    {
      "cell_type": "code",
      "source": [
        "import jax\n",
        "import jax.numpy as jnp\n",
        "\n",
        "def extract_per_token_left_singular_vectors(U, singular_values, V, embeddings_shape,\n",
        "                                          return_full=False, top_k_components=None):\n",
        "    \"\"\"\n",
        "    Extract the left singular vectors that correspond to each input token.\n",
        "\n",
        "    The key insight: V contains the input-space components, so we can see\n",
        "    which parts of each left singular vector U[:, i] are \"driven by\" each token.\n",
        "\n",
        "    Args:\n",
        "        U: Left singular vectors (output_size, k)\n",
        "        singular_values: Singular values (k,)\n",
        "        V: Right singular vectors (input_size, k)\n",
        "        embeddings_shape: (batch_size, seq_len, embed_dim)\n",
        "        return_full: If True, return full per-token matrices\n",
        "        top_k_components: If specified, only return top-k components\n",
        "\n",
        "    Returns:\n",
        "        Dictionary with per-token information\n",
        "    \"\"\"\n",
        "    batch_size, seq_len, embed_dim = embeddings_shape\n",
        "    output_size, k = U.shape\n",
        "\n",
        "    if top_k_components is not None:\n",
        "        k = min(k, top_k_components)\n",
        "        U = U[:, :k]\n",
        "        singular_values = singular_values[:k]\n",
        "        V = V[:, :k]\n",
        "\n",
        "    print(f\"Analyzing per-token structure with {k} components...\")\n",
        "    print(f\"Input shape: {embeddings_shape}\")\n",
        "    print(f\"Output size: {output_size}\")\n",
        "\n",
        "    # Reshape V to separate tokens\n",
        "    # V is (input_size, k) = (batch_size * seq_len * embed_dim, k)\n",
        "    V_reshaped = V.reshape(batch_size, seq_len, embed_dim, k)\n",
        "\n",
        "    # Compute per-token \"importance\" for each singular vector\n",
        "    token_importances = jnp.linalg.norm(V_reshaped, axis=(0, 2))  # (seq_len, k)\n",
        "\n",
        "    print(f\"Per-token importance matrix shape: {token_importances.shape}\")\n",
        "\n",
        "    if return_full:\n",
        "        # For each token, compute its \"effective left singular vectors\"\n",
        "        # This shows what each token contributes to the output directions\n",
        "\n",
        "        per_token_left_vectors = {}\n",
        "\n",
        "        for token_idx in range(seq_len):\n",
        "            # Get the V components for this token\n",
        "            V_token = V_reshaped[0, token_idx, :, :]  # (embed_dim, k)\n",
        "\n",
        "            # The \"effective\" left singular vector for this token\n",
        "            # is weighted by how much this token contributes to each component\n",
        "            token_weights = jnp.linalg.norm(V_token, axis=0)  # (k,)\n",
        "\n",
        "            # Weighted left singular vectors for this token\n",
        "            weighted_U_token = U * token_weights[None, :]  # (output_size, k)\n",
        "\n",
        "            per_token_left_vectors[f'token_{token_idx}'] = {\n",
        "                'weighted_left_vectors': weighted_U_token,\n",
        "                'token_weights': token_weights,\n",
        "                'importance': jnp.sum(token_weights**2)\n",
        "            }\n",
        "\n",
        "        print(f\"Generated per-token left vectors for {seq_len} tokens\")\n",
        "        print(f\"Each token has weighted_left_vectors of shape: {weighted_U_token.shape}\")\n",
        "\n",
        "        return {\n",
        "            'per_token_vectors': per_token_left_vectors,\n",
        "            'token_importances': token_importances,\n",
        "            'global_left_vectors': U,\n",
        "            'global_singular_values': singular_values\n",
        "        }\n",
        "\n",
        "    else:\n",
        "        # Memory-efficient version: just return importance scores and functions\n",
        "\n",
        "        def get_token_contribution_to_output(token_idx, output_direction=None):\n",
        "            \"\"\"\n",
        "            Get how much a specific token contributes to a specific output direction.\n",
        "\n",
        "            Args:\n",
        "                token_idx: Which input token\n",
        "                output_direction: Vector in output space (if None, return contributions to all)\n",
        "            \"\"\"\n",
        "            V_token = V_reshaped[0, token_idx, :, :]  # (embed_dim, k)\n",
        "            token_weights = jnp.linalg.norm(V_token, axis=0)  # (k,)\n",
        "\n",
        "            if output_direction is None:\n",
        "                # Return the \"signature\" of this token in output space\n",
        "                return U @ (singular_values * token_weights)\n",
        "            else:\n",
        "                # Project onto specific output direction\n",
        "                output_direction = output_direction.flatten()\n",
        "                contributions = (output_direction @ U) * singular_values * token_weights\n",
        "                return jnp.sum(contributions)\n",
        "\n",
        "        def get_most_important_tokens_for_component(component_idx):\n",
        "            \"\"\"Find which tokens are most important for a specific singular vector component.\"\"\"\n",
        "            component_importances = token_importances[:, component_idx]\n",
        "            sorted_indices = jnp.argsort(component_importances)[::-1]\n",
        "\n",
        "            return {\n",
        "                'token_indices': sorted_indices,\n",
        "                'importances': component_importances[sorted_indices],\n",
        "                'most_important': sorted_indices[0]\n",
        "            }\n",
        "\n",
        "        def get_most_important_components_for_token(token_idx):\n",
        "            \"\"\"Find which singular vector components are most important for a specific token.\"\"\"\n",
        "            token_components = token_importances[token_idx, :]\n",
        "            sorted_indices = jnp.argsort(token_components)[::-1]\n",
        "\n",
        "            return {\n",
        "                'component_indices': sorted_indices,\n",
        "                'importances': token_components[sorted_indices],\n",
        "                'most_important': sorted_indices[0]\n",
        "            }\n",
        "\n",
        "        return {\n",
        "            'token_importances': token_importances,\n",
        "            'get_token_contribution': get_token_contribution_to_output,\n",
        "            'get_important_tokens_for_component': get_most_important_tokens_for_component,\n",
        "            'get_important_components_for_token': get_most_important_components_for_token,\n",
        "            'summary': {\n",
        "                'total_tokens': seq_len,\n",
        "                'total_components': k,\n",
        "                'most_important_token_overall': jnp.argmax(jnp.sum(token_importances**2, axis=1)),\n",
        "                'most_important_component_overall': jnp.argmax(jnp.sum(token_importances**2, axis=0))\n",
        "            }\n",
        "        }\n",
        "\n",
        "\n",
        "def analyze_token_component_interactions(token_analysis, verbose=True):\n",
        "    \"\"\"\n",
        "    Analyze the interactions between tokens and singular vector components.\n",
        "    \"\"\"\n",
        "    token_importances = token_analysis['token_importances']\n",
        "    seq_len, k = token_importances.shape\n",
        "\n",
        "    if verbose:\n",
        "        print(f\"\\nToken-Component Interaction Analysis:\")\n",
        "        print(\"=\"*50)\n",
        "\n",
        "        print(f\"Matrix shape: {seq_len} tokens × {k} components\")\n",
        "\n",
        "        # Most important token for each component\n",
        "        print(f\"\\nMost important token for each component:\")\n",
        "        for comp_idx in range(min(k, 10)):  # Show first 10\n",
        "            most_important_token = jnp.argmax(token_importances[:, comp_idx])\n",
        "            importance_score = token_importances[most_important_token, comp_idx]\n",
        "            print(f\"  Component {comp_idx:2d}: Token {most_important_token:2d} (score: {importance_score:.4f})\")\n",
        "\n",
        "        # Most important component for each token\n",
        "        print(f\"\\nMost important component for each token:\")\n",
        "        for token_idx in range(seq_len):\n",
        "            most_important_comp = jnp.argmax(token_importances[token_idx, :])\n",
        "            importance_score = token_importances[token_idx, most_important_comp]\n",
        "            print(f\"  Token {token_idx:2d}: Component {most_important_comp:2d} (score: {importance_score:.4f})\")\n",
        "\n",
        "        # Overall token importance (sum across all components)\n",
        "        token_total_importance = jnp.sum(token_importances**2, axis=1)\n",
        "        print(f\"\\nOverall token importance ranking:\")\n",
        "        sorted_tokens = jnp.argsort(token_total_importance)[::-1]\n",
        "        for i, token_idx in enumerate(sorted_tokens):\n",
        "            print(f\"  Rank {i+1}: Token {token_idx:2d} (total score: {token_total_importance[token_idx]:.4f})\")\n",
        "\n",
        "    return {\n",
        "        'token_total_importance': jnp.sum(token_importances**2, axis=1),\n",
        "        'component_total_importance': jnp.sum(token_importances**2, axis=0),\n",
        "        'most_important_token_per_component': jnp.argmax(token_importances, axis=0),\n",
        "        'most_important_component_per_token': jnp.argmax(token_importances, axis=1)\n",
        "    }\n",
        "\n",
        "\n",
        "def visualize_token_component_heatmap(token_importances, max_display_tokens=20, max_display_components=20):\n",
        "    \"\"\"\n",
        "    Create a simple text-based heatmap of token-component interactions.\n",
        "    \"\"\"\n",
        "    seq_len, k = token_importances.shape\n",
        "\n",
        "    # Limit display size\n",
        "    display_tokens = min(seq_len, max_display_tokens)\n",
        "    display_components = min(k, max_display_components)\n",
        "\n",
        "    display_matrix = token_importances[:display_tokens, :display_components]\n",
        "\n",
        "    # Normalize for display\n",
        "    max_val = jnp.max(display_matrix)\n",
        "    normalized = display_matrix / max_val\n",
        "\n",
        "    print(f\"\\nToken-Component Importance Heatmap (normalized):\")\n",
        "    print(f\"Showing first {display_tokens} tokens × {display_components} components\")\n",
        "    print(\"Values: . (low) < o < O < @ (high)\")\n",
        "    print()\n",
        "\n",
        "    # Header\n",
        "    print(\"    \", end=\"\")\n",
        "    for c in range(display_components):\n",
        "        print(f\"{c%10}\", end=\"\")\n",
        "    print()\n",
        "\n",
        "    # Rows\n",
        "    for t in range(display_tokens):\n",
        "        print(f\"{t:2d}: \", end=\"\")\n",
        "        for c in range(display_components):\n",
        "            val = normalized[t, c]\n",
        "            if val < 0.1:\n",
        "                char = \".\"\n",
        "            elif val < 0.3:\n",
        "                char = \"o\"\n",
        "            elif val < 0.6:\n",
        "                char = \"O\"\n",
        "            else:\n",
        "                char = \"@\"\n",
        "            print(char, end=\"\")\n",
        "        print()\n",
        "\n",
        "\n",
        "def compute_token_jacobian_norms(U, singular_values, V, embeddings_shape):\n",
        "    \"\"\"\n",
        "    Compute the Frobenius norm of the Jacobian block for each token.\n",
        "    This tells you which tokens have the largest overall sensitivity.\n",
        "    \"\"\"\n",
        "    batch_size, seq_len, embed_dim = embeddings_shape\n",
        "    output_size, k = U.shape\n",
        "\n",
        "    # Reshape V to separate tokens\n",
        "    V_reshaped = V.reshape(batch_size, seq_len, embed_dim, k)\n",
        "\n",
        "    token_jacobian_norms = []\n",
        "\n",
        "    for token_idx in range(seq_len):\n",
        "        # Get V components for this token\n",
        "        V_token = V_reshaped[0, token_idx, :, :]  # (embed_dim, k)\n",
        "\n",
        "        # Compute the Frobenius norm of the Jacobian block for this token\n",
        "        # ||J_token||_F^2 = sum_i sigma_i^2 * ||V_token[:, i]||^2\n",
        "        token_contributions = jnp.sum(V_token**2, axis=0)  # (k,)\n",
        "        token_norm_squared = jnp.sum(singular_values**2 * token_contributions)\n",
        "        token_norm = jnp.sqrt(token_norm_squared)\n",
        "\n",
        "        token_jacobian_norms.append(token_norm)\n",
        "\n",
        "    token_jacobian_norms = jnp.array(token_jacobian_norms)\n",
        "\n",
        "    print(f\"\\nPer-token Jacobian norms:\")\n",
        "    for i, norm in enumerate(token_jacobian_norms):\n",
        "        print(f\"  Token {i:2d}: ||J_token||_F = {norm:.4f}\")\n",
        "\n",
        "    most_sensitive_token = jnp.argmax(token_jacobian_norms)\n",
        "    print(f\"\\nMost sensitive token: {most_sensitive_token} (norm: {token_jacobian_norms[most_sensitive_token]:.4f})\")\n",
        "\n",
        "    return token_jacobian_norms\n",
        "\n",
        "\n",
        "# Example usage\n",
        "def comprehensive_per_token_analysis(results, embeddings_shape, top_k=None):\n",
        "    \"\"\"\n",
        "    Run complete per-token analysis.\n",
        "    \"\"\"\n",
        "    U = results['left_singular_vectors']\n",
        "    s = results['singular_values']\n",
        "    V = results['right_singular_vectors']\n",
        "\n",
        "    print(\"=\"*60)\n",
        "    print(\"PER-TOKEN SINGULAR VECTOR ANALYSIS\")\n",
        "    print(\"=\"*60)\n",
        "\n",
        "    # Extract per-token information (memory-efficient)\n",
        "    token_analysis = extract_per_token_left_singular_vectors(\n",
        "        U, s, V, embeddings_shape, return_full=False, top_k_components=top_k\n",
        "    )\n",
        "\n",
        "    # Analyze interactions\n",
        "    interaction_analysis = analyze_token_component_interactions(token_analysis)\n",
        "\n",
        "    # Visualize\n",
        "    visualize_token_component_heatmap(token_analysis['token_importances'])\n",
        "\n",
        "    # Compute norms\n",
        "    token_norms = compute_token_jacobian_norms(U, s, V, embeddings_shape)\n",
        "\n",
        "    return {\n",
        "        'token_analysis': token_analysis,\n",
        "        'interactions': interaction_analysis,\n",
        "        'token_norms': token_norms\n",
        "    }\n",
        "\n",
        "print(\"\"\"\n",
        "USAGE EXAMPLE:\n",
        "\n",
        "# Memory-efficient per-token analysis\n",
        "per_token_results = comprehensive_per_token_analysis(\n",
        "    results,\n",
        "    embeddings.shape,\n",
        "    top_k=50  # Use top 50 components\n",
        ")\n",
        "\n",
        "# Get contribution of token 3 to output\n",
        "contribution = per_token_results['token_analysis']['get_token_contribution'](3)\n",
        "\n",
        "# Find most important tokens for component 0\n",
        "important_tokens = per_token_results['token_analysis']['get_important_tokens_for_component'](0)\n",
        "\"\"\")"
      ],
      "metadata": {
        "id": "wIvJ9Qehxj1v"
      },
      "execution_count": null,
      "outputs": []
    },
    {
      "cell_type": "code",
      "source": [
        "per_token_results = comprehensive_per_token_analysis(\n",
        "    results,\n",
        "    embeddings.shape,\n",
        "    top_k=5  # Use top 50 components\n",
        ")\n",
        "\n",
        "# Get contribution of token 3 to output\n",
        "contribution = per_token_results['token_analysis']['get_token_contribution'](3)\n",
        "\n",
        "# Find most important tokens for component 0\n",
        "important_tokens = per_token_results['token_analysis']['get_important_tokens_for_component'](0)\n"
      ],
      "metadata": {
        "id": "h6IBKM13Jp39"
      },
      "execution_count": null,
      "outputs": []
    },
    {
      "cell_type": "code",
      "source": [],
      "metadata": {
        "id": "kX8uHOskJrLc"
      },
      "execution_count": null,
      "outputs": []
    }
  ]
}