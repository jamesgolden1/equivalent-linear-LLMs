{
  "nbformat": 4,
  "nbformat_minor": 0,
  "metadata": {
    "colab": {
      "provenance": [],
      "gpuType": "T4",
      "authorship_tag": "ABX9TyPYf3Z+Qe39MNUECAhQTbqP",
      "include_colab_link": true
    },
    "kernelspec": {
      "name": "python3",
      "display_name": "Python 3"
    },
    "language_info": {
      "name": "python"
    },
    "accelerator": "GPU",
    "widgets": {
      "application/vnd.jupyter.widget-state+json": {
        "298cd7d13df74368b2354a851d436f81": {
          "model_module": "@jupyter-widgets/controls",
          "model_name": "HBoxModel",
          "model_module_version": "1.5.0",
          "state": {
            "_dom_classes": [],
            "_model_module": "@jupyter-widgets/controls",
            "_model_module_version": "1.5.0",
            "_model_name": "HBoxModel",
            "_view_count": null,
            "_view_module": "@jupyter-widgets/controls",
            "_view_module_version": "1.5.0",
            "_view_name": "HBoxView",
            "box_style": "",
            "children": [
              "IPY_MODEL_82e1e9c695384703838c306435bc0028",
              "IPY_MODEL_bbbf42bf421e4779a9b5e55f18e60683",
              "IPY_MODEL_1c9147d4cd9248848dd699594cbd9558"
            ],
            "layout": "IPY_MODEL_5e3d73f839c2497194af3641dbfd865d"
          }
        },
        "82e1e9c695384703838c306435bc0028": {
          "model_module": "@jupyter-widgets/controls",
          "model_name": "HTMLModel",
          "model_module_version": "1.5.0",
          "state": {
            "_dom_classes": [],
            "_model_module": "@jupyter-widgets/controls",
            "_model_module_version": "1.5.0",
            "_model_name": "HTMLModel",
            "_view_count": null,
            "_view_module": "@jupyter-widgets/controls",
            "_view_module_version": "1.5.0",
            "_view_name": "HTMLView",
            "description": "",
            "description_tooltip": null,
            "layout": "IPY_MODEL_32ee86c8718a486bb663fa8323d2a6c2",
            "placeholder": "​",
            "style": "IPY_MODEL_ec1191e079b14a1d9bbc04a8af097ac9",
            "value": "Loading checkpoint shards: 100%"
          }
        },
        "bbbf42bf421e4779a9b5e55f18e60683": {
          "model_module": "@jupyter-widgets/controls",
          "model_name": "FloatProgressModel",
          "model_module_version": "1.5.0",
          "state": {
            "_dom_classes": [],
            "_model_module": "@jupyter-widgets/controls",
            "_model_module_version": "1.5.0",
            "_model_name": "FloatProgressModel",
            "_view_count": null,
            "_view_module": "@jupyter-widgets/controls",
            "_view_module_version": "1.5.0",
            "_view_name": "ProgressView",
            "bar_style": "success",
            "description": "",
            "description_tooltip": null,
            "layout": "IPY_MODEL_01dbf58b06b447e99983dba940620836",
            "max": 2,
            "min": 0,
            "orientation": "horizontal",
            "style": "IPY_MODEL_b98a4c4e6c474cd2b65c7a37a9431052",
            "value": 2
          }
        },
        "1c9147d4cd9248848dd699594cbd9558": {
          "model_module": "@jupyter-widgets/controls",
          "model_name": "HTMLModel",
          "model_module_version": "1.5.0",
          "state": {
            "_dom_classes": [],
            "_model_module": "@jupyter-widgets/controls",
            "_model_module_version": "1.5.0",
            "_model_name": "HTMLModel",
            "_view_count": null,
            "_view_module": "@jupyter-widgets/controls",
            "_view_module_version": "1.5.0",
            "_view_name": "HTMLView",
            "description": "",
            "description_tooltip": null,
            "layout": "IPY_MODEL_64cee650e09043d3ae12435dec6687d9",
            "placeholder": "​",
            "style": "IPY_MODEL_36c6cd4fe8e84d3abbbf8cec59c4b45e",
            "value": " 2/2 [00:35&lt;00:00, 17.04s/it]"
          }
        },
        "5e3d73f839c2497194af3641dbfd865d": {
          "model_module": "@jupyter-widgets/base",
          "model_name": "LayoutModel",
          "model_module_version": "1.2.0",
          "state": {
            "_model_module": "@jupyter-widgets/base",
            "_model_module_version": "1.2.0",
            "_model_name": "LayoutModel",
            "_view_count": null,
            "_view_module": "@jupyter-widgets/base",
            "_view_module_version": "1.2.0",
            "_view_name": "LayoutView",
            "align_content": null,
            "align_items": null,
            "align_self": null,
            "border": null,
            "bottom": null,
            "display": null,
            "flex": null,
            "flex_flow": null,
            "grid_area": null,
            "grid_auto_columns": null,
            "grid_auto_flow": null,
            "grid_auto_rows": null,
            "grid_column": null,
            "grid_gap": null,
            "grid_row": null,
            "grid_template_areas": null,
            "grid_template_columns": null,
            "grid_template_rows": null,
            "height": null,
            "justify_content": null,
            "justify_items": null,
            "left": null,
            "margin": null,
            "max_height": null,
            "max_width": null,
            "min_height": null,
            "min_width": null,
            "object_fit": null,
            "object_position": null,
            "order": null,
            "overflow": null,
            "overflow_x": null,
            "overflow_y": null,
            "padding": null,
            "right": null,
            "top": null,
            "visibility": null,
            "width": null
          }
        },
        "32ee86c8718a486bb663fa8323d2a6c2": {
          "model_module": "@jupyter-widgets/base",
          "model_name": "LayoutModel",
          "model_module_version": "1.2.0",
          "state": {
            "_model_module": "@jupyter-widgets/base",
            "_model_module_version": "1.2.0",
            "_model_name": "LayoutModel",
            "_view_count": null,
            "_view_module": "@jupyter-widgets/base",
            "_view_module_version": "1.2.0",
            "_view_name": "LayoutView",
            "align_content": null,
            "align_items": null,
            "align_self": null,
            "border": null,
            "bottom": null,
            "display": null,
            "flex": null,
            "flex_flow": null,
            "grid_area": null,
            "grid_auto_columns": null,
            "grid_auto_flow": null,
            "grid_auto_rows": null,
            "grid_column": null,
            "grid_gap": null,
            "grid_row": null,
            "grid_template_areas": null,
            "grid_template_columns": null,
            "grid_template_rows": null,
            "height": null,
            "justify_content": null,
            "justify_items": null,
            "left": null,
            "margin": null,
            "max_height": null,
            "max_width": null,
            "min_height": null,
            "min_width": null,
            "object_fit": null,
            "object_position": null,
            "order": null,
            "overflow": null,
            "overflow_x": null,
            "overflow_y": null,
            "padding": null,
            "right": null,
            "top": null,
            "visibility": null,
            "width": null
          }
        },
        "ec1191e079b14a1d9bbc04a8af097ac9": {
          "model_module": "@jupyter-widgets/controls",
          "model_name": "DescriptionStyleModel",
          "model_module_version": "1.5.0",
          "state": {
            "_model_module": "@jupyter-widgets/controls",
            "_model_module_version": "1.5.0",
            "_model_name": "DescriptionStyleModel",
            "_view_count": null,
            "_view_module": "@jupyter-widgets/base",
            "_view_module_version": "1.2.0",
            "_view_name": "StyleView",
            "description_width": ""
          }
        },
        "01dbf58b06b447e99983dba940620836": {
          "model_module": "@jupyter-widgets/base",
          "model_name": "LayoutModel",
          "model_module_version": "1.2.0",
          "state": {
            "_model_module": "@jupyter-widgets/base",
            "_model_module_version": "1.2.0",
            "_model_name": "LayoutModel",
            "_view_count": null,
            "_view_module": "@jupyter-widgets/base",
            "_view_module_version": "1.2.0",
            "_view_name": "LayoutView",
            "align_content": null,
            "align_items": null,
            "align_self": null,
            "border": null,
            "bottom": null,
            "display": null,
            "flex": null,
            "flex_flow": null,
            "grid_area": null,
            "grid_auto_columns": null,
            "grid_auto_flow": null,
            "grid_auto_rows": null,
            "grid_column": null,
            "grid_gap": null,
            "grid_row": null,
            "grid_template_areas": null,
            "grid_template_columns": null,
            "grid_template_rows": null,
            "height": null,
            "justify_content": null,
            "justify_items": null,
            "left": null,
            "margin": null,
            "max_height": null,
            "max_width": null,
            "min_height": null,
            "min_width": null,
            "object_fit": null,
            "object_position": null,
            "order": null,
            "overflow": null,
            "overflow_x": null,
            "overflow_y": null,
            "padding": null,
            "right": null,
            "top": null,
            "visibility": null,
            "width": null
          }
        },
        "b98a4c4e6c474cd2b65c7a37a9431052": {
          "model_module": "@jupyter-widgets/controls",
          "model_name": "ProgressStyleModel",
          "model_module_version": "1.5.0",
          "state": {
            "_model_module": "@jupyter-widgets/controls",
            "_model_module_version": "1.5.0",
            "_model_name": "ProgressStyleModel",
            "_view_count": null,
            "_view_module": "@jupyter-widgets/base",
            "_view_module_version": "1.2.0",
            "_view_name": "StyleView",
            "bar_color": null,
            "description_width": ""
          }
        },
        "64cee650e09043d3ae12435dec6687d9": {
          "model_module": "@jupyter-widgets/base",
          "model_name": "LayoutModel",
          "model_module_version": "1.2.0",
          "state": {
            "_model_module": "@jupyter-widgets/base",
            "_model_module_version": "1.2.0",
            "_model_name": "LayoutModel",
            "_view_count": null,
            "_view_module": "@jupyter-widgets/base",
            "_view_module_version": "1.2.0",
            "_view_name": "LayoutView",
            "align_content": null,
            "align_items": null,
            "align_self": null,
            "border": null,
            "bottom": null,
            "display": null,
            "flex": null,
            "flex_flow": null,
            "grid_area": null,
            "grid_auto_columns": null,
            "grid_auto_flow": null,
            "grid_auto_rows": null,
            "grid_column": null,
            "grid_gap": null,
            "grid_row": null,
            "grid_template_areas": null,
            "grid_template_columns": null,
            "grid_template_rows": null,
            "height": null,
            "justify_content": null,
            "justify_items": null,
            "left": null,
            "margin": null,
            "max_height": null,
            "max_width": null,
            "min_height": null,
            "min_width": null,
            "object_fit": null,
            "object_position": null,
            "order": null,
            "overflow": null,
            "overflow_x": null,
            "overflow_y": null,
            "padding": null,
            "right": null,
            "top": null,
            "visibility": null,
            "width": null
          }
        },
        "36c6cd4fe8e84d3abbbf8cec59c4b45e": {
          "model_module": "@jupyter-widgets/controls",
          "model_name": "DescriptionStyleModel",
          "model_module_version": "1.5.0",
          "state": {
            "_model_module": "@jupyter-widgets/controls",
            "_model_module_version": "1.5.0",
            "_model_name": "DescriptionStyleModel",
            "_view_count": null,
            "_view_module": "@jupyter-widgets/base",
            "_view_module_version": "1.2.0",
            "_view_name": "StyleView",
            "description_width": ""
          }
        }
      }
    }
  },
  "cells": [
    {
      "cell_type": "markdown",
      "metadata": {
        "id": "view-in-github",
        "colab_type": "text"
      },
      "source": [
        "<a href=\"https://colab.research.google.com/github/jamesgolden1/llms-are-llms/blob/main/notebooks/gemma_3/detached_jacobian_gemma_demo.ipynb\" target=\"_parent\"><img src=\"https://colab.research.google.com/assets/colab-badge.svg\" alt=\"Open In Colab\"/></a>"
      ]
    },
    {
      "cell_type": "markdown",
      "source": [
        "# Llama 3.2 3B IT with the detached Jacobian is locally linear\n",
        "This notebook demonstrates how to compute the Jacobian in PyTorch (other demos apply this code within the JacobianAnalyzer class)."
      ],
      "metadata": {
        "id": "WZOskgXV4GDJ"
      }
    },
    {
      "cell_type": "code",
      "source": [
        "%%capture\n",
        "!pip install \"huggingface_hub[hf_transfer]\""
      ],
      "metadata": {
        "id": "yfOoWhFL_mOW"
      },
      "execution_count": 1,
      "outputs": []
    },
    {
      "cell_type": "code",
      "execution_count": 2,
      "metadata": {
        "id": "mRz9ZdpYeb3J"
      },
      "outputs": [],
      "source": [
        "import os\n",
        "from google.colab import userdata\n",
        "\n",
        "os.environ[\"HF_HUB_ENABLE_HF_TRANSFER\"]='1'\n",
        "os.environ[\"HF_TOKEN\"] = userdata.get('HF_TOKEN')\n",
        "os.environ[\"PYTORCH_CUDA_ALLOC_CONF\"] = \"expandable_segments:True\""
      ]
    },
    {
      "cell_type": "code",
      "source": [
        "!git clone https://github.com/jamesgolden1/llms-are-llms.git"
      ],
      "metadata": {
        "id": "BxwNRTeTq8aR",
        "outputId": "f5d79b68-1b60-4024-a277-a53fff8cdc0b",
        "colab": {
          "base_uri": "https://localhost:8080/"
        }
      },
      "execution_count": 3,
      "outputs": [
        {
          "output_type": "stream",
          "name": "stdout",
          "text": [
            "fatal: destination path 'llms-are-llms' already exists and is not an empty directory.\n"
          ]
        }
      ]
    },
    {
      "cell_type": "code",
      "source": [
        "cd llms-are-llms"
      ],
      "metadata": {
        "colab": {
          "base_uri": "https://localhost:8080/"
        },
        "id": "9q2ii5zer3_7",
        "outputId": "f2720cf1-2fa8-44ba-e4b8-bd3466f74c94"
      },
      "execution_count": 4,
      "outputs": [
        {
          "output_type": "stream",
          "name": "stdout",
          "text": [
            "/content/llms-are-llms\n"
          ]
        }
      ]
    },
    {
      "cell_type": "code",
      "source": [
        "#@title Copy modeling_llama_locally_linear.py into transformers\n",
        "import shutil\n",
        "import transformers\n",
        "transformers_file = transformers.__file__.split('__')[0]\n",
        "\n",
        "# Llama 3.1\n",
        "modeling_file_new = \"models/gemma_3/modeling_gemma_locally_linear.py\"\n",
        "modeling_file = transformers_file+\"models/gemma3/modeling_gemma3.py\"\n",
        "backup_file = transformers_file+\"models/gemma3/modeling_gemma_original.py\"\n",
        "shutil.copy(modeling_file, backup_file)\n",
        "shutil.copy(modeling_file_new, modeling_file)"
      ],
      "metadata": {
        "id": "CdogJQsY0z1I",
        "outputId": "087532b2-7d1b-442a-9247-d84704be6aee",
        "colab": {
          "base_uri": "https://localhost:8080/",
          "height": 35
        }
      },
      "execution_count": 5,
      "outputs": [
        {
          "output_type": "execute_result",
          "data": {
            "text/plain": [
              "'/usr/local/lib/python3.11/dist-packages/transformers/models/gemma3/modeling_gemma3.py'"
            ],
            "application/vnd.google.colaboratory.intrinsic+json": {
              "type": "string"
            }
          },
          "metadata": {},
          "execution_count": 5
        }
      ]
    },
    {
      "cell_type": "code",
      "source": [
        "import torch\n",
        "import numpy as np\n",
        "import matplotlib.pyplot as plt\n",
        "from transformers.models.gemma.modeling_gemma import *\n",
        "from transformers import AutoTokenizer, AutoModelForCausalLM"
      ],
      "metadata": {
        "id": "H4pOZAikyP4S"
      },
      "execution_count": 6,
      "outputs": []
    },
    {
      "cell_type": "code",
      "source": [
        "#@title Model\n",
        "model_id = \"google/gemma-3-4b-it\"\n",
        "tokenizer = AutoTokenizer.from_pretrained(model_id)\n",
        "\n",
        "model = AutoModelForCausalLM.from_pretrained(\n",
        "    model_id,\n",
        "    torch_dtype=torch.bfloat16,\n",
        "    # torch_dtype=torch.float32,\n",
        "    device_map=\"auto\",\n",
        ").cuda()"
      ],
      "metadata": {
        "id": "acDgJQVLyIxp",
        "outputId": "6a75e735-6780-4e09-92c8-a533476bb36b",
        "colab": {
          "base_uri": "https://localhost:8080/",
          "height": 49,
          "referenced_widgets": [
            "298cd7d13df74368b2354a851d436f81",
            "82e1e9c695384703838c306435bc0028",
            "bbbf42bf421e4779a9b5e55f18e60683",
            "1c9147d4cd9248848dd699594cbd9558",
            "5e3d73f839c2497194af3641dbfd865d",
            "32ee86c8718a486bb663fa8323d2a6c2",
            "ec1191e079b14a1d9bbc04a8af097ac9",
            "01dbf58b06b447e99983dba940620836",
            "b98a4c4e6c474cd2b65c7a37a9431052",
            "64cee650e09043d3ae12435dec6687d9",
            "36c6cd4fe8e84d3abbbf8cec59c4b45e"
          ]
        }
      },
      "execution_count": 7,
      "outputs": [
        {
          "output_type": "display_data",
          "data": {
            "text/plain": [
              "Loading checkpoint shards:   0%|          | 0/2 [00:00<?, ?it/s]"
            ],
            "application/vnd.jupyter.widget-view+json": {
              "version_major": 2,
              "version_minor": 0,
              "model_id": "298cd7d13df74368b2354a851d436f81"
            }
          },
          "metadata": {}
        }
      ]
    },
    {
      "cell_type": "code",
      "source": [
        "model_mm = model\n",
        "model = model.language_model"
      ],
      "metadata": {
        "id": "of1OGSRGw2mT"
      },
      "execution_count": 8,
      "outputs": []
    },
    {
      "cell_type": "code",
      "source": [
        "# # Load model directly\n",
        "# from transformers import AutoProcessor, AutoModelForImageTextToText\n",
        "\n",
        "# processor = AutoProcessor.from_pretrained(\"google/gemma-3-4b-it\")\n",
        "# model = AutoModelForImageTextToText.from_pretrained(\"google/gemma-3-12b-it\")"
      ],
      "metadata": {
        "id": "MBZ9ry9kwOUL"
      },
      "execution_count": 17,
      "outputs": []
    },
    {
      "cell_type": "code",
      "source": [
        "#@title Get input embedding vectors with gradient and generate output: train context\n",
        "text = \"The bridge out of Marin is the\"\n",
        "\n",
        "tokenizer.pad_token = tokenizer.eos_token\n",
        "inputs = tokenizer([text],padding=True, return_tensors=\"pt\")\n",
        "\n",
        "inputs = {k: v.to('cuda') for k, v in inputs.items() if k != 'token_type_ids'}\n",
        "\n",
        "model.train()\n",
        "outputs_train = model_mm.generate(\n",
        "                          **inputs,\n",
        "                          max_new_tokens=1,\n",
        "                          return_dict_in_generate=True,\n",
        "                          output_scores=True,\n",
        "                          past_key_values=None,\n",
        "                          use_cache=False,\n",
        "                          output_hidden_states=True,\n",
        "                          temperature=.001)\n",
        "print(\"[\", [tokenizer.decode(outputs['sequences'][ii]) for ii in range(len(outputs['sequences']))], \"]\")\n",
        "\n",
        "embeds = model.model.embed_tokens(tokenizer.encode(text, return_tensors='pt').cuda())"
      ],
      "metadata": {
        "id": "HQmHagRr1Lpv",
        "outputId": "c18f27d8-0216-4f29-84b2-20a0f42babee",
        "colab": {
          "base_uri": "https://localhost:8080/"
        }
      },
      "execution_count": 41,
      "outputs": [
        {
          "output_type": "stream",
          "name": "stderr",
          "text": [
            "The following generation flags are not valid and may be ignored: ['cache_implementation']. Set `TRANSFORMERS_VERBOSITY=info` for more details.\n"
          ]
        },
        {
          "output_type": "stream",
          "name": "stdout",
          "text": [
            "[ ['<bos>The bridge out of Marin is the Golden'] ]\n"
          ]
        }
      ]
    },
    {
      "cell_type": "code",
      "source": [
        "#@title Get input embedding vectors with gradient and generate output: eval context\n",
        "text = \"The bridge out of Marin is the\"\n",
        "\n",
        "tokenizer.pad_token = tokenizer.eos_token\n",
        "inputs = tokenizer([text],padding=True, return_tensors=\"pt\")\n",
        "\n",
        "inputs = {k: v.to('cuda') for k, v in inputs.items() if k != 'token_type_ids'}\n",
        "\n",
        "model.eval()\n",
        "outputs = model_mm.generate(\n",
        "                          **inputs,\n",
        "                          max_new_tokens=1,\n",
        "                          return_dict_in_generate=True,\n",
        "                          output_scores=True,\n",
        "                          past_key_values=None,\n",
        "                          use_cache=False,\n",
        "                          output_hidden_states=True,\n",
        "                          temperature=.001)\n",
        "print(\"[\", [tokenizer.decode(outputs['sequences'][ii]) for ii in range(len(outputs['sequences']))], \"]\")\n",
        "\n",
        "embeds = model.model.embed_tokens(tokenizer.encode(text, return_tensors='pt').cuda())"
      ],
      "metadata": {
        "id": "ACNjsg2XyrVB",
        "outputId": "0acfb759-bf45-43ae-d2b4-0529b3ad6747",
        "colab": {
          "base_uri": "https://localhost:8080/"
        }
      },
      "execution_count": 42,
      "outputs": [
        {
          "output_type": "stream",
          "name": "stderr",
          "text": [
            "The following generation flags are not valid and may be ignored: ['cache_implementation']. Set `TRANSFORMERS_VERBOSITY=info` for more details.\n"
          ]
        },
        {
          "output_type": "stream",
          "name": "stdout",
          "text": [
            "[ ['<bos>The bridge out of Marin is the Golden'] ]\n"
          ]
        }
      ]
    },
    {
      "cell_type": "code",
      "source": [
        "#@title Function to predict output embedding for Jacobian comptuation\n",
        "# import torch\n",
        "def model_forward(embeds, lstart=0, lsplit=None, key='layer', transform_to_output=False):\n",
        "    \"\"\"\n",
        "    Forward pass through Gemma model layers\n",
        "\n",
        "    Args:\n",
        "        embeds: Input embeddings\n",
        "        lsplit (int): Number of layers to process\n",
        "\n",
        "    Returns:\n",
        "        Hidden states after processing\n",
        "    \"\"\"\n",
        "\n",
        "    outdict = {}\n",
        "\n",
        "    if lsplit is None:\n",
        "        lsplit = len(model.model.layers)\n",
        "\n",
        "    # Get batch size and sequence length\n",
        "    batch_size, seq_length = embeds.shape[:2]\n",
        "\n",
        "    # Create position IDs\n",
        "    position_ids = torch.arange(seq_length, device=embeds.device).unsqueeze(0).expand(batch_size, -1)\n",
        "\n",
        "    # Generate position embeddings for both global and local attention\n",
        "    position_embeddings_global = model.model.rotary_emb(embeds, position_ids)\n",
        "    position_embeddings_local = model.model.rotary_emb_local(embeds, position_ids)\n",
        "\n",
        "    # Create cache position for tracking position in sequence\n",
        "    cache_position = torch.arange(seq_length, device=embeds.device)\n",
        "\n",
        "    # Process through layers\n",
        "    hidden_states = embeds\n",
        "    for li in range(lstart, lsplit):\n",
        "\n",
        "        if key == 'layer_input':\n",
        "            outdict['layer_input']=hidden_states\n",
        "        elif key == 'attn_input':\n",
        "            outdict['attn_input']=hidden_states\n",
        "\n",
        "        # Store residual for skip connection\n",
        "        residual = hidden_states\n",
        "\n",
        "        # Apply input layer norm\n",
        "        hidden_states = model.model.layers[li].input_layernorm(hidden_states)\n",
        "\n",
        "        # Determine which position embeddings to use based on layer type\n",
        "        if model.model.layers[li].self_attn.is_sliding:\n",
        "            position_embeddings = position_embeddings_local\n",
        "        else:\n",
        "            position_embeddings = position_embeddings_global\n",
        "\n",
        "        attention_mask = torch.ones(batch_size, seq_length, dtype=torch.float, device=embeds.device)\n",
        "        causal_mask = model.model._update_causal_mask(\n",
        "            attention_mask,\n",
        "            embeds,\n",
        "            position_ids.squeeze(0),\n",
        "            None,  # past_key_values\n",
        "            False  # output_attentions\n",
        "        )\n",
        "\n",
        "        # Apply attention\n",
        "        hidden_states, self_attn_weights = model.model.layers[li].self_attn(\n",
        "            hidden_states=hidden_states,\n",
        "            position_embeddings=position_embeddings,\n",
        "            attention_mask=causal_mask,\n",
        "            cache_position=cache_position\n",
        "        )\n",
        "\n",
        "        # Save attention output if requested\n",
        "        if key == 'attn':\n",
        "            if li == lsplit - 1:\n",
        "                attn_output = model.model.norm(hidden_states)\n",
        "                outdict['attn'] = attn_output\n",
        "\n",
        "        # Apply post attention layer norm\n",
        "        hidden_states = model.model.layers[li].post_attention_layernorm(hidden_states)\n",
        "\n",
        "        # Add residual connection\n",
        "        hidden_states = residual + hidden_states\n",
        "\n",
        "        # Save attention output if requested\n",
        "        if key == 'attn_plus_residual':\n",
        "            if li == lsplit - 1:\n",
        "                attn_out = model.model.norm(hidden_states)\n",
        "                outdict['attn_plus_residual'] = attn_out\n",
        "\n",
        "        # Store residual for MLP block\n",
        "        residual = hidden_states\n",
        "\n",
        "        # Apply pre-feedforward layer norm\n",
        "        hidden_states = model.model.layers[li].pre_feedforward_layernorm(hidden_states)\n",
        "\n",
        "        if key == 'mlp_input':\n",
        "            outdict['mlp_input']=hidden_states\n",
        "\n",
        "        # Apply MLP\n",
        "        hidden_states = model.model.layers[li].mlp(hidden_states)\n",
        "\n",
        "        # Save MLP output if requested\n",
        "        if key == 'mlp':\n",
        "            if li == lsplit - 1:\n",
        "                mlp_output = model.model.norm(hidden_states)\n",
        "                outdict['mlp'] = mlp_output\n",
        "\n",
        "        # Apply post-feedforward layer norm\n",
        "        hidden_states = model.model.layers[li].post_feedforward_layernorm(hidden_states)\n",
        "\n",
        "        # Add residual connection\n",
        "        hidden_states = residual + hidden_states\n",
        "\n",
        "    # Apply final normalization if we processed all layers\n",
        "    if key != \"layer_input\" and li == lsplit - 1 and not transform_to_output:\n",
        "        hidden_states = model.model.norm(hidden_states)\n",
        "    # # Apply final normalization\n",
        "    # if li == len(self.model.model.layers) - 1:\n",
        "    #     hidden_states = self.model.model.norm(hidden_states)\n",
        "\n",
        "    # Store final layer output\n",
        "    outdict['layer'] = hidden_states\n",
        "\n",
        "    # Return the last token embedding of the first batch for the requested key\n",
        "    if key == \"layer_input\" or  key == \"attn_input\" or  key == \"mlp_input\":\n",
        "        return outdict[key]\n",
        "    else:\n",
        "        return outdict[key][0, -1]"
      ],
      "metadata": {
        "id": "4LAvwBxuzK40"
      },
      "execution_count": 18,
      "outputs": []
    },
    {
      "cell_type": "code",
      "source": [
        "#@title Verify forward function is the same as generate for train()\n",
        "model.train();\n",
        "torch.mean(torch.abs(outputs_train['hidden_states'][-1][-1][-1][-1]-model_forward(embeds)))"
      ],
      "metadata": {
        "id": "TIkNazth013k",
        "outputId": "123004cc-e27d-4eeb-942b-95d7a09f2c22",
        "colab": {
          "base_uri": "https://localhost:8080/"
        }
      },
      "execution_count": 44,
      "outputs": [
        {
          "output_type": "execute_result",
          "data": {
            "text/plain": [
              "tensor(0., device='cuda:0', dtype=torch.bfloat16, grad_fn=<MeanBackward0>)"
            ]
          },
          "metadata": {},
          "execution_count": 44
        }
      ]
    },
    {
      "cell_type": "code",
      "source": [
        "#@title Verify forward function is the same as generate for eval()\n",
        "model.eval();\n",
        "torch.mean(torch.abs(outputs['hidden_states'][-1][-1][-1][-1]-model_forward(embeds)))"
      ],
      "metadata": {
        "id": "AqwRXd3a54Sw",
        "outputId": "ed42bdd4-e80e-47ab-f15d-35b6967e9040",
        "colab": {
          "base_uri": "https://localhost:8080/"
        }
      },
      "execution_count": 45,
      "outputs": [
        {
          "output_type": "execute_result",
          "data": {
            "text/plain": [
              "tensor(0., device='cuda:0', dtype=torch.bfloat16, grad_fn=<MeanBackward0>)"
            ]
          },
          "metadata": {},
          "execution_count": 45
        }
      ]
    },
    {
      "cell_type": "code",
      "source": [
        "#@title Compute Jacobian\n",
        "%%time\n",
        "model.eval();\n",
        "\n",
        "# Get Jacobian matrices (one matrix for each input embedding vector)\n",
        "jacobian = torch.autograd.functional.jacobian(model_forward, embeds, vectorize=True,strategy=\"reverse-mode\").squeeze()\n",
        "\n",
        "# Sum(Jacobian_i*input_embedding_i) equals output\n",
        "jacobian_by_token = torch.stack([torch.matmul(jacobian[:,ii,:],embeds[0,ii,:].squeeze())[:] for ii in range(jacobian.shape[1])])\n",
        "jacobian_output = torch.sum(jacobian_by_token,dim=0)#.shape"
      ],
      "metadata": {
        "id": "dhrRWFNMzuE5",
        "outputId": "e35156b7-167d-4ade-954f-75868a974ca1",
        "colab": {
          "base_uri": "https://localhost:8080/"
        }
      },
      "execution_count": 21,
      "outputs": [
        {
          "output_type": "stream",
          "name": "stdout",
          "text": [
            "CPU times: user 4.35 s, sys: 3.91 s, total: 8.26 s\n",
            "Wall time: 9.9 s\n"
          ]
        }
      ]
    },
    {
      "cell_type": "code",
      "source": [
        "#@title Compare Jacobian reconstruction with output\n",
        "linear_jacobian_output = jacobian_output\n",
        "linear_jacobian_output_error = jacobian_output - outputs.hidden_states[-1][-1][0,-1]\n",
        "outnplinear = linear_jacobian_output_error.cpu().detach().float().numpy()\n",
        "xvalslin = outputs.hidden_states[-1][-1][-1][-1].cpu().detach().float().numpy()"
      ],
      "metadata": {
        "id": "GRYpJzTFz2o1"
      },
      "execution_count": 22,
      "outputs": []
    },
    {
      "cell_type": "code",
      "source": [
        "fig, axs = plt.subplots(1,2,figsize=(12,5))\n",
        "axs = axs.flat\n",
        "print(\"For lowest Jacobian error, run at float32 precision on an A100. You can also run float32 on CPU on an L4 but it is slow.\")\n",
        "for n, ax in enumerate(axs):\n",
        "\n",
        "    if n == 0:\n",
        "\n",
        "        ax.plot([1.02*np.min(xvalslin), 1.02*np.max(xvalslin)], [1.02*np.min(xvalslin), 1.02*np.max(xvalslin)], 'k', linewidth=0.3)\n",
        "        ax.scatter(xvalslin,(jacobian_output).cpu().detach().float().numpy(),5,'r',marker='x');\n",
        "\n",
        "        ax.set_xlabel('Predicted Output Embedding')\n",
        "        ax.set_ylabel('Sum (Jacobian_i·input_embedding_vector_i)')\n",
        "        ax.legend(['Identity (locally linear)', 'Detached Jacobian Reconstruction'])\n",
        "        ax.set_title('Gemma 3 4B IT\\nOutput vs. Sum(Jacobian_i·input_i)')\n",
        "        ax.grid()\n",
        "    if n == 1:\n",
        "        outnp = linear_jacobian_output_error.cpu().detach().float().numpy()\n",
        "        ax.hist(outnp/np.std(outputs.hidden_states[-1][-1][-1][-1].cpu().detach().float().numpy()),bins=40)#,range=[-20,20])#,range=[-7.5e-6,7.5e-6]);\n",
        "        ax.set_ylabel('Counts')\n",
        "        ax.set_xlabel('Output - Sum(Jacobian_i·(input embedding vector_i)')\n",
        "        ax.grid()\n",
        "        ax.set_title('Gemma 3 4B IT\\nOutput - Sum(Jacobian_i·input_i)\\nstdev = '+\"{val:1.2e}\".format(val=np.std(outnp)/np.std(outputs.hidden_states[-1][-1][-1][-1].cpu().detach().float().numpy())))"
      ],
      "metadata": {
        "id": "BZBDCn8C1Y32",
        "outputId": "9ffc48e4-2b25-437e-cf8d-48f344b3999e",
        "colab": {
          "base_uri": "https://localhost:8080/",
          "height": 546
        }
      },
      "execution_count": 23,
      "outputs": [
        {
          "output_type": "stream",
          "name": "stdout",
          "text": [
            "For lowest Jacobian error, run at float32 precision on an A100. You can also run float32 on CPU on an L4 but it is slow.\n"
          ]
        },
        {
          "output_type": "display_data",
          "data": {
            "text/plain": [
              "<Figure size 1200x500 with 2 Axes>"
            ],
            "image/png": "[encoded data removed]"
          },
          "metadata": {}
        }
      ]
    },
    {
      "cell_type": "code",
      "source": [],
      "metadata": {
        "id": "DFjmiVkJykkX"
      },
      "execution_count": null,
      "outputs": []
    }
  ]
}